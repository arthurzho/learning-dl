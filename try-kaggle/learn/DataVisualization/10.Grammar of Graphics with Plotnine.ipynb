{
 "cells": [
  {
   "cell_type": "code",
   "execution_count": null,
   "metadata": {
    "scrolled": true
   },
   "outputs": [],
   "source": [
    "import pandas as pd\n",
    "reviews = pd.read_csv(\"../input/wine-reviews/winemag-data-130k-v2.csv\", index_col=0)\n",
    "reviews.head(3)"
   ]
  },
  {
   "cell_type": "code",
   "execution_count": null,
   "metadata": {
    "scrolled": true
   },
   "outputs": [],
   "source": [
    "from plotnine import *"
   ]
  },
  {
   "cell_type": "code",
   "execution_count": null,
   "metadata": {},
   "outputs": [],
   "source": [
    "top_wines = reviews[reviews['variety'].isin(reviews['variety'].value_counts().head(5).index)]"
   ]
  },
  {
   "cell_type": "code",
   "execution_count": null,
   "metadata": {
    "scrolled": true
   },
   "outputs": [],
   "source": [
    "df = top_wines.head(1000).dropna()\n",
    "\n",
    "(ggplot(df)\n",
    " + aes('points', 'price')\n",
    " + geom_point())"
   ]
  },
  {
   "cell_type": "code",
   "execution_count": null,
   "metadata": {
    "scrolled": true
   },
   "outputs": [],
   "source": [
    "df = top_wines.head(1000).dropna()\n",
    "\n",
    "(\n",
    "    ggplot(df)\n",
    "        + aes('points', 'price')\n",
    "        + geom_point()\n",
    "        + stat_smooth()\n",
    ")"
   ]
  },
  {
   "cell_type": "code",
   "execution_count": null,
   "metadata": {
    "scrolled": true
   },
   "outputs": [],
   "source": [
    "df = top_wines.head(1000).dropna()\n",
    "\n",
    "(\n",
    "    ggplot(df)\n",
    "        + geom_point()\n",
    "        + aes(color='points')\n",
    "        + aes('points', 'price')\n",
    "        + stat_smooth()\n",
    ")"
   ]
  },
  {
   "cell_type": "code",
   "execution_count": null,
   "metadata": {
    "scrolled": true
   },
   "outputs": [],
   "source": [
    "df = top_wines.head(1000).dropna()\n",
    "\n",
    "(ggplot(df)\n",
    "     + aes('points', 'price')\n",
    "     + aes(color='points')\n",
    "     + geom_point()\n",
    "     + stat_smooth()\n",
    "     + facet_wrap('~variety')\n",
    ")"
   ]
  },
  {
   "cell_type": "code",
   "execution_count": null,
   "metadata": {
    "scrolled": true
   },
   "outputs": [],
   "source": [
    "(ggplot(df)\n",
    " + geom_point(aes('points', 'price'))\n",
    ")"
   ]
  },
  {
   "cell_type": "code",
   "execution_count": null,
   "metadata": {
    "scrolled": true
   },
   "outputs": [],
   "source": [
    "(ggplot(df, aes('points', 'price'))\n",
    " + geom_point()\n",
    ")"
   ]
  },
  {
   "cell_type": "code",
   "execution_count": null,
   "metadata": {
    "scrolled": true
   },
   "outputs": [],
   "source": [
    "(ggplot(top_wines)\n",
    "     + aes('points')\n",
    "     + geom_bar()\n",
    ")"
   ]
  },
  {
   "cell_type": "code",
   "execution_count": null,
   "metadata": {
    "scrolled": true
   },
   "outputs": [],
   "source": [
    "(ggplot(top_wines)\n",
    "     + aes('points', 'variety')\n",
    "     + geom_bin2d(bins=20)\n",
    ")"
   ]
  },
  {
   "cell_type": "code",
   "execution_count": null,
   "metadata": {
    "scrolled": true
   },
   "outputs": [],
   "source": [
    "(ggplot(top_wines)\n",
    "         + aes('points', 'variety')\n",
    "         + geom_bin2d(bins=20)\n",
    "         + coord_fixed(ratio=1)\n",
    "         + ggtitle(\"Top Five Most Common Wine Variety Points Awarded\")\n",
    ")"
   ]
  },
  {
   "cell_type": "code",
   "execution_count": null,
   "metadata": {
    "scrolled": true
   },
   "outputs": [],
   "source": [
    "pokemon = pd.read_csv(\"../input/pokemon/Pokemon.csv\", index_col=0)\\\n",
    "                        .rename(columns=lambda x: x.replace(\" \", \"_\"))\n",
    "pokemon.head(3)"
   ]
  },
  {
   "cell_type": "code",
   "execution_count": null,
   "metadata": {
    "scrolled": true
   },
   "outputs": [],
   "source": [
    "(\n",
    "    ggplot(pokemon, aes('Attack', 'Defense'))\n",
    "        + geom_point()\n",
    ")"
   ]
  },
  {
   "cell_type": "code",
   "execution_count": null,
   "metadata": {
    "scrolled": true
   },
   "outputs": [],
   "source": [
    "(\n",
    "    ggplot(pokemon, aes('Attack', 'Defense'))\n",
    "        + geom_point()\n",
    ")"
   ]
  },
  {
   "cell_type": "code",
   "execution_count": null,
   "metadata": {
    "scrolled": false
   },
   "outputs": [],
   "source": [
    "(\n",
    "    ggplot(pokemon, aes('Attack', 'Defense', color='Legendary'))\n",
    "        + geom_point()\n",
    "        + ggtitle(\"Pokemon Attack and Defense by Legendary Status\")\n",
    ")"
   ]
  },
  {
   "cell_type": "code",
   "execution_count": null,
   "metadata": {},
   "outputs": [],
   "source": [
    "(\n",
    "    ggplot(pokemon, aes('Attack'))\n",
    "        + geom_histogram(bins=20)\n",
    ") + facet_wrap('~Generation')"
   ]
  }
 ],
 "metadata": {
  "kernelspec": {
   "display_name": "Python 3",
   "language": "python",
   "name": "python3"
  },
  "language_info": {
   "codemirror_mode": {
    "name": "ipython",
    "version": 3
   },
   "file_extension": ".py",
   "mimetype": "text/x-python",
   "name": "python",
   "nbconvert_exporter": "python",
   "pygments_lexer": "ipython3",
   "version": "3.5.2"
  }
 },
 "nbformat": 4,
 "nbformat_minor": 2
}
