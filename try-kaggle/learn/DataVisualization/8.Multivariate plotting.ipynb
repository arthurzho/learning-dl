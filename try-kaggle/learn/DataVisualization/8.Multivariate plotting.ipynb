{
 "cells": [
  {
   "cell_type": "code",
   "execution_count": null,
   "metadata": {},
   "outputs": [],
   "source": [
    "import pandas as pd\n",
    "pd.set_option('max_columns', None)\n",
    "df = pd.read_csv(\"../input/fifa-18-demo-player-dataset/CompleteDataset.csv\", index_col=0)\n",
    "\n",
    "import re\n",
    "import numpy as np\n",
    "\n",
    "footballers = df.copy()\n",
    "footballers['Unit'] = df['Value'].str[-1]\n",
    "footballers['Value (M)'] = np.where(footballers['Unit'] == '0', 0, \n",
    "                                    footballers['Value'].str[1:-1].replace(r'[a-zA-Z]',''))\n",
    "footballers['Value (M)'] = footballers['Value (M)'].astype(float)\n",
    "footballers['Value (M)'] = np.where(footballers['Unit'] == 'M', \n",
    "                                    footballers['Value (M)'], \n",
    "                                    footballers['Value (M)']/1000)\n",
    "footballers = footballers.assign(Value=footballers['Value (M)'],\n",
    "                                 Position=footballers['Preferred Positions'].str.split().str[0])"
   ]
  },
  {
   "cell_type": "code",
   "execution_count": null,
   "metadata": {},
   "outputs": [],
   "source": [
    "footballers.head()"
   ]
  },
  {
   "cell_type": "code",
   "execution_count": null,
   "metadata": {},
   "outputs": [],
   "source": [
    "import seaborn as sns\n",
    "\n",
    "sns.lmplot(x='Value', y='Overall', hue='Position', \n",
    "           data=footballers.loc[footballers['Position'].isin(['ST', 'RW', 'LW'])], \n",
    "           fit_reg=False)"
   ]
  },
  {
   "cell_type": "code",
   "execution_count": null,
   "metadata": {},
   "outputs": [],
   "source": [
    "sns.lmplot(x='Value', y='Overall', markers=['o', 'x', '*'], hue='Position',\n",
    "           data=footballers.loc[footballers['Position'].isin(['ST', 'RW', 'LW'])],\n",
    "           fit_reg=False\n",
    "          )"
   ]
  },
  {
   "cell_type": "code",
   "execution_count": null,
   "metadata": {},
   "outputs": [],
   "source": [
    "f = (footballers\n",
    "         .loc[footballers['Position'].isin(['ST', 'GK'])]\n",
    "         .loc[:, ['Value', 'Overall', 'Aggression', 'Position']]\n",
    "    )\n",
    "f = f[f[\"Overall\"] >= 80]\n",
    "f = f[f[\"Overall\"] < 85]\n",
    "f['Aggression'] = f['Aggression'].astype(float)\n",
    "\n",
    "sns.boxplot(x=\"Overall\", y=\"Aggression\", hue='Position', data=f)\n"
   ]
  },
  {
   "cell_type": "code",
   "execution_count": null,
   "metadata": {},
   "outputs": [],
   "source": [
    "\n",
    "\n",
    "f = (\n",
    "    footballers.loc[:, ['Acceleration', 'Aggression', 'Agility', 'Balance', 'Ball control']]\n",
    "        .applymap(lambda v: int(v) if str.isdecimal(v) else np.nan)\n",
    "        .dropna()\n",
    ").corr()\n",
    "\n",
    "sns.heatmap(f, annot=True)\n",
    "\n"
   ]
  },
  {
   "cell_type": "code",
   "execution_count": null,
   "metadata": {},
   "outputs": [],
   "source": [
    "from pandas.plotting import parallel_coordinates\n",
    "\n",
    "f = (\n",
    "    footballers.iloc[:, 12:17]\n",
    "        .loc[footballers['Position'].isin(['ST', 'GK'])]\n",
    "        .applymap(lambda v: int(v) if str.isdecimal(v) else np.nan)\n",
    "        .dropna()\n",
    ")\n",
    "f['Position'] = footballers['Position']\n",
    "f = f.sample(200)\n",
    "\n",
    "parallel_coordinates(f, 'Position')"
   ]
  },
  {
   "cell_type": "code",
   "execution_count": null,
   "metadata": {},
   "outputs": [],
   "source": [
    "pokemon = pd.read_csv(\"../input/pokemon/Pokemon.csv\", index_col=0)\n",
    "pokemon.head()"
   ]
  },
  {
   "cell_type": "code",
   "execution_count": null,
   "metadata": {},
   "outputs": [],
   "source": [
    "import seaborn as sns\n",
    "\n",
    "sns.lmplot(x='Attack', y='Defense', hue='Legendary', \n",
    "           markers=['x', 'o'],\n",
    "           fit_reg=False, data=pokemon)"
   ]
  },
  {
   "cell_type": "code",
   "execution_count": null,
   "metadata": {},
   "outputs": [],
   "source": [
    "sns.boxplot(x=\"Generation\", y=\"Total\", hue='Legendary', data=pokemon)"
   ]
  },
  {
   "cell_type": "code",
   "execution_count": null,
   "metadata": {},
   "outputs": [],
   "source": [
    "sns.heatmap(\n",
    "    pokemon.loc[:, ['HP', 'Attack', 'Sp. Atk', 'Defense', 'Sp. Def', 'Speed']].corr(),\n",
    "    annot=True\n",
    ")"
   ]
  },
  {
   "cell_type": "code",
   "execution_count": null,
   "metadata": {},
   "outputs": [],
   "source": [
    "\n",
    "\n",
    "import pandas as pd\n",
    "from pandas.plotting import parallel_coordinates\n",
    "\n",
    "p = (pokemon[(pokemon['Type 1'].isin([\"Psychic\", \"Fighting\"]))]\n",
    "         .loc[:, ['Type 1', 'Attack', 'Sp. Atk', 'Defense', 'Sp. Def']]\n",
    "    )\n",
    "\n",
    "parallel_coordinates(p, 'Type 1')\n",
    "\n"
   ]
  },
  {
   "cell_type": "code",
   "execution_count": null,
   "metadata": {},
   "outputs": [],
   "source": []
  },
  {
   "cell_type": "code",
   "execution_count": null,
   "metadata": {},
   "outputs": [],
   "source": []
  },
  {
   "cell_type": "code",
   "execution_count": null,
   "metadata": {},
   "outputs": [],
   "source": []
  }
 ],
 "metadata": {
  "kernelspec": {
   "display_name": "Python 3",
   "language": "python",
   "name": "python3"
  },
  "language_info": {
   "codemirror_mode": {
    "name": "ipython",
    "version": 3
   },
   "file_extension": ".py",
   "mimetype": "text/x-python",
   "name": "python",
   "nbconvert_exporter": "python",
   "pygments_lexer": "ipython3",
   "version": "3.5.2"
  }
 },
 "nbformat": 4,
 "nbformat_minor": 2
}
