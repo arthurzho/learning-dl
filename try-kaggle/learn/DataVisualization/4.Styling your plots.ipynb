{
 "cells": [
  {
   "cell_type": "code",
   "execution_count": null,
   "metadata": {
    "scrolled": true
   },
   "outputs": [],
   "source": [
    "import pandas as pd\n",
    "reviews = pd.read_csv(\"../input/wine-reviews/winemag-data_first150k.csv\", index_col=0)\n",
    "reviews.head(3)"
   ]
  },
  {
   "cell_type": "code",
   "execution_count": null,
   "metadata": {
    "scrolled": true
   },
   "outputs": [],
   "source": [
    "reviews['points'].value_counts().sort_index().plot.bar()"
   ]
  },
  {
   "cell_type": "code",
   "execution_count": null,
   "metadata": {
    "scrolled": true
   },
   "outputs": [],
   "source": [
    "reviews['points'].value_counts().sort_index().plot.bar(figsize=(12, 6))"
   ]
  },
  {
   "cell_type": "code",
   "execution_count": null,
   "metadata": {
    "scrolled": true
   },
   "outputs": [],
   "source": [
    "reviews['points'].value_counts().sort_index().plot.bar(\n",
    "    figsize=(12, 6),\n",
    "    color='mediumvioletred'\n",
    ")"
   ]
  },
  {
   "cell_type": "code",
   "execution_count": null,
   "metadata": {
    "scrolled": true
   },
   "outputs": [],
   "source": [
    "\n",
    "\n",
    "reviews['points'].value_counts().sort_index().plot.bar(\n",
    "    figsize=(12, 6),\n",
    "    color='mediumvioletred',\n",
    "    fontsize=16\n",
    ")\n",
    "\n"
   ]
  },
  {
   "cell_type": "code",
   "execution_count": null,
   "metadata": {
    "scrolled": true
   },
   "outputs": [],
   "source": [
    "reviews['points'].value_counts().sort_index().plot.bar(\n",
    "    figsize=(12, 6),\n",
    "    color='mediumvioletred',\n",
    "    fontsize=16,\n",
    "    title='Rankings Given by Wine Magazine',\n",
    ")"
   ]
  },
  {
   "cell_type": "code",
   "execution_count": null,
   "metadata": {
    "scrolled": true
   },
   "outputs": [],
   "source": [
    "import matplotlib.pyplot as plt\n",
    "\n",
    "ax = reviews['points'].value_counts().sort_index().plot.bar(\n",
    "    figsize=(12, 6),\n",
    "    color='mediumvioletred',\n",
    "    fontsize=16\n",
    ")\n",
    "ax.set_title(\"Rankings Given by Wine Magazine\", fontsize=20)"
   ]
  },
  {
   "cell_type": "code",
   "execution_count": null,
   "metadata": {
    "scrolled": true
   },
   "outputs": [],
   "source": [
    "\n",
    "\n",
    "import matplotlib.pyplot as plt\n",
    "import seaborn as sns\n",
    "\n",
    "ax = reviews['points'].value_counts().sort_index().plot.bar(\n",
    "    figsize=(12, 6),\n",
    "    color='mediumvioletred',\n",
    "    fontsize=16\n",
    ")\n",
    "ax.set_title(\"Rankings Given by Wine Magazine\", fontsize=20)\n",
    "sns.despine(bottom=True, left=True)\n",
    "\n"
   ]
  },
  {
   "cell_type": "code",
   "execution_count": null,
   "metadata": {},
   "outputs": [],
   "source": [
    "\n"
   ]
  },
  {
   "cell_type": "code",
   "execution_count": null,
   "metadata": {
    "scrolled": true
   },
   "outputs": [],
   "source": [
    "import pandas as pd\n",
    "import matplotlib.pyplot as plt\n",
    "import seaborn as sns\n",
    "\n",
    "pokemon = pd.read_csv(\"../input/pokemon/Pokemon.csv\")\n",
    "pokemon.head(3)\n"
   ]
  },
  {
   "cell_type": "code",
   "execution_count": null,
   "metadata": {
    "scrolled": true
   },
   "outputs": [],
   "source": [
    "pokemon.plot.scatter(x='Attack', y='Defense',\n",
    "                     figsize=(12, 6),\n",
    "                     title='Pokemon by Attack and Defense')"
   ]
  },
  {
   "cell_type": "code",
   "execution_count": null,
   "metadata": {
    "scrolled": true
   },
   "outputs": [],
   "source": [
    "ax = pokemon['Total'].plot.hist(\n",
    "    figsize=(12, 6),\n",
    "    fontsize=14,\n",
    "    bins=50,\n",
    "    color='gray'\n",
    ")\n",
    "ax.set_title('Pokemon by Stat Total', fontsize=20)\n"
   ]
  },
  {
   "cell_type": "code",
   "execution_count": null,
   "metadata": {
    "scrolled": true
   },
   "outputs": [],
   "source": [
    "ax = pokemon['Type 1'].value_counts().plot.bar(\n",
    "    figsize=(12, 6),\n",
    "    fontsize=14\n",
    ")\n",
    "ax.set_title(\"Pokemon by Primary Type\", fontsize=20)\n",
    "sns.despine(bottom=True, left=True)"
   ]
  }
 ],
 "metadata": {
  "kernelspec": {
   "display_name": "Python 3",
   "language": "python",
   "name": "python3"
  },
  "language_info": {
   "codemirror_mode": {
    "name": "ipython",
    "version": 3
   },
   "file_extension": ".py",
   "mimetype": "text/x-python",
   "name": "python",
   "nbconvert_exporter": "python",
   "pygments_lexer": "ipython3",
   "version": "3.5.2"
  }
 },
 "nbformat": 4,
 "nbformat_minor": 2
}
