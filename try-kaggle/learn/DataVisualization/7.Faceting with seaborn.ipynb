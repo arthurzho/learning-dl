{
 "cells": [
  {
   "cell_type": "code",
   "execution_count": null,
   "metadata": {},
   "outputs": [],
   "source": [
    "import pandas as pd\n",
    "pd.set_option('max_columns', None)\n",
    "df = pd.read_csv(\"../input/fifa-18-demo-player-dataset/CompleteDataset.csv\", index_col=0)\n",
    "\n",
    "import re\n",
    "import numpy as np\n",
    "\n",
    "footballers = df.copy()\n",
    "footballers['Unit'] = df['Value'].str[-1]\n",
    "footballers['Value (M)'] = np.where(footballers['Unit'] == '0', 0, \n",
    "                                    footballers['Value'].str[1:-1].replace(r'[a-zA-Z]',''))\n",
    "footballers['Value (M)'] = footballers['Value (M)'].astype(float)\n",
    "footballers['Value (M)'] = np.where(footballers['Unit'] == 'M', \n",
    "                                    footballers['Value (M)'], \n",
    "                                    footballers['Value (M)']/1000)\n",
    "footballers = footballers.assign(Value=footballers['Value (M)'],\n",
    "                                 Position=footballers['Preferred Positions'].str.split().str[0])"
   ]
  },
  {
   "cell_type": "code",
   "execution_count": null,
   "metadata": {},
   "outputs": [],
   "source": [
    "footballers.head()"
   ]
  },
  {
   "cell_type": "code",
   "execution_count": null,
   "metadata": {},
   "outputs": [],
   "source": [
    "import seaborn as sns"
   ]
  },
  {
   "cell_type": "code",
   "execution_count": null,
   "metadata": {
    "scrolled": true
   },
   "outputs": [],
   "source": [
    "df = footballers[footballers['Position'].isin(['ST', 'GK'])]\n",
    "g = sns.FacetGrid(df, col=\"Position\")"
   ]
  },
  {
   "cell_type": "code",
   "execution_count": null,
   "metadata": {},
   "outputs": [],
   "source": [
    "df = footballers[footballers['Position'].isin(['ST', 'GK'])]\n",
    "g = sns.FacetGrid(df, col=\"Position\")\n",
    "g.map(sns.kdeplot, \"Overall\")\n"
   ]
  },
  {
   "cell_type": "code",
   "execution_count": null,
   "metadata": {
    "scrolled": true
   },
   "outputs": [],
   "source": [
    "df = footballers\n",
    "\n",
    "g = sns.FacetGrid(df, col=\"Position\", col_wrap=6)\n",
    "g.map(sns.kdeplot, \"Overall\")"
   ]
  },
  {
   "cell_type": "code",
   "execution_count": null,
   "metadata": {},
   "outputs": [],
   "source": [
    "\n",
    "\n",
    "df = footballers[footballers['Position'].isin(['ST', 'GK'])]\n",
    "df = df[df['Club'].isin(['Real Madrid CF', 'FC Barcelona', 'Atlético Madrid'])]\n",
    "\n",
    "g = sns.FacetGrid(df, row=\"Position\", col=\"Club\")\n",
    "g.map(sns.violinplot, \"Overall\")\n",
    "\n"
   ]
  },
  {
   "cell_type": "code",
   "execution_count": null,
   "metadata": {
    "scrolled": true
   },
   "outputs": [],
   "source": [
    "df = footballers[footballers['Position'].isin(['ST', 'GK'])]\n",
    "df = df[df['Club'].isin(['Real Madrid CF', 'FC Barcelona', 'Atlético Madrid'])]\n",
    "\n",
    "g = sns.FacetGrid(df, row=\"Position\", col=\"Club\", \n",
    "                  row_order=['GK', 'ST'],\n",
    "                  col_order=['Atlético Madrid', 'FC Barcelona', 'Real Madrid CF'])\n",
    "g.map(sns.violinplot, \"Overall\")"
   ]
  },
  {
   "cell_type": "code",
   "execution_count": null,
   "metadata": {},
   "outputs": [],
   "source": [
    "sns.pairplot(footballers[['Overall', 'Potential', 'Value']])"
   ]
  },
  {
   "cell_type": "code",
   "execution_count": null,
   "metadata": {},
   "outputs": [],
   "source": [
    "import pandas as pd\n",
    "import seaborn as sns\n",
    "\n",
    "pokemon = pd.read_csv(\"../input/pokemon/Pokemon.csv\", index_col=0)\n",
    "pokemon.head(3)"
   ]
  },
  {
   "cell_type": "code",
   "execution_count": null,
   "metadata": {
    "scrolled": true
   },
   "outputs": [],
   "source": [
    "g = sns.FacetGrid(pokemon, col=\"Legendary\", row=\"Generation\")\n",
    "g.map(sns.kdeplot, \"Attack\")"
   ]
  },
  {
   "cell_type": "code",
   "execution_count": null,
   "metadata": {},
   "outputs": [],
   "source": [
    "sns.pairplot(pokemon[['HP', 'Attack', 'Defense']])"
   ]
  },
  {
   "cell_type": "code",
   "execution_count": null,
   "metadata": {},
   "outputs": [],
   "source": []
  }
 ],
 "metadata": {
  "kernelspec": {
   "display_name": "Python 3",
   "language": "python",
   "name": "python3"
  },
  "language_info": {
   "codemirror_mode": {
    "name": "ipython",
    "version": 3
   },
   "file_extension": ".py",
   "mimetype": "text/x-python",
   "name": "python",
   "nbconvert_exporter": "python",
   "pygments_lexer": "ipython3",
   "version": "3.5.2"
  }
 },
 "nbformat": 4,
 "nbformat_minor": 2
}
