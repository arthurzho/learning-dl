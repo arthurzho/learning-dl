{
 "cells": [
  {
   "cell_type": "code",
   "execution_count": null,
   "metadata": {},
   "outputs": [],
   "source": [
    "import pandas as pd\n",
    "reviews = pd.read_csv(\"../input/wine-reviews/winemag-data_first150k.csv\", index_col=0)\n",
    "reviews.head(3)"
   ]
  },
  {
   "cell_type": "code",
   "execution_count": null,
   "metadata": {},
   "outputs": [],
   "source": [
    "import matplotlib.pyplot as plt\n",
    "fig, axarr = plt.subplots(2, 1, figsize=(12, 8))"
   ]
  },
  {
   "cell_type": "code",
   "execution_count": null,
   "metadata": {
    "scrolled": true
   },
   "outputs": [],
   "source": [
    "axarr"
   ]
  },
  {
   "cell_type": "code",
   "execution_count": null,
   "metadata": {
    "scrolled": true
   },
   "outputs": [],
   "source": [
    "fig, axarr = plt.subplots(2, 1, figsize=(12, 8))\n",
    "\n",
    "reviews['points'].value_counts().sort_index().plot.bar(\n",
    "    ax=axarr[0]\n",
    ")\n",
    "\n",
    "reviews['province'].value_counts().head(20).plot.bar(\n",
    "    ax=axarr[1]\n",
    ")"
   ]
  },
  {
   "cell_type": "code",
   "execution_count": null,
   "metadata": {
    "scrolled": true
   },
   "outputs": [],
   "source": [
    "fig, axarr = plt.subplots(2, 2, figsize=(12, 8))"
   ]
  },
  {
   "cell_type": "code",
   "execution_count": null,
   "metadata": {
    "scrolled": true
   },
   "outputs": [],
   "source": [
    "axarr\n"
   ]
  },
  {
   "cell_type": "code",
   "execution_count": null,
   "metadata": {
    "scrolled": true
   },
   "outputs": [],
   "source": [
    "fig, axarr = plt.subplots(2, 2, figsize=(12, 8))\n",
    "\n",
    "reviews['points'].value_counts().sort_index().plot.bar(\n",
    "    ax=axarr[0][0]\n",
    ")\n",
    "\n",
    "reviews['province'].value_counts().head(20).plot.bar(\n",
    "    ax=axarr[1][1]\n",
    ")\n"
   ]
  },
  {
   "cell_type": "code",
   "execution_count": null,
   "metadata": {
    "scrolled": true
   },
   "outputs": [],
   "source": [
    "fig, axarr = plt.subplots(2, 2, figsize=(12, 8))\n",
    "\n",
    "reviews['points'].value_counts().sort_index().plot.bar(\n",
    "    ax=axarr[0][0], fontsize=12, color='mediumvioletred'\n",
    ")\n",
    "axarr[0][0].set_title(\"Wine Scores\", fontsize=18)\n",
    "\n",
    "reviews['variety'].value_counts().head(20).plot.bar(\n",
    "    ax=axarr[1][0], fontsize=12, color='mediumvioletred'\n",
    ")\n",
    "axarr[1][0].set_title(\"Wine Varieties\", fontsize=18)\n",
    "\n",
    "reviews['province'].value_counts().head(20).plot.bar(\n",
    "    ax=axarr[1][1], fontsize=12, color='mediumvioletred'\n",
    ")\n",
    "axarr[1][1].set_title(\"Wine Origins\", fontsize=18)\n",
    "\n",
    "reviews['price'].value_counts().plot.hist(\n",
    "    ax=axarr[0][1], fontsize=12, color='mediumvioletred'\n",
    ")\n",
    "axarr[0][1].set_title(\"Wine Prices\", fontsize=18)\n",
    "\n",
    "plt.subplots_adjust(hspace=.3)\n",
    "\n",
    "import seaborn as sns\n",
    "sns.despine()"
   ]
  },
  {
   "cell_type": "code",
   "execution_count": null,
   "metadata": {
    "scrolled": true
   },
   "outputs": [],
   "source": [
    "import pandas as pd\n",
    "import matplotlib.pyplot as plt\n",
    "pokemon = pd.read_csv(\"../input/pokemon/Pokemon.csv\")\n",
    "pokemon.head(3)"
   ]
  },
  {
   "cell_type": "markdown",
   "metadata": {},
   "source": [
    "(Hint: use figsize=(8, 8))\n",
    "\n",
    "(<matplotlib.figure.Figure at 0x7f78faf9ce80>,\n",
    " array([<matplotlib.axes._subplots.AxesSubplot object at 0x7f7895d970f0>,\n",
    "        <matplotlib.axes._subplots.AxesSubplot object at 0x7f7895dbc438>],\n",
    "       dtype=object))\n",
    "\n",
    "<matplotlib.axes._subplots.AxesSubplot at 0x7f7895ce0400>\n"
   ]
  },
  {
   "cell_type": "code",
   "execution_count": null,
   "metadata": {
    "scrolled": true
   },
   "outputs": [],
   "source": [
    "plt.subplots(2, 1, figsize=(8, 8))"
   ]
  },
  {
   "cell_type": "code",
   "execution_count": null,
   "metadata": {},
   "outputs": [],
   "source": [
    "fig, axarr = plt.subplots(2, 1, figsize=(8, 8))\n",
    "pokemon['Attack'].plot.hist(ax=axarr[0], title='Pokemon Attack Ratings')\n",
    "pokemon['Defense'].plot.hist(ax=axarr[1], title='Pokemon Defense Ratings')"
   ]
  }
 ],
 "metadata": {
  "kernelspec": {
   "display_name": "Python 3",
   "language": "python",
   "name": "python3"
  },
  "language_info": {
   "codemirror_mode": {
    "name": "ipython",
    "version": 3
   },
   "file_extension": ".py",
   "mimetype": "text/x-python",
   "name": "python",
   "nbconvert_exporter": "python",
   "pygments_lexer": "ipython3",
   "version": "3.5.2"
  }
 },
 "nbformat": 4,
 "nbformat_minor": 2
}
