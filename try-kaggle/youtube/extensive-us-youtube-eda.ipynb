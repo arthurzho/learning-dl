{
 "cells": [
  {
   "cell_type": "markdown",
   "metadata": {
    "_cell_guid": "5e3fd420-a605-4f83-891a-8eed9a1a3687",
    "_uuid": "3d5ca6f1f32bc5c00d0820a1668c998544851c17"
   },
   "source": [
    "<h1> Welcome to Extensive US Youtube [EDA] kernel. </h1>\n"
   ]
  },
  {
   "cell_type": "markdown",
   "metadata": {
    "_cell_guid": "c3d4f5d7-6fda-446c-90c7-1a627de7b041",
    "_uuid": "ef05df3663716840e7599997401a73259ddd4a99"
   },
   "source": [
    "<i>English is not my first language, so sorry about any error.</i>"
   ]
  },
  {
   "cell_type": "markdown",
   "metadata": {
    "_cell_guid": "4b10a4b2-6d8b-4075-9bcf-1f23de312e6c",
    "_uuid": "40baed7a70906f46d4ec84074efebaf27b8ddb3f"
   },
   "source": [
    "I will analyse the youtube data to undersand the US videos patterns.\n",
    "\n",
    "We will find for some informations like:\n",
    "\n",
    "- What's the most viewed type and category?\n",
    "- The metrics stats have the same distribuition to all category's?\n",
    "- Whats the most frequent words in titles, descriptions, tags? \n",
    "- Which type of category has more comments?\n",
    "- And a lot of another interesting questions that we will find"
   ]
  },
  {
   "cell_type": "markdown",
   "metadata": {
    "_cell_guid": "40d60e4c-cdba-4c81-8758-4228cdc65163",
    "_uuid": "fd66d095e065d03072b569f4a8dcbfd9222e0779"
   },
   "source": [
    "Give me your feedback and if you like my kernel <b>votes up</b> <br>\n",
    "# NOTE: If you want to see the complete code Fork this kernel"
   ]
  },
  {
   "cell_type": "markdown",
   "metadata": {
    "_cell_guid": "28a6526f-d9d1-4f7b-9894-9383fb570b07",
    "_uuid": "449477506ccff5337a64f342c4c5e03aa7555137"
   },
   "source": [
    "<h2>Importing librarys and data</h2>"
   ]
  },
  {
   "cell_type": "code",
   "execution_count": null,
   "metadata": {
    "_cell_guid": "79c7e3d0-c299-4dcb-8224-4455121ee9b0",
    "_uuid": "d629ff2d2480ee46fbb7e2d37f6b5fab8052498a"
   },
   "outputs": [],
   "source": [
    "# To manipulate data, NLP and visualizations\n",
    "import pandas as pd\n",
    "import numpy as np\n",
    "import seaborn as sns\n",
    "import matplotlib.pyplot as plt\n",
    "import os\n",
    "from subprocess import check_output\n",
    "from wordcloud import WordCloud, STOPWORDS\n",
    "\n",
    "# Standard plotly imports\n",
    "import plotly.plotly as py\n",
    "import plotly.graph_objs as go\n",
    "import plotly.tools as tls\n",
    "from plotly.offline import iplot, init_notebook_mode\n",
    "import cufflinks\n",
    "\n",
    "# Using plotly + cufflinks in offline mode\n",
    "init_notebook_mode(connected=True)\n",
    "cufflinks.go_offline(connected=True)\n",
    "\n",
    "# To interactive buttons\n",
    "import ipywidgets as widgets\n",
    "from ipywidgets import interact, interact_manual\n",
    "\n",
    "import warnings\n",
    "warnings.filterwarnings(\"ignore\")"
   ]
  },
  {
   "cell_type": "code",
   "execution_count": null,
   "metadata": {
    "_cell_guid": "9e56b11f-6d35-43eb-be32-582dc06d98f6",
    "_uuid": "16b0901fa8513f638c3328d58a24aee2b09c9ce4"
   },
   "outputs": [],
   "source": [
    "df_yout = pd.read_csv(\"data/USvideos.csv\", nrows=15000)"
   ]
  },
  {
   "cell_type": "markdown",
   "metadata": {},
   "source": [
    "## Shape and Unique values"
   ]
  },
  {
   "cell_type": "code",
   "execution_count": null,
   "metadata": {
    "_cell_guid": "91027b81-bead-42b6-9944-8560899ba7d8",
    "_kg_hide-input": true,
    "_uuid": "33b732062bc8aad3025b9848eed819ee77d42e2f"
   },
   "outputs": [],
   "source": [
    "def resume_data(dataset):\n",
    "    '''\n",
    "    Will return some summary's about the data\n",
    "    '''\n",
    "    print(\"The dataset have the Shape of: \", dataset.shape)\n",
    "    print(\"\\nUnique values for each Column: \")\n",
    "    print(dataset.nunique())"
   ]
  },
  {
   "cell_type": "code",
   "execution_count": null,
   "metadata": {},
   "outputs": [],
   "source": [
    "# Looking for the first informations about our data\n",
    "resume_data(df_yout)"
   ]
  },
  {
   "cell_type": "markdown",
   "metadata": {},
   "source": [
    "In total the dataset has almost 41k rows and 16 columns. <br>\n",
    "Based on the output we can infer that our dataset have few categorical features. \n",
    "\n",
    "\n",
    "Let's keep investigating what is the data."
   ]
  },
  {
   "cell_type": "markdown",
   "metadata": {},
   "source": [
    "## Missing values\n",
    "\n",
    "Missing values are a frequent problem. <br>\n",
    "Now we will see if our data contains any missing value. "
   ]
  },
  {
   "cell_type": "code",
   "execution_count": null,
   "metadata": {
    "_cell_guid": "eaf6757f-0315-4199-b44b-9850ff1750c9",
    "_uuid": "a0fdd30e11cd9a43db4c6c7b2e4cb2f4de395468"
   },
   "outputs": [],
   "source": [
    "#Looking for Null values and the types of our data\n",
    "df_yout.info()"
   ]
  },
  {
   "cell_type": "markdown",
   "metadata": {},
   "source": [
    "Cool, we don't have missing values at the data. <br>\n",
    "\n",
    "The data types seems correct except for trending_date and publish_time. Further, we will explore more this columns and apply transformations if necessary."
   ]
  },
  {
   "cell_type": "markdown",
   "metadata": {},
   "source": [
    "## Knowing our data\n",
    "\n",
    "It's important to see how the data is. So we will plot few lines to understanding what are we "
   ]
  },
  {
   "cell_type": "code",
   "execution_count": null,
   "metadata": {
    "_cell_guid": "da26ca13-554b-41fb-a832-4b4813650224",
    "_uuid": "7302a37fcfceeb8296b06096c6f28abe0d1107f4"
   },
   "outputs": [],
   "source": [
    "df_yout.head()"
   ]
  },
  {
   "cell_type": "markdown",
   "metadata": {
    "_cell_guid": "39346e35-b697-4d0c-a76e-b66f4a92a41e",
    "_uuid": "ecd2c542990e07e8921a96aaa236033448ba47f7"
   },
   "source": [
    "<h2>Let's start looking if Views, likes, dislikes and comment_counts have a normal distribuition</h2>"
   ]
  },
  {
   "cell_type": "markdown",
   "metadata": {},
   "source": [
    "- First, I will transform the metrics in log distribuitions to see the distribuition of them."
   ]
  },
  {
   "cell_type": "code",
   "execution_count": null,
   "metadata": {},
   "outputs": [],
   "source": [
    "# Creating the log of metrics\n",
    "df_yout['likes_log'] = np.log(df_yout['likes'] + 1)\n",
    "df_yout['views_log'] = np.log(df_yout['views'] + 1)\n",
    "df_yout['dislikes_log'] = np.log(df_yout['dislikes'] + 1)\n",
    "df_yout['comment_log'] = np.log(df_yout['comment_count'] + 1)\n",
    "\n",
    "# df_yout['views_like_ratio'] = df_yout['views'] / df_yout['likes']\n",
    "# df_yout['views_dislike_ratio'] = df_yout['views'] / df_yout['dislikes']\n",
    "# df_yout['views_comments_ratio'] = df_yout['views'] / df_yout['comment_count']\n",
    "# df_yout['dislike_comments_ratio'] = df_yout['dislikes'] / df_yout['comment_count']\n",
    "# df_yout['likes_comments_ratio'] = df_yout['views'] / df_yout['comment_count']"
   ]
  },
  {
   "cell_type": "markdown",
   "metadata": {},
   "source": [
    "### Ploting the log distribuitions"
   ]
  },
  {
   "cell_type": "code",
   "execution_count": null,
   "metadata": {
    "_cell_guid": "e60aa373-b941-4a8d-bebd-984667331a9e",
    "_kg_hide-input": true,
    "_uuid": "1d3ab5314e4b9744644f21f4cffc2112340e6ac9"
   },
   "outputs": [],
   "source": [
    "df_yout[['views_log', 'likes_log','dislikes_log', 'comment_log']].iplot(kind=\"histogram\", \n",
    "                                                                        bins=50, theme=\"white\", \n",
    "                                                                        histnorm='probability', \n",
    "title=\"Log Distribuitions of Metrics\",\n",
    "                                                                        xTitle='Logarithmn Distribuition',\n",
    "                                                                        yTitle='Probability')"
   ]
  },
  {
   "cell_type": "markdown",
   "metadata": {},
   "source": [
    "Very interesting distribuition of our metrics. \n",
    "\n",
    "We can see that Dislikes and Comments has similar values (Maybe the people comment when dislikes the videos?). <br>\n",
    "Important to note, that on comment distribuition, we have a high number of videos without comments.<br>\n",
    "The views distribuition has the highest values, which make total sense and likes with the peak of dist at 9.5 ~ 10.5;\n"
   ]
  },
  {
   "cell_type": "markdown",
   "metadata": {},
   "source": [
    "## Let's invetigate the quantiles and Outliers in our data"
   ]
  },
  {
   "cell_type": "code",
   "execution_count": null,
   "metadata": {},
   "outputs": [],
   "source": [
    "def quantiles(columns):\n",
    "    for name in columns:\n",
    "        print(name + \" quantiles\")\n",
    "        print(df_yout[name].quantile([.01,.25,.5,.75,.99]))\n",
    "        print(\"\")"
   ]
  },
  {
   "cell_type": "code",
   "execution_count": null,
   "metadata": {
    "_kg_hide-output": true
   },
   "outputs": [],
   "source": [
    "quantiles(['views','likes', 'dislikes', 'comment_count'])"
   ]
  },
  {
   "cell_type": "markdown",
   "metadata": {},
   "source": [
    "### Outliers"
   ]
  },
  {
   "cell_type": "code",
   "execution_count": null,
   "metadata": {},
   "outputs": [],
   "source": [
    "def CalcOutliers(df_num): \n",
    "\n",
    "    # calculating mean and std of the array\n",
    "    data_mean, data_std = np.mean(df_num), np.std(df_num)\n",
    "\n",
    "    # seting the cut line to both higher and lower values\n",
    "    # You can change this value\n",
    "    cut = data_std * 3\n",
    "\n",
    "    #Calculating the higher and lower cut values\n",
    "    lower, upper = data_mean - cut, data_mean + cut\n",
    "\n",
    "    # creating an array of lower, higher and total outlier values \n",
    "    outliers_lower = [x for x in df_num if x < lower]\n",
    "    outliers_higher = [x for x in df_num if x > upper]\n",
    "    outliers_total = [x for x in df_num if x < lower or x > upper]\n",
    "\n",
    "    # array without outlier values\n",
    "    outliers_removed = [x for x in df_num if x > lower and x < upper]\n",
    "  \n",
    "    print('Identified lowest outliers: %d' % len(outliers_lower)) # printing total number of values in lower cut of outliers\n",
    "    print('Identified upper outliers: %d' % len(outliers_higher)) # printing total number of values in higher cut of outliers\n",
    "    print('Identified outliers: %d' % len(outliers_total)) # printing total number of values outliers of both sides\n",
    "    print('Non-outlier observations: %d' % len(outliers_removed)) # printing total number of non outlier values\n",
    "    print(\"Total percentual of Outliers: \", round((len(outliers_total) / len(outliers_removed) )*100, 4)) # Percentual of outliers in points\n",
    "    print(\"\\n\")  \n",
    "    \n",
    "    return"
   ]
  },
  {
   "cell_type": "code",
   "execution_count": null,
   "metadata": {
    "_kg_hide-output": true
   },
   "outputs": [],
   "source": [
    "## Instantianting the function to detect outliers\n",
    "[(print(\"Total Outliers at \" + col), CalcOutliers(df_yout[col]), ) for col in ['views', 'likes', 'dislikes', 'comment_count']]\n",
    "\n",
    "## Click on Show output to see the results"
   ]
  },
  {
   "cell_type": "markdown",
   "metadata": {},
   "source": [
    "Interesting! All the outliers is about high values and the maximum outliers values is 1.44% in likes;"
   ]
  },
  {
   "cell_type": "markdown",
   "metadata": {},
   "source": [
    "## Renaming the categorys id to names"
   ]
  },
  {
   "cell_type": "code",
   "execution_count": null,
   "metadata": {},
   "outputs": [],
   "source": [
    "rename_channels = {1:'Film/Animation', 2:'Cars/Vehicles', 10:'Music', 15:'Pets/Animals',\n",
    "                   17:'Sport',19:'Travel/Events',20: 'Gaming',22:'People/Blogs',23:'Comedy',\n",
    "                   24:'Entertainment',25:'News/Politics',26:'How to/Style',27:'Education',\n",
    "                   28:'Science/Technology',29:'Non Profits/Activism'}"
   ]
  },
  {
   "cell_type": "code",
   "execution_count": null,
   "metadata": {},
   "outputs": [],
   "source": [
    "df_yout['category_name'] = np.nan\n",
    "\n",
    "df_yout['category_name'] = df_yout['category_id'].map(rename_channels)"
   ]
  },
  {
   "cell_type": "markdown",
   "metadata": {},
   "source": [
    "## Let's use another chart to see the proporcionality of each category in our dataset."
   ]
  },
  {
   "cell_type": "code",
   "execution_count": null,
   "metadata": {
    "_kg_hide-input": true
   },
   "outputs": [],
   "source": [
    "percent_category = round(df_yout[\"category_name\"].value_counts(), 2)\n",
    "\n",
    "# print(\"Category percentual: \")\n",
    "## print(round(percent_category[:5] / len(df_yout[\"category_name\"]) * 100,2))\n",
    "\n",
    "types = round(df_yout[\"category_name\"].value_counts() / len(df_yout[\"category_name\"]) * 100,2)\n",
    "\n",
    "labels = list(types.index)\n",
    "values = list(types.values)\n",
    "\n",
    "trace1 = go.Pie(labels=labels, \n",
    "                values=values, \n",
    "                marker=dict(colors=['red']), \n",
    "                # Seting values to \n",
    "                text=(percent_category.index.map(str)),\n",
    "                hovertext=(percent_category.values.astype(str)))\n",
    "\n",
    "layout = go.Layout(title=\"Percentual of each Category in upload \", \n",
    "                   legend=dict(orientation=\"h\"));\n",
    "\n",
    "fig = go.Figure(data=[trace1], layout=layout)\n",
    "iplot(fig)\n"
   ]
  },
  {
   "cell_type": "markdown",
   "metadata": {},
   "source": [
    "We can see that the most frequent video categorys are: <br>\n",
    "1 - Entertainment  <br>\n",
    "2 - Music <br>\n",
    "3 - How to and Style "
   ]
  },
  {
   "cell_type": "markdown",
   "metadata": {
    "_cell_guid": "2939e0d5-8ba9-4f59-94c2-37834b4ce220",
    "_uuid": "7643e5511617fe8a280305dfdb8c5daf1aa047df"
   },
   "source": [
    "<h2>Looking the Views, likes, dislikes distribuition by category_name's</h2>"
   ]
  },
  {
   "cell_type": "code",
   "execution_count": null,
   "metadata": {
    "_kg_hide-input": true
   },
   "outputs": [],
   "source": [
    "## Building a \n",
    "trace1 = go.Box(x=df_yout['category_name'],\n",
    "                y=df_yout['views_log'], name='Views Log',visible=True, boxpoints='outliers')\n",
    "\n",
    "trace2 = go.Box(x=df_yout['category_name'],\n",
    "                y=df_yout['likes_log'], name='Likes Log', visible=False,boxpoints='outliers')\n",
    "\n",
    "trace3 = go.Box(x=df_yout['category_name'], \n",
    "                y=df_yout['dislikes_log'], name='Dislikes Log', visible=False,boxpoints='outliers')\n",
    "\n",
    "trace4 = go.Box(x=df_yout['category_name'],\n",
    "                y=df_yout['comment_log'], name='Comment Log', visible=False,boxpoints='outliers')\n",
    "\n",
    "data = [trace1, trace2, trace3, trace4]\n",
    "\n",
    "updatemenus = list([\n",
    "    dict(active=-1,\n",
    "         showactive=True,\n",
    "         buttons=list([  \n",
    "            dict(\n",
    "                label = 'Views by Categorys',\n",
    "                 method = 'update',\n",
    "                 args = [{'visible': [True, False, False, False]}, \n",
    "                     {'title': 'View Logs by each Category'}]),\n",
    "             \n",
    "             dict(\n",
    "                  label = 'Likes by Categorys',\n",
    "                 method = 'update',\n",
    "                 args = [{'visible': [False, True, False, False]},\n",
    "                     {'title': 'Likes Logs by each Category'}]),\n",
    "\n",
    "            dict(\n",
    "                 label = 'Dislikes by Categorys',\n",
    "                 method = 'update',\n",
    "                 args = [{'visible': [False, False, True, False]},\n",
    "                     {'title': 'Dislikes Logs by each Category'}]),\n",
    "\n",
    "            dict(\n",
    "                 label = 'Comments by Categorys',\n",
    "                 method = 'update',\n",
    "                 args = [{'visible': [False, False, False, True]},\n",
    "                     {'title': 'Comments Logs by each Category'}])\n",
    "        ]),\n",
    "    )\n",
    "])\n",
    "\n",
    "\n",
    "layout = dict(title='## (Select from Dropdown) ## - The Log Distribuition of Metrics by video Category <br> View Logs by each Category', \n",
    "              showlegend=False,\n",
    "              updatemenus=updatemenus)\n",
    "\n",
    "fig = dict(data=data, layout=layout)\n",
    "\n",
    "iplot(fig)"
   ]
  },
  {
   "cell_type": "markdown",
   "metadata": {},
   "source": [
    "## Interactive Plotly to pick the desired metric\n",
    "- Total views by category\n",
    "- Total Unique channels in each category\n",
    "- Total Unique videos in each category\n"
   ]
  },
  {
   "cell_type": "code",
   "execution_count": null,
   "metadata": {
    "_kg_hide-input": true
   },
   "outputs": [],
   "source": [
    "trace1 = go.Bar(x=df_yout.groupby(['category_name'])['views'].sum().index,\n",
    "                y=df_yout.groupby(['category_name'])['views'].sum().values,\n",
    "                name='Total Views by Category', visible=True)\n",
    "\n",
    "trace2 = go.Bar(x=df_yout.groupby(['category_name'])['channel_title'].nunique().index,\n",
    "                y=df_yout.groupby(['category_name'])['channel_title'].nunique().values, \n",
    "                name='Unique Channels by Category', visible=False)\n",
    "\n",
    "trace3 = go.Bar(x=df_yout.groupby(['category_name'])['title'].nunique().index,\n",
    "                y=df_yout.groupby(['category_name'])['title'].nunique().values, \n",
    "                name='Unique Videos by Category', visible=False)\n",
    "\n",
    "\n",
    "data = [trace1, trace2, trace3]\n",
    "\n",
    "updatemenus = list([\n",
    "    dict(active=-1,\n",
    "         showactive=True,\n",
    "         buttons=list([  \n",
    "            dict(\n",
    "                label = 'Total Views by Category',\n",
    "                 method = 'update',\n",
    "                 args = [{'visible': [True, False, False]}, \n",
    "                     {'title': 'Sum of views by Category'}]),\n",
    "             \n",
    "             dict(\n",
    "                  label = 'Total Channels by Category',\n",
    "                 method = 'update',\n",
    "                 args = [{'visible': [False, True, False]},\n",
    "                     {'title': 'Total Channels by Category'}]),\n",
    "\n",
    "            dict(\n",
    "                 label = 'Total Videos by Categorys',\n",
    "                 method = 'update',\n",
    "                 args = [{'visible': [False, False, True]},\n",
    "                     {'title': 'Total Videos by Category'}])\n",
    "        ]),\n",
    "    )\n",
    "])\n",
    "\n",
    "\n",
    "layout = dict(title='*(Select from Dropdown)* Different Metrics to each Category <br> Sum of views by Category', \n",
    "              showlegend=False,\n",
    "              updatemenus=updatemenus)\n",
    "\n",
    "fig = dict(data=data, layout=layout)\n",
    "\n",
    "iplot(fig)"
   ]
  },
  {
   "cell_type": "markdown",
   "metadata": {},
   "source": [
    "## The top 25 channels with more views"
   ]
  },
  {
   "cell_type": "code",
   "execution_count": null,
   "metadata": {
    "_kg_hide-input": true
   },
   "outputs": [],
   "source": [
    "df_yout.groupby(['channel_title'])['views'].sum().nlargest(25).iplot(kind='bar',\n",
    "                                                                     xTitle='Channel Name', yTitle='Total Views',\n",
    "                                                                     title='TOP 25 Channels with more views')"
   ]
  },
  {
   "cell_type": "markdown",
   "metadata": {},
   "source": [
    "## The top 25 channels with more videos in youtube"
   ]
  },
  {
   "cell_type": "code",
   "execution_count": null,
   "metadata": {
    "_kg_hide-input": true
   },
   "outputs": [],
   "source": [
    "df_yout.groupby(['channel_title'])['title'].nunique().nlargest(25).iplot(kind='bar',\n",
    "                                                             xTitle='Channel Names', yTitle='Total Videos Uploaded',\n",
    "                                                             title='TOP 25 channels with more uploaded videos')"
   ]
  },
  {
   "cell_type": "markdown",
   "metadata": {
    "_cell_guid": "b7d9bd87-8815-4f3a-85e5-9b24b6484a2d",
    "_uuid": "c77cb307d932cb21178791f1f72e139e1412c260"
   },
   "source": [
    "<h1>Engagement Features </h1>"
   ]
  },
  {
   "cell_type": "markdown",
   "metadata": {
    "_cell_guid": "9602fae1-6b53-44ca-b8be-6f56f71f4e52",
    "_uuid": "ab5c408404400b85f7639cf8444a8485727faefb"
   },
   "source": [
    "I will create some new variables to us analyse the percent of likes, dislikes, comment by each category to discover what category have the highest engagement"
   ]
  },
  {
   "cell_type": "code",
   "execution_count": null,
   "metadata": {
    "_cell_guid": "7ab7c299-9387-4ea5-8e45-1abc0f9e2e33",
    "_kg_hide-input": false,
    "_uuid": "41f39afce518660506b5b4833774dcc2510e78ef"
   },
   "outputs": [],
   "source": [
    "df_yout['like_rate'] =  df_yout ['likes'] / df_yout['views'] * 100\n",
    "df_yout['dislike_rate'] =  df_yout ['dislikes'] / df_yout['views'] * 100\n",
    "df_yout['comment_rate'] =  df_yout ['comment_count'] / df_yout['views'] * 100"
   ]
  },
  {
   "cell_type": "markdown",
   "metadata": {
    "_cell_guid": "ca9c3d1e-a2ea-4579-aece-36bb08270996",
    "_uuid": "c0877e4f59ae2674f68ec54e13c9b4ea275cdf49"
   },
   "source": [
    "Very meaningful distribuition! Like x Dislikes rate have interesting differences"
   ]
  },
  {
   "cell_type": "code",
   "execution_count": null,
   "metadata": {
    "_cell_guid": "2107722d-0a4d-4fd3-b151-2ee780f01116",
    "_kg_hide-input": true,
    "_uuid": "5d01243e60c55d4b5f2b8919b545a84cbd73ae68"
   },
   "outputs": [],
   "source": [
    "## Building a \n",
    "trace1 = go.Box(x=df_yout['category_name'],\n",
    "                y=df_yout['like_rate'], name='Views Log',visible=True, boxpoints='outliers')\n",
    "\n",
    "trace2 = go.Box(x=df_yout['category_name'],\n",
    "                y=df_yout['dislike_rate'], name='Likes Log', boxpoints='outliers')\n",
    "\n",
    "trace3 = go.Box(x=df_yout['category_name'], \n",
    "                y=df_yout['comment_rate'], name='Dislikes Log', boxpoints='outliers')\n",
    "\n",
    "data = [trace1, trace2, trace3]\n",
    "\n",
    "updatemenus = list([\n",
    "    dict(active=-1,\n",
    "         showactive=True,\n",
    "         buttons=list([  \n",
    "            dict(\n",
    "                label = 'Like rate',\n",
    "                 method = 'update',\n",
    "                 args = [{'visible': [True, False, False]}, \n",
    "                     {'title': 'Like Rate by Category'}]),\n",
    "             \n",
    "             dict(\n",
    "                  label = 'Dislike Rate',\n",
    "                 method = 'update',\n",
    "                 args = [{'visible': [False, True, False]},\n",
    "                     {'title': 'Dislikes Rate by Category'}]),\n",
    "\n",
    "            dict(\n",
    "                 label = 'Comment Rate',\n",
    "                 method = 'update',\n",
    "                 args = [{'visible': [False, False, True]},\n",
    "                     {'title': 'Total Comments Rate by Category'}])\n",
    "        ]),\n",
    "    )\n",
    "])\n",
    "\n",
    "\n",
    "layout = dict(title=\"The Rate of Metrics to all video Category's (Select from Dropdown)\", \n",
    "              showlegend=False,\n",
    "              updatemenus=updatemenus)\n",
    "\n",
    "fig = dict(data=data, layout=layout)\n",
    "\n",
    "iplot(fig)"
   ]
  },
  {
   "cell_type": "markdown",
   "metadata": {
    "_cell_guid": "d43374d2-5065-40b2-9d8e-8eed8bb63b88",
    "_uuid": "967285ed197b8dbd6fa47c89f3ff8b4d07a7f24b"
   },
   "source": [
    "We can see that the Dislike rate is very low in almost all categories but some outliers in 'People and Blogs' and News & Politics that we can might can consider \"Normal\"\n",
    "\n",
    "The mean of ike distribuition is less than 5% but in music we have a very interesting pattern of like rate... The music category have the highest engagement rate.\n",
    "\n",
    "And at the Comment rate we can see the how-to category with the highest rates of commments. Interesting because isn't politics LOL"
   ]
  },
  {
   "cell_type": "markdown",
   "metadata": {
    "_cell_guid": "2a785a06-c234-4ff5-b32a-b300ff0b2534",
    "_uuid": "caf1da8999a2cb22cad16ddc46594cd46f3d69a7"
   },
   "source": [
    "<h2>Looking through the anothers categoricals variables </h2>\n",
    "We have the variables:\n",
    "- Comments Disable\n",
    "- Rating disable\n",
    "- Video error\n"
   ]
  },
  {
   "cell_type": "code",
   "execution_count": null,
   "metadata": {
    "_kg_hide-input": true
   },
   "outputs": [],
   "source": [
    "\n",
    "#First plot\n",
    "trace0 = go.Histogram(\n",
    "    x=df_yout['comments_disabled'], histnorm='percent', marker=dict( color='blue' ),\n",
    "    showlegend=False\n",
    ")\n",
    "#Second plot\n",
    "trace1 = go.Histogram(\n",
    "    x=df_yout['ratings_disabled'], histnorm='percent', marker=dict( color='blue' ), \n",
    "    showlegend=False\n",
    ")\n",
    "#Third plot\n",
    "trace2 = go.Histogram(\n",
    "    x=df_yout['video_error_or_removed'], histnorm='percent', marker=dict( color='blue' ), \n",
    "    showlegend=False\n",
    ")\n",
    "trace3 = go.Box(\n",
    "    x=df_yout['comments_disabled'], y=df_yout['views_log'], marker=dict( color='blue' ), \n",
    "    showlegend=False\n",
    ")\n",
    "#Second plot\n",
    "trace4 = go.Box(\n",
    "    x=df_yout['ratings_disabled'], y=df_yout['views_log'], marker=dict( color='blue' ), \n",
    "    showlegend=False\n",
    ")   \n",
    "#Third plot\n",
    "trace5 = go.Box(\n",
    "    x=df_yout['video_error_or_removed'], y=df_yout['views_log'],  marker=dict( color='blue' ), \n",
    "    showlegend=False\n",
    ")\n",
    "\n",
    "#Creating the grid\n",
    "fig = tls.make_subplots(rows=2, cols=3, specs=[[{}, {}, {}], [{}, {}, {}]],\n",
    "                          subplot_titles=(\"% Comment Disabled\",\n",
    "                                          \"% Likes/Dislikes Disabled\",\n",
    "                                          \"% Video Error/Removed\",\n",
    "                                          \"Views Comment Disabled\",\n",
    "                                          \"Views Likes/Dislikes Disabled\",\n",
    "                                          \"% Video Error/Removed\"\n",
    "                                          ))\n",
    "#setting the figs\n",
    "fig.append_trace(trace0, 1, 1)\n",
    "fig.append_trace(trace1, 1, 3)\n",
    "fig.append_trace(trace2, 1, 2)\n",
    "fig.append_trace(trace3, 2, 1)\n",
    "fig.append_trace(trace4, 2, 3)\n",
    "fig.append_trace(trace5, 2, 2)\n",
    "\n",
    "fig['layout'].update(showlegend=True, title=\"Disabled or Error Metrics of Videos\")\n",
    "iplot(fig)"
   ]
  },
  {
   "cell_type": "markdown",
   "metadata": {},
   "source": [
    "The highest "
   ]
  },
  {
   "cell_type": "markdown",
   "metadata": {
    "_cell_guid": "c7cc28c5-08a9-48ed-8c18-4f3be5d50b52",
    "_uuid": "4a230b1ff7194e2878b2bbe5248f4c375b98ada8"
   },
   "source": [
    "<h2>Let's look the kde of this variables separated to deep understand them</h2>"
   ]
  },
  {
   "cell_type": "code",
   "execution_count": null,
   "metadata": {},
   "outputs": [],
   "source": [
    "df_yout[df_yout['video_error_or_removed'] == True ]['views_log']\n",
    "#df_yout[df_yout['ratings_disabled'] == True]\n",
    "type(df_yout[df_yout['comments_disabled'] == True]['views_log'])\n",
    "#type(df_yout[df_yout['video_error_or_removed'] == True]['comment_log'])"
   ]
  },
  {
   "cell_type": "code",
   "execution_count": null,
   "metadata": {
    "_cell_guid": "834a9981-bf7d-4156-9942-4fd4d3291874",
    "_kg_hide-input": true,
    "_uuid": "0f7c4f798d68b228c7004c19f87f361d943b40be"
   },
   "outputs": [],
   "source": [
    "plt.figure(figsize = (12,10))\n",
    "\n",
    "plt.subplot(221)\n",
    "g1 = sns.distplot(df_yout[df_yout['comments_disabled'] == True]['views_log'], \n",
    "                  hist=False, label='Comm_dis')\n",
    "g1 = sns.distplot(df_yout[df_yout['ratings_disabled'] == True]['views_log'], \n",
    "                  hist=False, label='Rati_dis')\n",
    "#g1 = sns.distplot(df_yout[df_yout['video_error_or_removed'] == True]['views_log'], \n",
    "#                  hist=False, label='vide_rmv_err')\n",
    "g1 = sns.distplot(df_yout['views_log'], \n",
    "                  hist=False, label='Total')\n",
    "g1.set_title(\"VIEWS LOG DISTRIBUITION\", fontsize=16)\n",
    "\n",
    "plt.subplot(222)\n",
    "g4 = sns.distplot(df_yout[df_yout['ratings_disabled'] == True]['comment_log'], \n",
    "                  hist=False, label='Rati_dis')\n",
    "#g4 = sns.distplot(df_yout[df_yout['video_error_or_removed'] == True]['comment_log'], \n",
    "#                  hist=False, label='vide_rmv_err')\n",
    "g4 = sns.distplot(df_yout['comment_log'], \n",
    "                  hist=False, label='Total')\n",
    "g4.set_title(\"COMMENTS LOG DISTRIBUITION\", fontsize=16)\n",
    "\n",
    "plt.subplot(223)\n",
    "g3 = sns.distplot(df_yout[df_yout['comments_disabled'] == True]['dislikes_log'], \n",
    "                  hist=False, label='Comm_dis')\n",
    "#g3 = sns.distplot(df_yout[df_yout['video_error_or_removed'] == True]['dislikes_log'], \n",
    "#                  hist=False, label='vide_rmv_err')\n",
    "g3 = sns.distplot(df_yout['dislikes_log'], \n",
    "                  hist=False, label='Total')\n",
    "g3.set_title(\"DISLIKES LOG DISTRIBUITION\", fontsize=16)\n",
    "\n",
    "plt.subplot(224)\n",
    "g2 = sns.distplot(df_yout[df_yout['comments_disabled'] == True]['likes_log'], \n",
    "                  hist=False, label='Comm_dis')\n",
    "#g2 = sns.distplot(df_yout[df_yout['video_error_or_removed'] == True]['likes_log'], \n",
    "#                  hist=False, label='vide_rmv_err')\n",
    "g2 = sns.distplot(df_yout['likes_log'], \n",
    "                  hist=False, label='Total')\n",
    "g2.set_title('LIKES LOG DISTRIBUITION', fontsize=16)\n",
    "\n",
    "plt.subplots_adjust(wspace = 0.2, hspace = 0.3,top = 0.9)\n",
    "plt.legend()\n",
    "plt.show()"
   ]
  },
  {
   "cell_type": "markdown",
   "metadata": {
    "_cell_guid": "0611e2a1-4ca4-4a95-9ed8-d37060726b2a",
    "_uuid": "9185d48fa97005d0f4805859ac02e5ed2bd2c1c5"
   },
   "source": [
    "Removed videos no have some views until be moreved... <br>Rating disable and Comments disable have the same distribuition "
   ]
  },
  {
   "cell_type": "markdown",
   "metadata": {
    "_cell_guid": "b6900e85-d3c2-4f87-a3e8-f9c2a965fa97",
    "_uuid": "aa6140ddbf8751a7920519e31f83779a5f1f4831"
   },
   "source": [
    "<h2>Analysing the Correlation Matrix of the numerical variables</h2>"
   ]
  },
  {
   "cell_type": "code",
   "execution_count": null,
   "metadata": {
    "_cell_guid": "708c42ff-d6a6-4ee3-8f82-40fe3c479cb8",
    "_uuid": "7a867e8a907c406ad9d173919b8a47306a320df9"
   },
   "outputs": [],
   "source": [
    " "
   ]
  },
  {
   "cell_type": "markdown",
   "metadata": {
    "_cell_guid": "2676285e-643c-4f02-b12f-e7c9e40d203b",
    "_uuid": "da5207bcd2bb4666229b230ebbbbb3f9c31dcbd7"
   },
   "source": [
    "<h2>I will start creating some features from texts using Title and Tags columns</h2>"
   ]
  },
  {
   "cell_type": "code",
   "execution_count": null,
   "metadata": {
    "_cell_guid": "0f5184c7-1dc8-4c99-981b-9d9429815597",
    "_uuid": "98c3f13584e00021de2dfe852f977b53f654397d"
   },
   "outputs": [],
   "source": [
    "#nlp\n",
    "import string\n",
    "import re    #for regex\n",
    "import nltk\n",
    "from nltk.corpus import stopwords\n",
    "import spacy\n",
    "from nltk import pos_tag\n",
    "from nltk.stem.wordnet import WordNetLemmatizer \n",
    "from nltk.tokenize import word_tokenize\n",
    "# Tweet tokenizer does not split at apostophes which is what we want\n",
    "from nltk.tokenize import TweetTokenizer   "
   ]
  },
  {
   "cell_type": "code",
   "execution_count": null,
   "metadata": {},
   "outputs": [],
   "source": [
    " #nltk.download()"
   ]
  },
  {
   "cell_type": "code",
   "execution_count": null,
   "metadata": {
    "_cell_guid": "2533937b-f7ce-447b-a73e-bd929938e8b1",
    "_uuid": "ac29aadfc98768305ef36fd95651191dab167d40"
   },
   "outputs": [],
   "source": [
    "#Setting the stopwords\n",
    "eng_stopwords = set(stopwords.words(\"english\"))\n"
   ]
  },
  {
   "cell_type": "code",
   "execution_count": null,
   "metadata": {
    "_cell_guid": "01c8a679-07cb-40a3-ac6f-087b5e216761",
    "_kg_hide-input": false,
    "_kg_hide-output": false,
    "_uuid": "8f3103349df22b1c8f758a12a128b524f0bdc153"
   },
   "outputs": [],
   "source": [
    "#Word count in each comment:\n",
    "df_yout['count_word']=df_yout[\"title\"].apply(lambda x: len(str(x).split()))\n",
    "df_yout['count_word_tags']=df_yout[\"tags\"].apply(lambda x: len(str(x).split()))\n",
    "\n",
    "#Unique word count\n",
    "df_yout['count_unique_word']=df_yout[\"title\"].apply(lambda x: len(set(str(x).split())))\n",
    "df_yout['count_unique_word_tags']=df_yout[\"tags\"].apply(lambda x: len(set(str(x).split())))\n",
    "\n",
    "#Letter count\n",
    "df_yout['count_letters']=df_yout[\"title\"].apply(lambda x: len(str(x)))\n",
    "df_yout['count_letters_tags']=df_yout[\"tags\"].apply(lambda x: len(str(x)))\n",
    "\n",
    "#punctuation count\n",
    "df_yout[\"count_punctuations\"] =df_yout[\"title\"].apply(lambda x: len([c for c in str(x) if c in string.punctuation]))\n",
    "df_yout[\"count_punctuations_tags\"] =df_yout[\"tags\"].apply(lambda x: len([c for c in str(x) if c in string.punctuation]))\n",
    "\n",
    "#upper case words count\n",
    "df_yout[\"count_words_upper\"] = df_yout[\"title\"].apply(lambda x: len([w for w in str(x).split() if w.isupper()]))\n",
    "df_yout[\"count_words_upper_tags\"] = df_yout[\"tags\"].apply(lambda x: len([w for w in str(x).split() if w.isupper()]))\n",
    "\n",
    "#title case words count\n",
    "df_yout[\"count_words_title\"] = df_yout[\"title\"].apply(lambda x: len([w for w in str(x).split() if w.istitle()]))\n",
    "df_yout[\"count_words_title_tags\"] = df_yout[\"tags\"].apply(lambda x: len([w for w in str(x).split() if w.istitle()]))\n",
    "\n",
    "#Number of stopwords\n",
    "df_yout[\"count_stopwords\"] = df_yout[\"title\"].apply(lambda x: len([w for w in str(x).lower().split() if w in eng_stopwords]))\n",
    "df_yout[\"count_stopwords_tags\"] = df_yout[\"tags\"].apply(lambda x: len([w for w in str(x).lower().split() if w in eng_stopwords]))\n",
    "\n",
    "#Average length of the words\n",
    "df_yout[\"mean_word_len\"] = df_yout[\"title\"].apply(lambda x: np.mean([len(w) for w in str(x).split()]))\n",
    "df_yout[\"mean_word_len_tags\"] = df_yout[\"tags\"].apply(lambda x: np.mean([len(w) for w in str(x).split()]))"
   ]
  },
  {
   "cell_type": "code",
   "execution_count": null,
   "metadata": {
    "_cell_guid": "d341e916-22d8-486c-8b04-79a0950e2c09",
    "_uuid": "0ce28ced2d40f1f14f33227080753cb545a9952a"
   },
   "outputs": [],
   "source": [
    "#derived features\n",
    "#Word count percent in each comment:\n",
    "df_yout['word_unique_percent']=df_yout['count_unique_word']*100/df_yout['count_word']\n",
    "df_yout['word_unique_percent_tags']=df_yout['count_unique_word_tags']*100/df_yout['count_word_tags']\n",
    "\n",
    "#Punct percent in each comment:\n",
    "df_yout['punct_percent']=df_yout['count_punctuations']*100/df_yout['count_word']\n",
    "df_yout['punct_percent_tags']=df_yout['count_punctuations_tags']*100/df_yout['count_word_tags']"
   ]
  },
  {
   "cell_type": "code",
   "execution_count": null,
   "metadata": {
    "_cell_guid": "be1498bd-11ce-4ed9-ba7f-9499b44743d1",
    "_kg_hide-input": true,
    "_kg_hide-output": false,
    "_uuid": "4c8175093c263625b5104c89f77cb976dcdf0631"
   },
   "outputs": [],
   "source": [
    "plt.figure(figsize = (12,18))\n",
    "\n",
    "plt.subplot(421)\n",
    "g1 = sns.distplot(df_yout['count_word'], \n",
    "                  hist=False, label='Text')\n",
    "g1 = sns.distplot(df_yout['count_word_tags'], \n",
    "                  hist=False, label='Tags')\n",
    "g1.set_title(\"COUNT WORDS DISTRIBUITION\", fontsize=16)\n",
    "\n",
    "plt.subplot(422)\n",
    "g2 = sns.distplot(df_yout['count_unique_word'],\n",
    "                  hist=False, label='Text')\n",
    "g2 = sns.distplot(df_yout['count_unique_word_tags'], \n",
    "                  hist=False, label='Tags')\n",
    "g2.set_title(\"COUNT UNIQUE DISTRIBUITION\", fontsize=16)\n",
    "\n",
    "plt.subplot(423)\n",
    "g3 = sns.distplot(df_yout['count_letters'], \n",
    "                  hist=False, label='Text')\n",
    "g3 = sns.distplot(df_yout['count_letters_tags'], \n",
    "                  hist=False, label='Tags')\n",
    "g3.set_title(\"COUNT LETTERS DISTRIBUITION\", fontsize=16)\n",
    "\n",
    "plt.subplot(424)\n",
    "g4 = sns.distplot(df_yout[\"count_punctuations\"], \n",
    "                  hist=False, label='Text')\n",
    "g4 = sns.distplot(df_yout[\"count_punctuations_tags\"], \n",
    "                  hist=False, label='Tags')\n",
    "g4.set_xlim([-2,50])\n",
    "g4.set_title('COUNT PONCTUATIONS DISTRIBUITION', fontsize=16)\n",
    "\n",
    "plt.subplot(425)\n",
    "g5 = sns.distplot(df_yout[\"count_words_upper\"] , \n",
    "                  hist=False, label='Text')\n",
    "g5 = sns.distplot(df_yout[\"count_words_upper_tags\"] , \n",
    "                  hist=False, label='Tags')\n",
    "g5.set_title('COUNT WORDS UPPER DISTRIBUITION', fontsize=16)\n",
    "\n",
    "plt.subplot(426)\n",
    "g6 = sns.distplot(df_yout[\"count_words_title\"], \n",
    "                  hist=False, label='Text')\n",
    "g6 = sns.distplot(df_yout[\"count_words_title_tags\"], \n",
    "                  hist=False, label='Tags')\n",
    "g6.set_title('WORDS DISTRIBUITION', fontsize=16)\n",
    "\n",
    "plt.subplot(427)\n",
    "g7 = sns.distplot(df_yout[\"count_stopwords\"], \n",
    "                  hist=False, label='Title')\n",
    "g7 = sns.distplot(df_yout[\"count_stopwords_tags\"], \n",
    "                  hist=False, label='Tags')\n",
    "g7.set_title('STOPWORDS DISTRIBUITION', fontsize=16)\n",
    "\n",
    "plt.subplot(428)\n",
    "g8 = sns.distplot(df_yout[\"mean_word_len\"], \n",
    "                  hist=False, label='Text')\n",
    "g8 = sns.distplot(df_yout[\"mean_word_len_tags\"], \n",
    "                  hist=False, label='Tags')\n",
    "g8.set_xlim([-2,100])\n",
    "g8.set_title('MEAN WORD LEN DISTRIBUITION', fontsize=16)\n",
    "\n",
    "plt.subplots_adjust(wspace = 0.2, hspace = 0.4,top = 0.9)\n",
    "plt.legend()\n",
    "plt.show()"
   ]
  },
  {
   "cell_type": "markdown",
   "metadata": {
    "_cell_guid": "da1a3215-ab44-4f71-9d53-1005861633eb",
    "_uuid": "66f579a75511c1047d93dc75928293dd71db6c3f"
   },
   "source": [
    "<h2>Have the Punctuations title and tags any relation with views, likes, dislikes comments? </h2>"
   ]
  },
  {
   "cell_type": "code",
   "execution_count": null,
   "metadata": {
    "_kg_hide-input": true
   },
   "outputs": [],
   "source": [
    "trace1 = go.Box(x=df_yout['count_punctuations'],\n",
    "                y=df_yout['views_log'], name='Views Log',visible=True, \n",
    "                boxpoints='outliers')\n",
    "\n",
    "trace2 = go.Box(x=df_yout['count_punctuations'],\n",
    "                y=df_yout['likes_log'], name='Likes Log', \n",
    "                boxpoints='outliers')\n",
    "\n",
    "trace3 = go.Box(x=df_yout['count_punctuations'], \n",
    "                y=df_yout['dislikes_log'], name='Dislikes Log', \n",
    "                boxpoints='outliers')\n",
    "\n",
    "trace4 = go.Box(x=df_yout['count_punctuations'],\n",
    "                y=df_yout['comment_log'], name='Comment Log',\n",
    "                boxpoints='outliers')\n",
    "\n",
    "data = [trace1, trace2, trace3, trace4]\n",
    "\n",
    "updatemenus = list([\n",
    "    dict(active=-1,\n",
    "         showactive=True,\n",
    "         buttons=list([  \n",
    "            dict(\n",
    "                label = 'Views by Total Punctuation',\n",
    "                 method = 'update',\n",
    "                 args = [{'visible': [True, False, False, False]}, \n",
    "                     {'title': 'View Logs by Total Punctuation'}]),\n",
    "             \n",
    "             dict(\n",
    "                  label = 'Likes by Total Punctuation',\n",
    "                 method = 'update',\n",
    "                 args = [{'visible': [False, True, False, False]},\n",
    "                     {'title': 'Likes Logs by Total Punctuation'}]),\n",
    "\n",
    "            dict(\n",
    "                 label = 'Dislikes by Total Punctuation',\n",
    "                 method = 'update',\n",
    "                 args = [{'visible': [False, False, True, False]},\n",
    "                     {'title': 'Dislikes Logs by Total Punctuation'}]),\n",
    "\n",
    "            dict(\n",
    "                 label = 'Comments by Total Punctuation',\n",
    "                 method = 'update',\n",
    "                 args = [{'visible': [False, False, False, True]},\n",
    "                     {'title': 'Comments Logs by Total Punctuation'}])\n",
    "        ]),\n",
    "    )\n",
    "])\n",
    "\n",
    "\n",
    "layout = dict(title='The Log Distribuition of Metrics by Punctuation (Select from Dropdown)', \n",
    "              showlegend=False,\n",
    "              updatemenus=updatemenus)\n",
    "\n",
    "fig = dict(data=data, layout=layout)\n",
    "\n",
    "iplot(fig)"
   ]
  },
  {
   "cell_type": "markdown",
   "metadata": {
    "_cell_guid": "b8716287-a6a9-4da8-ae66-e18c60e50acc",
    "_uuid": "4084861fc7a9182905f03d3552305fc099d75d2c"
   },
   "source": [
    "<h2>The same view using Tags punctuations values</h2>"
   ]
  },
  {
   "cell_type": "code",
   "execution_count": null,
   "metadata": {
    "_cell_guid": "846adeac-0c4b-4df1-9f13-0a650ac1b50e",
    "_kg_hide-input": true,
    "_kg_hide-output": false,
    "_uuid": "5f8915d09894b3bdb295e449b4a3c6d21af9c72b"
   },
   "outputs": [],
   "source": [
    "trace1 = go.Box(x=df_yout[df_yout['count_punctuations_tags'] < 100]['count_punctuations_tags'],\n",
    "                y=df_yout[df_yout['count_punctuations_tags'] < 100]['views_log'], name='Views Log',visible=True, boxpoints='outliers')\n",
    "\n",
    "trace2 = go.Box(x=df_yout[df_yout['count_punctuations_tags'] < 100]['count_punctuations_tags'],\n",
    "                y=df_yout[df_yout['count_punctuations_tags'] < 100]['likes_log'], name='Likes Log', boxpoints='outliers')\n",
    "\n",
    "trace3 = go.Box(x=df_yout[df_yout['count_punctuations_tags'] < 100]['count_punctuations_tags'], \n",
    "                y=df_yout[df_yout['count_punctuations_tags'] < 100]['dislikes_log'], name='Dislikes Log', boxpoints='outliers')\n",
    "\n",
    "trace4 = go.Box(x=df_yout[df_yout['count_punctuations_tags'] < 100]['count_punctuations_tags'],\n",
    "                y=df_yout[df_yout['count_punctuations_tags'] < 100]['comment_log'], name='Comment Log', boxpoints='outliers')\n",
    "\n",
    "data = [trace1, trace2, trace3, trace4]\n",
    "\n",
    "updatemenus = list([\n",
    "    dict(active=-1,\n",
    "         showactive=True,\n",
    "         buttons=list([  \n",
    "            dict(\n",
    "                label = 'Views by Tags count',\n",
    "                 method = 'update',\n",
    "                 args = [{'visible': [True, False, False, False]}, \n",
    "                     {'title': 'Vews by Ponctuations tags'}]),\n",
    "             \n",
    "             dict(\n",
    "                  label = 'Likes by Tags count',\n",
    "                 method = 'update',\n",
    "                 args = [{'visible': [False, True, False, False]},\n",
    "                     {'title': 'Likes by Ponctuations tags'}]),\n",
    "\n",
    "            dict(\n",
    "                 label = 'Dislikes by Tags count',\n",
    "                 method = 'update',\n",
    "                 args = [{'visible': [False, False, True, False]},\n",
    "                     {'title': 'Dislikes by Ponctuations tags'}]),\n",
    "\n",
    "            dict(\n",
    "                 label = 'Comments by Tags count',\n",
    "                 method = 'update',\n",
    "                 args = [{'visible': [False, False, False, True]},\n",
    "                     {'title': 'Comments by Ponctuations tags'}])\n",
    "        ]),\n",
    "    )\n",
    "])\n",
    "\n",
    "\n",
    "layout = dict(title='The Log Distribuition of Metrics to all Tags (Select from Dropdown)', \n",
    "              showlegend=False,\n",
    "              updatemenus=updatemenus)\n",
    "\n",
    "fig = dict(data=data, layout=layout)\n",
    "\n",
    "iplot(fig)"
   ]
  },
  {
   "cell_type": "markdown",
   "metadata": {
    "_cell_guid": "9fd5e548-7a43-4a02-8b5d-463bffd710d0",
    "_uuid": "a2d11d085d0339202efa120d07a524fc53c9a65b"
   },
   "source": [
    "<h2>Let's verify the correlation of title and tags values with views</h2>\n",
    "- exploring the Correlation matrix to see if have any interesting relation"
   ]
  },
  {
   "cell_type": "code",
   "execution_count": null,
   "metadata": {
    "_cell_guid": "b8632e9d-9e1f-43ef-b404-58e890d1c2c6",
    "_kg_hide-input": true,
    "_uuid": "53f89730c1216f8e91c236fe7aaabf4bc51421e0"
   },
   "outputs": [],
   "source": [
    "plt.figure(figsize = (14,10))\n",
    "\n",
    "sns.heatmap(df_yout[['count_word', 'count_unique_word','count_letters',\n",
    "                     \"count_punctuations\",\"count_words_upper\", \"count_words_title\", \n",
    "                     \"count_stopwords\",\"mean_word_len\", \n",
    "                     'views_log', 'likes_log','dislikes_log','comment_log',\n",
    "                     'ratings_disabled', 'comments_disabled', 'video_error_or_removed']].corr(), annot=True)\n",
    "plt.show()"
   ]
  },
  {
   "cell_type": "markdown",
   "metadata": {
    "_cell_guid": "205ce1fe-39fe-4f6e-9e15-4441b4d21c53",
    "_uuid": "a703558363d43bfbb8e927f7d2fa640c2aae47e7"
   },
   "source": [
    "<h1>Visualizing  the Word Cloud of Tagged videos </h1>\n",
    "- Ratings Disable \n",
    "- Comments Disable\n",
    "- Video Error or Removed"
   ]
  },
  {
   "cell_type": "code",
   "execution_count": null,
   "metadata": {
    "_cell_guid": "2ac83877-49d2-4409-a9fb-dee0c415f574",
    "_uuid": "7b7d65bd6ebff1df1a2f7a87587ead863f4ce9ad"
   },
   "outputs": [],
   "source": [
    "plt.rcParams['font.size']= 15              \n",
    "plt.rcParams['savefig.dpi']= 100         \n",
    "plt.rcParams['figure.subplot.bottom']= .1 "
   ]
  },
  {
   "cell_type": "markdown",
   "metadata": {
    "_cell_guid": "2b814991-bbb1-4c9d-af0c-03c6505784d6",
    "_uuid": "bdf494408c137b5d20dfa34cbd0fd2fb8828b003",
    "collapsed": true
   },
   "source": [
    "<h3>Rating Disabled</h3>"
   ]
  },
  {
   "cell_type": "code",
   "execution_count": null,
   "metadata": {
    "_cell_guid": "b23fabcb-0034-475d-b0c3-a3ee8bbda327",
    "_kg_hide-input": true,
    "_uuid": "edef6bfe244c46826fac05b1bef6c5505c6665af"
   },
   "outputs": [],
   "source": [
    "plt.figure(figsize = (15,15))\n",
    "\n",
    "stopwords = set(STOPWORDS)\n",
    "\n",
    "wordcloud = WordCloud(\n",
    "                          background_color='black',\n",
    "                          stopwords=stopwords,\n",
    "                          max_words=1000,\n",
    "                          max_font_size=120, \n",
    "                          random_state=42\n",
    "                         ).generate(str(df_yout['title']))\n",
    "\n",
    "print(wordcloud)\n",
    "fig = plt.figure(1)\n",
    "plt.imshow(wordcloud)\n",
    "plt.title(\"WORD CLOUD - TITLES\")\n",
    "plt.axis('off')\n",
    "plt.show()"
   ]
  },
  {
   "cell_type": "markdown",
   "metadata": {
    "_cell_guid": "8a2f8588-246e-455c-8050-76586e3a77eb",
    "_uuid": "f43e1d70fe17700674ef0319001b84dc73519504"
   },
   "source": [
    "<h3>Comments Disabled</h3>"
   ]
  },
  {
   "cell_type": "markdown",
   "metadata": {
    "_cell_guid": "2563ed70-ef5a-42d9-bd56-d9b03e1c88fc",
    "_uuid": "5a9f19a773d2def7c9a16a8a3047c332fc084f6e"
   },
   "source": [
    "<h2>General Title Word Cloud</h2>"
   ]
  },
  {
   "cell_type": "code",
   "execution_count": null,
   "metadata": {
    "_cell_guid": "77d39f61-e179-4036-81fc-b8443f25ab26",
    "_kg_hide-input": true,
    "_uuid": "ba4fe3108b4479d5f22f6135217947aefb39e9be"
   },
   "outputs": [],
   "source": [
    "plt.figure(figsize = (15,15))\n",
    "\n",
    "stopwords = set(STOPWORDS)\n",
    "wordcloud = WordCloud(\n",
    "                          background_color='black',\n",
    "                          stopwords=stopwords,\n",
    "                          max_words=150,\n",
    "                          max_font_size=40, \n",
    "                          random_state=42\n",
    "                         ).generate(str(df_yout['title']))\n",
    "\n",
    "print(wordcloud)\n",
    "fig = plt.figure(1)\n",
    "plt.imshow(wordcloud)\n",
    "plt.title(\"WORD CLOUD - DESCRIPTION\")\n",
    "plt.axis('off')\n",
    "plt.show()"
   ]
  },
  {
   "cell_type": "markdown",
   "metadata": {
    "_cell_guid": "4b0639ef-29f8-4c60-9696-7aedaa34865d",
    "_uuid": "514776b1141b021bc35577e9dcff0d74add4d3b9"
   },
   "source": [
    "<h1>Visualizing the WordCloud of Description</h1>"
   ]
  },
  {
   "cell_type": "code",
   "execution_count": null,
   "metadata": {
    "_cell_guid": "b9129b26-db7f-4d9e-a7d1-9ee1f44d7a12",
    "_kg_hide-input": true,
    "_uuid": "52c57bf1336dac57ef10de65ef434f04df8eda37"
   },
   "outputs": [],
   "source": [
    "plt.figure(figsize = (15,15))\n",
    "\n",
    "stopwords = set(STOPWORDS)\n",
    "\n",
    "newStopWords= ['https', 'youtube', 'VIDEO','youtu','CHANNEL', 'WATCH']\n",
    "\n",
    "stopwords.update(newStopWords)\n",
    "\n",
    "wordcloud = WordCloud(\n",
    "                          background_color='black',\n",
    "                          stopwords=stopwords,\n",
    "                          max_words=1200,\n",
    "                          max_font_size=80, \n",
    "                          random_state=42\n",
    "                         ).generate(str(df_yout['description']))\n",
    "\n",
    "print(wordcloud)\n",
    "fig = plt.figure(1)\n",
    "plt.imshow(wordcloud)\n",
    "plt.title(\"WORD CLOUD - DESCRIPTION\")\n",
    "plt.axis('off')\n",
    "plt.show()\n"
   ]
  },
  {
   "cell_type": "markdown",
   "metadata": {
    "_cell_guid": "aaf00dfc-b16a-4f70-bec9-3f4b6b1e5d9a",
    "_uuid": "49800adeb3e6612babe18ef97e143d71f48d9c2f"
   },
   "source": [
    "<h1>Analysing the Wordcloud of Tags</h1>"
   ]
  },
  {
   "cell_type": "code",
   "execution_count": null,
   "metadata": {
    "_cell_guid": "4d63c35a-91e0-4e95-abe8-69b77a418e56",
    "_kg_hide-input": true,
    "_uuid": "9b0578711ae29172a980f3688651169a022d88cd"
   },
   "outputs": [],
   "source": [
    "plt.figure(figsize = (15,15))\n",
    "\n",
    "stopwords = set(STOPWORDS)\n",
    "wordcloud = WordCloud(\n",
    "                          background_color='black',\n",
    "                          stopwords=stopwords,\n",
    "                          max_words=1200,\n",
    "                          max_font_size=120, \n",
    "                          random_state=42\n",
    "                         ).generate(str(df_yout['tags']))\n",
    "print(wordcloud)\n",
    "fig = plt.figure(1)\n",
    "plt.imshow(wordcloud)\n",
    "plt.title(\"WORD CLOUD - TAGS\")\n",
    "plt.axis('off')\n",
    "plt.show()"
   ]
  },
  {
   "cell_type": "markdown",
   "metadata": {
    "_cell_guid": "ec28c8ee-55d9-4c73-8a09-bd39e2be1d57",
    "_uuid": "6cfa87f68f7775d0dad67a2826514157f022107f"
   },
   "source": [
    "I will continue implementing this analysis because I want learn about text data! <br>\n",
    "\n",
    "Thank you very much for your view and <b> votes up</b> my kernel "
   ]
  },
  {
   "cell_type": "code",
   "execution_count": null,
   "metadata": {
    "_cell_guid": "0c37a3d2-0fa1-436f-b6df-478c60bbc620",
    "_uuid": "f53e74a1b60b13a51771cd3e50047f9ca1ea166a"
   },
   "outputs": [],
   "source": [
    "df_yout['publish_time'] = pd.to_datetime(df_yout['publish_time'], format='%Y-%m-%dT%H:%M:%S.%fZ')"
   ]
  },
  {
   "cell_type": "code",
   "execution_count": null,
   "metadata": {
    "_cell_guid": "2a52d81a-80de-49e5-83d5-ac93049eaaab",
    "_uuid": "9b92d63e6c1c139db07a92cd8eea9a404e935bef"
   },
   "outputs": [],
   "source": [
    "df_yout['month'] = df_yout['publish_time'].dt.month\n",
    "\n",
    "print(\"Category Name count\")\n",
    "print(df_yout['month'].value_counts()[:5])\n",
    "\n",
    "plt.figure(figsize = (14,9))\n",
    "\n",
    "plt.subplot(211)\n",
    "g = sns.countplot('month', data=df_yout, palette=\"Set1\")\n",
    "g.set_xticklabels(g.get_xticklabels(),rotation=45)\n",
    "g.set_title(\"Counting Months \", fontsize=20)\n",
    "g.set_xlabel(\"Months\", fontsize=15)\n",
    "g.set_ylabel(\"Count\", fontsize=15)\n",
    "\n",
    "plt.subplot(212)\n",
    "g1 = sns.lvplot(x='month', y='like_rate', data=df_yout, palette=\"Set1\")\n",
    "g1.set_xticklabels(g.get_xticklabels(),rotation=45)\n",
    "g1.set_title(\"Like Rate by Month\", fontsize=20)\n",
    "g1.set_xlabel(\"Months\", fontsize=15)\n",
    "g1.set_ylabel(\"Like Rate(log)\", fontsize=15)\n",
    "\n",
    "plt.subplots_adjust(hspace = 0.5, top = 0.9)\n",
    "\n",
    "plt.show()"
   ]
  },
  {
   "cell_type": "markdown",
   "metadata": {
    "_cell_guid": "e229a37c-55b0-4cea-892c-0d0872ee39d0",
    "_uuid": "0a406c9036da8bcca4e1adaf3ffc9c7b49c83ed5"
   },
   "source": [
    "## Let's extract the hour value of datetime'"
   ]
  },
  {
   "cell_type": "code",
   "execution_count": null,
   "metadata": {
    "_cell_guid": "5462b74a-a426-43b2-8c8d-d1ae9f0a9e2f",
    "_uuid": "6aa65c03d3f8249206c5df25a264bcc51427e447"
   },
   "outputs": [],
   "source": [
    "# separates date and time into two columns from 'publish_time' column\n",
    "df_yout.insert(4, 'publish_date', df_yout['publish_time'].dt.date)\n",
    "df_yout['publish_time'] = df_yout['publish_time'].dt.time\n",
    "df_yout[['hour','min','sec']] = df_yout['publish_time'].astype(str).str.split(':', expand=True).astype(int)"
   ]
  },
  {
   "cell_type": "markdown",
   "metadata": {
    "_cell_guid": "9bad740d-a02c-4611-aba5-384e0edb9e4b",
    "_uuid": "d28e2e4741394f44706d129c6c01edc885bdad5c"
   },
   "source": [
    "## Knowning the Hour feature"
   ]
  },
  {
   "cell_type": "code",
   "execution_count": null,
   "metadata": {
    "_cell_guid": "18689e29-ee93-47b0-aa6b-eec4b475b82d",
    "_kg_hide-input": true,
    "_uuid": "9fba35e1898d41d0ab0e3ae24e880d32c7874346"
   },
   "outputs": [],
   "source": [
    "print(\"TOP 5 Hour values\")\n",
    "print(df_yout['hour'].value_counts()[:5])\n",
    "\n",
    "plt.figure(figsize = (14,9))\n",
    "\n",
    "plt.subplot(211)\n",
    "g = sns.countplot('hour', data=df_yout, palette=\"Set1\")\n",
    "g.set_xticklabels(g.get_xticklabels(),rotation=45)\n",
    "g.set_title(\"Counting Hour \", fontsize=20)\n",
    "g.set_xlabel(\"Hours\", fontsize=15)\n",
    "g.set_ylabel(\"Count\", fontsize=15)\n",
    "\n",
    "plt.subplot(212)\n",
    "g1 = sns.lvplot(x='hour', y='like_rate', data=df_yout, palette=\"Set1\")\n",
    "g1.set_xticklabels(g.get_xticklabels(),rotation=45)\n",
    "g1.set_title(\"Like Rate by Hour\", fontsize=20)\n",
    "g1.set_xlabel(\"Hours\", fontsize=15)\n",
    "g1.set_ylabel(\"Like Rate(%)\", fontsize=15)\n",
    "\n",
    "plt.subplots_adjust(hspace = 0.5, top = 0.9)\n",
    "\n",
    "plt.show()"
   ]
  },
  {
   "cell_type": "code",
   "execution_count": null,
   "metadata": {
    "_cell_guid": "d7747e86-53ac-41f9-ac3a-a2859d5c7562",
    "_uuid": "20af52241e8aa6d179abd0df7781109f61db4c4e"
   },
   "outputs": [],
   "source": [
    "plt.figure(figsize=(14,5))\n",
    "\n",
    "g1 = sns.lvplot(x='hour', y='comment_rate', data=df_yout, palette=\"Set1\")\n",
    "g1.set_xticklabels(g.get_xticklabels(),rotation=45)\n",
    "g1.set_title(\"Comment Rate by Hour\", fontsize=20)\n",
    "g1.set_xlabel(\"Hours\", fontsize=15)\n",
    "g1.set_ylabel(\"Comment Rate(%)\", fontsize=15)\n",
    "\n",
    "plt.show()"
   ]
  },
  {
   "cell_type": "markdown",
   "metadata": {
    "_cell_guid": "fe139cbc-0de5-4b20-810e-7e85ea7fba18",
    "_uuid": "18ddeefa1af004acb5bb780a354fe895b05a2d10",
    "collapsed": true
   },
   "source": [
    "Very interesting distribuition by hour"
   ]
  },
  {
   "cell_type": "markdown",
   "metadata": {},
   "source": [
    "# NOTE: If you want to see all code, fork this kernel"
   ]
  },
  {
   "cell_type": "markdown",
   "metadata": {
    "_cell_guid": "ad02d8bb-8bc7-4135-b514-d8f2b82ca246",
    "_uuid": "e3b2187e575c4eb4f197228b10e60fd8af67f3b0"
   },
   "source": [
    "# Votesup and Stay Tuned because I will continue this analysis"
   ]
  },
  {
   "cell_type": "code",
   "execution_count": null,
   "metadata": {
    "_kg_hide-input": true,
    "_kg_hide-output": true
   },
   "outputs": [],
   "source": [
    "output_test = widgets.Output()\n",
    "range_slider = widgets.IntRangeSlider(value=[1, (df_yout['views'].max() -1)], \n",
    "                                      min=1, \n",
    "                                      max=(df_yout['views'].max() -1),\n",
    "                                      step=100, description='Range: ')\n",
    "y_widget = widgets.Dropdown(options=['views','likes'], description='Metrics: ', value='views')\n",
    "\n",
    "def update_x_range(*args):\n",
    "    output_test.clear_output()\n",
    "    if (y_widget.value == 'views'):\n",
    "        range_slider.value = (1,df_yout['views'].max() -1)\n",
    "        range_slider.max = (df_yout['views'].max() -1)\n",
    "        \n",
    "    elif (y_widget.value != 'views'):\n",
    "        range_slider.value = (1, df_yout['likes'].max() -1)\n",
    "        range_slider.max = (df_yout['likes'].max() -1)\n",
    "    else:\n",
    "        pass\n",
    "    \n",
    "y_widget.observe(update_x_range, 'value')\n",
    "\n",
    "def printer(x, y):\n",
    "    print(x, y)"
   ]
  }
 ],
 "metadata": {
  "kernelspec": {
   "display_name": "Python 3",
   "language": "python",
   "name": "python3"
  },
  "language_info": {
   "codemirror_mode": {
    "name": "ipython",
    "version": 3
   },
   "file_extension": ".py",
   "mimetype": "text/x-python",
   "name": "python",
   "nbconvert_exporter": "python",
   "pygments_lexer": "ipython3",
   "version": "3.5.2"
  }
 },
 "nbformat": 4,
 "nbformat_minor": 1
}
