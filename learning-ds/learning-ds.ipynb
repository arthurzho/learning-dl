{
 "cells": [
  {
   "cell_type": "markdown",
   "metadata": {},
   "source": [
    "#### read data"
   ]
  },
  {
   "cell_type": "code",
   "execution_count": null,
   "metadata": {},
   "outputs": [],
   "source": [
    "import pandas as pd\n",
    "data = pd.read_csv('P020180829573768987838.csv')"
   ]
  },
  {
   "cell_type": "markdown",
   "metadata": {},
   "source": [
    "#### sum"
   ]
  },
  {
   "cell_type": "code",
   "execution_count": null,
   "metadata": {
    "scrolled": true
   },
   "outputs": [],
   "source": [
    "yingshou_sum_groupby_prevince =  data[['省份',\"营收(万元)\"]].groupby(['省份'], as_index=False).sum()\n",
    "yingshou_sum_groupby_prevince.head(5)"
   ]
  },
  {
   "cell_type": "markdown",
   "metadata": {},
   "source": [
    "#### mean"
   ]
  },
  {
   "cell_type": "code",
   "execution_count": null,
   "metadata": {},
   "outputs": [],
   "source": [
    "yingshou_mean_groupby_prevince =  data[['省份',\"营收(万元)\"]].groupby(['省份'], as_index=False)[\"营收(万元)\"].mean()\n",
    "yingshou_mean_groupby_prevince.head(5)"
   ]
  },
  {
   "cell_type": "markdown",
   "metadata": {},
   "source": [
    "#### count"
   ]
  },
  {
   "cell_type": "code",
   "execution_count": null,
   "metadata": {},
   "outputs": [],
   "source": [
    "yingshou_count_groupby_prevince =  data[['省份',\"营收(万元)\"]].groupby(['省份'], as_index=False)[\"营收(万元)\"].count()\n",
    "yingshou_count_groupby_prevince.head(5)"
   ]
  },
  {
   "cell_type": "markdown",
   "metadata": {},
   "source": [
    "#### sorted"
   ]
  },
  {
   "cell_type": "code",
   "execution_count": null,
   "metadata": {},
   "outputs": [],
   "source": [
    "yingshou_sum_groupby_prevince_sorted =data[['省份',\"营收(万元)\"]].groupby(['省份'], as_index=False).sum().sort_values(by=\"营收(万元)\", ascending=False)\n",
    "yingshou_sum_groupby_prevince_sorted.head(5)"
   ]
  },
  {
   "cell_type": "code",
   "execution_count": null,
   "metadata": {},
   "outputs": [],
   "source": [
    "yingshou_mean_groupby_prevince_sorted =data[['省份',\"营收(万元)\"]].groupby(['省份'], as_index=False).mean().sort_values(by=\"营收(万元)\", ascending=False)\n",
    "yingshou_mean_groupby_prevince_sorted.head(5)"
   ]
  },
  {
   "cell_type": "code",
   "execution_count": null,
   "metadata": {},
   "outputs": [],
   "source": [
    "yingshou_count_groupby_prevince_sorted =data[['省份',\"营收(万元)\"]].groupby(['省份'], as_index=False).count().sort_values(by=\"营收(万元)\", ascending=False)\n",
    "yingshou_count_groupby_prevince_sorted.head(32)"
   ]
  },
  {
   "cell_type": "code",
   "execution_count": null,
   "metadata": {
    "scrolled": true
   },
   "outputs": [],
   "source": [
    "data.head()"
   ]
  },
  {
   "cell_type": "markdown",
   "metadata": {},
   "source": [
    "#### 列出所有广东省的企业"
   ]
  },
  {
   "cell_type": "markdown",
   "metadata": {},
   "source": [
    "#### 统计各个省份的入围企业\n",
    "- 数量\n",
    "- 营收平均数\n",
    "- 营收总额"
   ]
  },
  {
   "cell_type": "markdown",
   "metadata": {},
   "source": [
    "#### 房地产业分析\n",
    "- 数量\n",
    "- 营收平均数\n",
    "- 营收总额"
   ]
  },
  {
   "cell_type": "markdown",
   "metadata": {},
   "source": [
    "#### 统计各个行业的分布"
   ]
  },
  {
   "cell_type": "markdown",
   "metadata": {},
   "source": [
    "#### 画图展示\n",
    "- 饼图\n",
    "- 柱状图"
   ]
  },
  {
   "cell_type": "markdown",
   "metadata": {},
   "source": [
    "#### Todo\n",
    "- 下载2017、2019年的数据\n",
    "- 给出具体的对比分析报告\n"
   ]
  }
 ],
 "metadata": {
  "kernelspec": {
   "display_name": "Python 3",
   "language": "python",
   "name": "python3"
  },
  "language_info": {
   "codemirror_mode": {
    "name": "ipython",
    "version": 3
   },
   "file_extension": ".py",
   "mimetype": "text/x-python",
   "name": "python",
   "nbconvert_exporter": "python",
   "pygments_lexer": "ipython3",
   "version": "3.5.2"
  },
  "toc": {
   "base_numbering": 1,
   "nav_menu": {},
   "number_sections": true,
   "sideBar": true,
   "skip_h1_title": false,
   "title_cell": "Table of Contents",
   "title_sidebar": "Contents",
   "toc_cell": false,
   "toc_position": {},
   "toc_section_display": true,
   "toc_window_display": false
  }
 },
 "nbformat": 4,
 "nbformat_minor": 2
}
