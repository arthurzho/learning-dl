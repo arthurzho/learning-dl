{
 "cells": [
  {
   "cell_type": "markdown",
   "metadata": {},
   "source": [
    "Tools that for developing and design\n",
    "---\n",
    "\n",
    "\n",
    "- MarkDown\n",
    "\t- Ubuntu: Remarkable\n",
    "\t- [MarkDown on Mac](https://www.jianshu.com/p/7901d233df54)\n",
    "\t- Android Phone（CN ）坚果云\n",
    "    \n",
    "![remarkable](images/markdown-1.png)\n",
    "![remarkable](images/markdown-2.png)\n",
    "\n",
    "- Jupyther\n",
    "    - Magic Key: P\n",
    "\n",
    "![Cheatsheet](images/jupyter-1.png)\n",
    "\n",
    "\n",
    "- PyCharm\n",
    "    - Magic Key: Ctrl+Shift+A\n",
    "\n",
    "![ReferenceCard](images/pycharm.png)\n",
    "\n",
    "- LaTex\n",
    "    - [pdf](pdfs/LaTeX_cheat_sheet.pdf)\n",
    "    (As the grammar is a bit too complicated, I'll study it later.)"
   ]
  }
 ],
 "metadata": {
  "kernelspec": {
   "display_name": "Python 3",
   "language": "python",
   "name": "python3"
  },
  "language_info": {
   "codemirror_mode": {
    "name": "ipython",
    "version": 3
   },
   "file_extension": ".py",
   "mimetype": "text/x-python",
   "name": "python",
   "nbconvert_exporter": "python",
   "pygments_lexer": "ipython3",
   "version": "3.5.2"
  }
 },
 "nbformat": 4,
 "nbformat_minor": 2
}
