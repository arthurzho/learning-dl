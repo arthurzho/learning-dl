{
 "cells": [
  {
   "cell_type": "markdown",
   "metadata": {},
   "source": [
    "bubble sort"
   ]
  },
  {
   "cell_type": "code",
   "execution_count": 110,
   "metadata": {},
   "outputs": [
    {
     "name": "stdout",
     "output_type": "stream",
     "text": [
      "[-58, 1, 7, 8, 10, 12, 23, 34, 56, 56, 100, 234, 354, 456]\n"
     ]
    }
   ],
   "source": [
    "def bubble_sort(l):\n",
    "    for i in range(len(l)-1):\n",
    "        for j in range(len(l)-1-i):\n",
    "            if l[j] > l[j+1]:\n",
    "                l[j], l[j+1] = l[j+1],l[j]\n",
    "\n",
    "L = [56,12,1,8,354,10,100,34,56,7,23,456,234,-58]\n",
    "bubble_sort(L)    \n",
    "print(L)"
   ]
  },
  {
   "cell_type": "markdown",
   "metadata": {},
   "source": [
    "calculating the x power of N"
   ]
  },
  {
   "cell_type": "code",
   "execution_count": 111,
   "metadata": {},
   "outputs": [
    {
     "name": "stdout",
     "output_type": "stream",
     "text": [
      "125\n",
      "1024\n"
     ]
    }
   ],
   "source": [
    "def power(x, n):\n",
    "    s=1\n",
    "    while n > 0:\n",
    "        n -= 1\n",
    "        s *= x\n",
    "        \n",
    "    return s\n",
    "\n",
    "print (power(5,3))\n",
    "print (power(2,10))"
   ]
  },
  {
   "cell_type": "markdown",
   "metadata": {},
   "source": [
    "calculating a*a + b*b + c*c+ ..."
   ]
  },
  {
   "cell_type": "code",
   "execution_count": 112,
   "metadata": {},
   "outputs": [
    {
     "data": {
      "text/plain": [
       "79"
      ]
     },
     "execution_count": 112,
     "metadata": {},
     "output_type": "execute_result"
    }
   ],
   "source": [
    "def square_numbers(num_list):\n",
    "    '''\n",
    "    input: \n",
    "        num_list, a list of numbers, such as [a, b, c,...]\n",
    "    output:\n",
    "        return the sum of a*a, b*b, c*c,...\n",
    "    '''\n",
    "    s=0\n",
    "    for x in num_list:\n",
    "        s += x*x \n",
    "    return s\n",
    "\n",
    "\n",
    "square_numbers([1,2,3,4,7])\n"
   ]
  },
  {
   "cell_type": "markdown",
   "metadata": {},
   "source": [
    "calculating the factorial of N"
   ]
  },
  {
   "cell_type": "code",
   "execution_count": 113,
   "metadata": {},
   "outputs": [
    {
     "name": "stdout",
     "output_type": "stream",
     "text": [
      "1\n",
      "1\n",
      "2\n",
      "120\n",
      "3628800\n"
     ]
    }
   ],
   "source": [
    "def factorial(N):\n",
    "    assert(N)>=0\n",
    "    r=1\n",
    "    for i in range(N):\n",
    "        r *= i+1\n",
    "    \n",
    "    return r\n",
    "\n",
    "for n in [0,1,2,5,10]:\n",
    "    print(factorial(n))"
   ]
  },
  {
   "cell_type": "markdown",
   "metadata": {},
   "source": [
    "get the file list in the current path"
   ]
  },
  {
   "cell_type": "code",
   "execution_count": 114,
   "metadata": {},
   "outputs": [
    {
     "data": {
      "text/plain": [
       "['Untitled.ipynb',\n",
       " 'test.txt',\n",
       " '.ipynb_checkpoints',\n",
       " '30-common-functions.ipynb',\n",
       " '30个Python常用功能.ipynb']"
      ]
     },
     "execution_count": 114,
     "metadata": {},
     "output_type": "execute_result"
    }
   ],
   "source": [
    "import os\n",
    "[d for d in os.listdir('.')]"
   ]
  },
  {
   "cell_type": "markdown",
   "metadata": {},
   "source": [
    "downcast the string"
   ]
  },
  {
   "cell_type": "code",
   "execution_count": 115,
   "metadata": {},
   "outputs": [
    {
     "data": {
      "text/plain": [
       "['hello', 'world', 'ibm', 'apple']"
      ]
     },
     "execution_count": 115,
     "metadata": {},
     "output_type": "execute_result"
    }
   ],
   "source": [
    "L = ['Hello', 'World', 'IBM', 'Apple']\n",
    "[s.lower() for s in L]"
   ]
  },
  {
   "cell_type": "markdown",
   "metadata": {},
   "source": [
    "output all the files and directories under the gaven path"
   ]
  },
  {
   "cell_type": "code",
   "execution_count": 133,
   "metadata": {},
   "outputs": [
    {
     "name": "stdout",
     "output_type": "stream",
     "text": [
      "./Untitled.ipynb\n",
      "./test.txt\n",
      "./.ipynb_checkpoints\n",
      "./.ipynb_checkpoints/Untitled-checkpoint.ipynb\n",
      "./.ipynb_checkpoints/30-common-functions-checkpoint.ipynb\n",
      "./30-common-functions.ipynb\n",
      "./30个Python常用功能.ipynb\n"
     ]
    }
   ],
   "source": [
    "def print_dir(path, filter='all'):\n",
    "    '''\n",
    "    input:\n",
    "        path: a string as the path you want to list\n",
    "        filter: default as 'all'; file-only as 'file'; directory-only as 'dir'; \n",
    "            get into directory recursively as 'recursive'\n",
    "    output:\n",
    "        print the files and directories under the #path \n",
    "    '''\n",
    "    if(path==''):\n",
    "        path = input(\"Please input a path:\")\n",
    "        \n",
    "    if path == \"\":\n",
    "        print(\"Please input a valid path\")\n",
    "    else:\n",
    "        for f in os.listdir(path):\n",
    "            if (filter=='all'):\n",
    "                print(os.path.join(path, f))\n",
    "            elif (filter=='file'):\n",
    "                if (os.path.isfile(os.path.join(path, f))):\n",
    "                    print(os.path.join(path, f))\n",
    "            elif (filter=='dir'):\n",
    "                if (os.path.isdir(os.path.join(path, f))):\n",
    "                    print(os.path.join(path, f+'/'))\n",
    "            elif (filter == 'recursive'):\n",
    "                print(os.path.join(path, f))\n",
    "                if (os.path.isdir(os.path.join(path, f))):\n",
    "                    print_dir(os.path.join(path, f), filter='recursive')\n",
    "            else:\n",
    "                print(\"filter error\")\n",
    "\n",
    "                \n",
    "            \n",
    "\n",
    "print_dir(path='.', filter='recursive')\n"
   ]
  },
  {
   "cell_type": "markdown",
   "metadata": {},
   "source": [
    "print all the .ipynb files under current path"
   ]
  },
  {
   "cell_type": "code",
   "execution_count": 117,
   "metadata": {},
   "outputs": [
    {
     "name": "stdout",
     "output_type": "stream",
     "text": [
      "./Untitled.ipynb\n",
      "./.ipynb_checkpoints/Untitled-checkpoint.ipynb\n",
      "./.ipynb_checkpoints/30-common-functions-checkpoint.ipynb\n",
      "./30-common-functions.ipynb\n",
      "./30个Python常用功能.ipynb\n"
     ]
    }
   ],
   "source": [
    "import os\n",
    "def print_ipynb_files(path='.'):\n",
    "    '''\n",
    "    keypoint: str.endwith('.ipynb')\n",
    "    '''\n",
    "    for f in os.listdir(path):\n",
    "        f=os.path.join(path,f)\n",
    "        if(os.path.isdir(f)):\n",
    "            print_ipynb_files(f)\n",
    "        elif(f.endswith('.ipynb')):\n",
    "            print(f)\n",
    "        \n",
    "print_ipynb_files()        "
   ]
  },
  {
   "cell_type": "markdown",
   "metadata": {},
   "source": [
    "merge two lists"
   ]
  },
  {
   "cell_type": "code",
   "execution_count": 118,
   "metadata": {},
   "outputs": [
    {
     "name": "stdout",
     "output_type": "stream",
     "text": [
      "<class 'set'>\n",
      "[1, 2, 3, 4, 5]\n"
     ]
    }
   ],
   "source": [
    "L1 = [1,2,3,4]\n",
    "L2 = [2,3,4,5]\n",
    "L3 = L1 + L2\n",
    "s = set(L3)\n",
    "print(type(s))\n",
    "L3 = list(s)\n",
    "print(L3)"
   ]
  },
  {
   "cell_type": "markdown",
   "metadata": {},
   "source": [
    "random code, length 6"
   ]
  },
  {
   "cell_type": "code",
   "execution_count": 119,
   "metadata": {},
   "outputs": [
    {
     "name": "stdout",
     "output_type": "stream",
     "text": [
      "yZsCJl\n"
     ]
    }
   ],
   "source": [
    "'''\n",
    "keyword: random.sample()\n",
    "'''\n",
    "import random\n",
    "l=[]\n",
    "\n",
    "for i in range(65, 91):#A-Z\n",
    "    l.append(chr(i))\n",
    "for i in range(97, 123):#a-z\n",
    "    l.append(chr(i))\n",
    "for i in range(48, 58):#0-9\n",
    "    l.append(chr(i))\n",
    "    \n",
    "code=random.sample(l,6)\n",
    "code=''.join(code)\n",
    "print(code)"
   ]
  },
  {
   "cell_type": "markdown",
   "metadata": {},
   "source": [
    "sqrt"
   ]
  },
  {
   "cell_type": "code",
   "execution_count": 120,
   "metadata": {},
   "outputs": [
    {
     "name": "stdout",
     "output_type": "stream",
     "text": [
      "1.4142135623730951\n",
      "1.4142135623730951\n",
      "1.4142135623730951\n"
     ]
    }
   ],
   "source": [
    "print (pow(2, 0.5))\n",
    "print (2**0.5)\n",
    "import math\n",
    "print(math.sqrt(2))"
   ]
  },
  {
   "cell_type": "markdown",
   "metadata": {},
   "source": [
    "try float(s) \n"
   ]
  },
  {
   "cell_type": "code",
   "execution_count": 121,
   "metadata": {},
   "outputs": [
    {
     "name": "stdout",
     "output_type": "stream",
     "text": [
      "False\n",
      "False\n",
      "True\n",
      "True\n",
      "True\n",
      "True\n"
     ]
    }
   ],
   "source": [
    "def is_numeric(s):\n",
    "    try: \n",
    "        float(s)\n",
    "        return True\n",
    "    except ValueError:\n",
    "        pass\n",
    "\n",
    "    try:\n",
    "        import unicodedata\n",
    "        unicodedata.numeric(s)\n",
    "        return True\n",
    "    except (TypeError, ValueError):\n",
    "        pass\n",
    "    \n",
    "    return False\n",
    "\n",
    "chr1 = '123.2'\n",
    "print(chr1.isdigit())\n",
    "print(chr1.isnumeric())\n",
    "print(is_numeric(chr1))\n",
    "\n",
    "chr2 = '123'\n",
    "print(chr2.isdigit())\n",
    "print(chr2.isnumeric())\n",
    "print(is_numeric(chr2))"
   ]
  },
  {
   "cell_type": "markdown",
   "metadata": {},
   "source": [
    "Value Error"
   ]
  },
  {
   "cell_type": "code",
   "execution_count": 122,
   "metadata": {},
   "outputs": [
    {
     "name": "stdout",
     "output_type": "stream",
     "text": [
      "ValueError caught\n",
      "ValueError caught\n"
     ]
    }
   ],
   "source": [
    "try :\n",
    "    int('1.0')\n",
    "except (ValueError):\n",
    "    print(\"ValueError caught\")\n",
    "    \n",
    "try:\n",
    "    float('a')\n",
    "except (ValueError):\n",
    "    print(\"ValueError caught\")\n"
   ]
  },
  {
   "cell_type": "markdown",
   "metadata": {},
   "source": [
    "check a year is a leap year"
   ]
  },
  {
   "cell_type": "code",
   "execution_count": 123,
   "metadata": {},
   "outputs": [
    {
     "name": "stdout",
     "output_type": "stream",
     "text": [
      "True\n",
      "False\n",
      "True\n",
      "True\n",
      "False\n",
      "True\n"
     ]
    }
   ],
   "source": [
    "def is_leap_year(y):\n",
    "    if(y%4==0):\n",
    "        if(y%100==0):\n",
    "            if(y%400==0):\n",
    "                return True\n",
    "            else:\n",
    "                return False\n",
    "        else: \n",
    "            return True\n",
    "        \n",
    "\n",
    "import calendar as cld\n",
    "print(cld.isleap(1996))\n",
    "print(cld.isleap(1900))\n",
    "print(cld.isleap(2000))\n",
    "\n",
    "print(is_leap_year(1996))\n",
    "print(is_leap_year(1900))\n",
    "print(is_leap_year(2000))"
   ]
  },
  {
   "cell_type": "markdown",
   "metadata": {},
   "source": [
    "Fibonacci sequence"
   ]
  },
  {
   "cell_type": "code",
   "execution_count": 124,
   "metadata": {},
   "outputs": [
    {
     "name": "stdout",
     "output_type": "stream",
     "text": [
      "[0]\n"
     ]
    }
   ],
   "source": [
    "def fibonacci_sequence(n):\n",
    "    #assert(type(n)==int, True)\n",
    "\n",
    "    L=[]\n",
    "    if(n==0): \n",
    "        return [0]\n",
    "    elif(n==1):\n",
    "        return [0,1]\n",
    "    elif(n>1):\n",
    "        i=2\n",
    "        a = 0\n",
    "        b = 1\n",
    "        L.append(a)\n",
    "        L.append(b)\n",
    "        while(i<=n):\n",
    "            c = a + b\n",
    "            a = b\n",
    "            b = c\n",
    "            i+= 1\n",
    "            L.append(c)\n",
    "        return L\n",
    "            \n",
    "l=fibonacci_sequence(0)\n",
    "print(l)"
   ]
  },
  {
   "cell_type": "markdown",
   "metadata": {},
   "source": [
    "decimal to binary"
   ]
  },
  {
   "cell_type": "code",
   "execution_count": 125,
   "metadata": {},
   "outputs": [
    {
     "name": "stdout",
     "output_type": "stream",
     "text": [
      "0b1111100\n",
      "0o174\n",
      "0x7c\n"
     ]
    }
   ],
   "source": [
    "dec = int(124)\n",
    "print(bin(dec))\n",
    "print(oct(dec))\n",
    "print(hex(dec))"
   ]
  },
  {
   "cell_type": "markdown",
   "metadata": {},
   "source": [
    "the greatest common diviser\n",
    "the greatest common measure\n",
    "the greatest common factor"
   ]
  },
  {
   "cell_type": "code",
   "execution_count": 126,
   "metadata": {},
   "outputs": [
    {
     "data": {
      "text/plain": [
       "16"
      ]
     },
     "execution_count": 126,
     "metadata": {},
     "output_type": "execute_result"
    }
   ],
   "source": [
    "def get_greatest_common_diviser(n, m):\n",
    "    t=min(n,m)\n",
    "    for i in range(1, t+1):\n",
    "        if(n%i==0)and (m%i==0):\n",
    "            r=i\n",
    "    return r\n",
    "    \n",
    "get_greatest_common_diviser(32, 48)"
   ]
  },
  {
   "cell_type": "code",
   "execution_count": 127,
   "metadata": {},
   "outputs": [
    {
     "name": "stdout",
     "output_type": "stream",
     "text": [
      "    November 84\n",
      "Mo Tu We Th Fr Sa Su\n",
      "       1  2  3  4  5\n",
      " 6  7  8  9 10 11 12\n",
      "13 14 15 16 17 18 19\n",
      "20 21 22 23 24 25 26\n",
      "27 28 29 30\n",
      "\n"
     ]
    }
   ],
   "source": [
    "import calendar\n",
    "yy=84\n",
    "mm=11\n",
    "print(calendar.month(yy,mm))"
   ]
  },
  {
   "cell_type": "markdown",
   "metadata": {},
   "source": [
    "a simple calculator"
   ]
  },
  {
   "cell_type": "code",
   "execution_count": null,
   "metadata": {},
   "outputs": [],
   "source": [
    "class calculator:\n",
    "    '''\n",
    "    This is a simple calculator, which has \n",
    "    add/subtract/multiply/divide\n",
    "    '''\n",
    "    def __init__(self):\n",
    "        pass\n",
    "    def __del__(self):\n",
    "        pass\n",
    "    \n",
    "    def add(self, a, b):\n",
    "        return a + b \n",
    "    \n",
    "    def subtract(self, a, b):\n",
    "        return a - b\n",
    "    \n",
    "    def multiply(self, a, b):\n",
    "        return a*b\n",
    "    \n",
    "    def divide(self, a, b):\n",
    "        return a/b\n",
    "    \n",
    "    def run(self):\n",
    "        while True:\n",
    "            print('select operator:')\n",
    "            print('+: add')\n",
    "            print('-: subtract')\n",
    "            print('*: multiply')\n",
    "            print('/: divide')\n",
    "            print('q: quit it')\n",
    "\n",
    "            opt = input(\"please input your choice(+,-,*,/):\")\n",
    "\n",
    "            a = int(input(\"the 1st number: \"))\n",
    "            b = int(input(\"ths 2nd number: \"))\n",
    "            \n",
    "            if(opt=='q'): \n",
    "                break\n",
    "            elif(opt=='+'):\n",
    "                r = self.add(a,b)\n",
    "            elif(opt=='-'):\n",
    "                r= self.subtract(a,b)\n",
    "            elif(opt=='*'):\n",
    "                r = self.multiply(a, b)\n",
    "            elif(opt=='/'):\n",
    "                r = self.divide(a,b)\n",
    "            else:\n",
    "                printf(\"invalid input\")\n",
    "                continue\n",
    "            print(\"-------------------------------\")\n",
    "            print(\"%d %c %d = %d\" %(a, opt, b, r))\n",
    "            print(\"-------------------------------\")\n",
    "            input(\"any key to continue\")\n",
    "        \n",
    "calc = calculator()        \n",
    "calc.run()"
   ]
  },
  {
   "cell_type": "markdown",
   "metadata": {},
   "source": [
    "- the minimum common multiple\n",
    "- the lowest common multiple\n",
    "- the least common multiple"
   ]
  },
  {
   "cell_type": "code",
   "execution_count": 129,
   "metadata": {},
   "outputs": [
    {
     "data": {
      "text/plain": [
       "149697758"
      ]
     },
     "execution_count": 129,
     "metadata": {},
     "output_type": "execute_result"
    }
   ],
   "source": [
    "def get_least_common_multiple(m,n):\n",
    "    t=max(m,n)\n",
    "    while(True):\n",
    "        if(t%m==0) and (t%n==0):\n",
    "            r = t\n",
    "            return r\n",
    "        t += 1\n",
    "get_least_common_multiple(12334,12137)        "
   ]
  },
  {
   "cell_type": "markdown",
   "metadata": {},
   "source": [
    "file input/output"
   ]
  },
  {
   "cell_type": "code",
   "execution_count": 130,
   "metadata": {},
   "outputs": [
    {
     "name": "stdout",
     "output_type": "stream",
     "text": [
      "I would like to write this string into file\n"
     ]
    }
   ],
   "source": [
    "def test_file_io(file, string):\n",
    "    with open(file, 'wt') as ofl:\n",
    "        ofl.write(string)\n",
    "    with open(file, 'rt') as ifl:\n",
    "        text = ifl.read()\n",
    "    print(text)\n",
    "        \n",
    "test_file_io('test.txt', \n",
    "             'I would like to write this string into file')"
   ]
  },
  {
   "cell_type": "markdown",
   "metadata": {},
   "source": [
    "string operation"
   ]
  },
  {
   "cell_type": "code",
   "execution_count": 131,
   "metadata": {},
   "outputs": [
    {
     "name": "stdout",
     "output_type": "stream",
     "text": [
      "THIS IS A TESTING STRING. DO YOU KNOW IT!\n",
      "this is a testing string. do you know it!\n",
      "This is a testing string. do you know it!\n",
      "This Is A Testing String. Do You Know It!\n"
     ]
    },
    {
     "data": {
      "text/plain": [
       "False"
      ]
     },
     "execution_count": 131,
     "metadata": {},
     "output_type": "execute_result"
    }
   ],
   "source": [
    "teststr=\"This is a testing string. Do you know it!\"\n",
    "print(teststr.upper())\n",
    "print(teststr.lower())\n",
    "print(teststr.capitalize())\n",
    "print(teststr.title())\n",
    "\n",
    "str = \"test str\"\n",
    "str.isalnum()\n",
    "str.isalpha()\n",
    "str.isdigit()\n",
    "str.islower()\n",
    "str.isupper()"
   ]
  },
  {
   "cell_type": "code",
   "execution_count": 132,
   "metadata": {},
   "outputs": [
    {
     "name": "stdout",
     "output_type": "stream",
     "text": [
      "2019-05-22\n"
     ]
    }
   ],
   "source": [
    "import datetime as dt\n",
    "def get_yesterday():\n",
    "    today=dt.date.today()\n",
    "    oneday=dt.timedelta(days=1)\n",
    "    yesterday=today-oneday\n",
    "    return yesterday\n",
    "\n",
    "print(get_yesterday())\n",
    "#help(dt)\n"
   ]
  }
 ],
 "metadata": {
  "kernelspec": {
   "display_name": "Python 3",
   "language": "python",
   "name": "python3"
  },
  "language_info": {
   "codemirror_mode": {
    "name": "ipython",
    "version": 3
   },
   "file_extension": ".py",
   "mimetype": "text/x-python",
   "name": "python",
   "nbconvert_exporter": "python",
   "pygments_lexer": "ipython3",
   "version": "3.5.2"
  }
 },
 "nbformat": 4,
 "nbformat_minor": 2
}
