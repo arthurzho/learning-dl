{
 "cells": [
  {
   "cell_type": "markdown",
   "metadata": {},
   "source": [
    "Learning Numpy\n",
    "---"
   ]
  },
  {
   "cell_type": "markdown",
   "metadata": {},
   "source": [
    "This Notebook is for learning NumPy.\n",
    "![CheatSheet](images/numpy_basics-1.png)"
   ]
  },
  {
   "cell_type": "markdown",
   "metadata": {},
   "source": [
    "## Install and import the library"
   ]
  },
  {
   "cell_type": "code",
   "execution_count": 21,
   "metadata": {},
   "outputs": [
    {
     "name": "stdout",
     "output_type": "stream",
     "text": [
      "Requirement already satisfied: numpy in /Library/Frameworks/Python.framework/Versions/3.7/lib/python3.7/site-packages (1.16.3)\n",
      "Note: you may need to restart the kernel to use updated packages.\n"
     ]
    }
   ],
   "source": [
    "%pip install numpy\n",
    "import numpy as np"
   ]
  },
  {
   "cell_type": "markdown",
   "metadata": {},
   "source": [
    "## Creating Arrays"
   ]
  },
  {
   "cell_type": "markdown",
   "metadata": {},
   "source": [
    "Declare several arrays.\n",
    "Print the shape of an array"
   ]
  },
  {
   "cell_type": "code",
   "execution_count": 98,
   "metadata": {},
   "outputs": [
    {
     "name": "stdout",
     "output_type": "stream",
     "text": [
      "a= [1 2 3]\n",
      "a.shape= (3,)\n",
      "b= [[1.5 2.  3. ]\n",
      " [4.  5.  6. ]]\n",
      "b.shape= (2, 3)\n",
      "c= [[[1.5 2.  3. ]\n",
      "  [4.  5.  6. ]]\n",
      "\n",
      " [[3.  2.  1. ]\n",
      "  [4.  5.  6. ]]]\n",
      "c.shape= (2, 2, 3)\n"
     ]
    }
   ],
   "source": [
    "a = np.array([1, 2, 3])\n",
    "b = np.array([(1.5,2,3), (4,5,6)], dtype=float)\n",
    "c = np.array([ [(1.5, 2,3), (4,5,6)],[(3,2,1),(4,5,6)] ], dtype=float)\n",
    "\n",
    "print( \"a=\",a)\n",
    "print(\"a.shape=\",  a.shape)\n",
    "\n",
    "print( \"b=\",b)\n",
    "print(\"b.shape=\",  b.shape)\n",
    "\n",
    "print( \"c=\",c)\n",
    "print(\"c.shape=\",  c.shape)\n"
   ]
  },
  {
   "cell_type": "markdown",
   "metadata": {},
   "source": [
    "### Initial Placeholders"
   ]
  },
  {
   "cell_type": "code",
   "execution_count": 19,
   "metadata": {},
   "outputs": [],
   "source": [
    "zero_3x4 = np.zeros((3,4))   #Create an array of zeros\n",
    "ones_2x3x4 = np.ones((2,3,4), dtype=np.int16) #Create an array of ones\n",
    "\n",
    "# Create an array of evenly spaced values (step value)\n",
    "d = np.arange(10,25,5)\n",
    "\n",
    "# Create an array of evenly spaced values (number of samples)\n",
    "l = np.linspace(0, 2, 9)\n",
    "\n",
    "# Create a constant array\n",
    "cons_2x2 = np.full((2,2), 7)\n",
    "\n",
    "# Create a 2x2 identity matrix\n",
    "eye_2x2 = np.eye(2)\n",
    "\n",
    "# Create an array with randon values\n",
    "rand_2x3 = np.random.random((2,3))\n",
    "\n",
    "# Create an empty array\n",
    "empt_3x2 = np.empty((3,2))"
   ]
  },
  {
   "cell_type": "code",
   "execution_count": 20,
   "metadata": {},
   "outputs": [
    {
     "name": "stdout",
     "output_type": "stream",
     "text": [
      "[[0. 0. 0. 0.]\n",
      " [0. 0. 0. 0.]\n",
      " [0. 0. 0. 0.]]\n",
      "[[[1 1 1 1]\n",
      "  [1 1 1 1]\n",
      "  [1 1 1 1]]\n",
      "\n",
      " [[1 1 1 1]\n",
      "  [1 1 1 1]\n",
      "  [1 1 1 1]]]\n",
      "[10 15 20]\n",
      "[0.   0.25 0.5  0.75 1.   1.25 1.5  1.75 2.  ]\n",
      "[[7 7]\n",
      " [7 7]]\n",
      "[[1. 0.]\n",
      " [0. 1.]]\n",
      "[[0.48819844 0.36997619 0.35003516]\n",
      " [0.29583019 0.84622805 0.11522176]]\n",
      "[[0.02084922 0.09634677]\n",
      " [0.09962776 0.26809138]\n",
      " [0.20930318 0.69006832]]\n"
     ]
    }
   ],
   "source": [
    "# test above cell\n",
    "print(zero_3x4)\n",
    "print(ones_2x3x4)\n",
    "print(d)\n",
    "print(l)\n",
    "print(cons_2x2)\n",
    "print(eye_2x2)\n",
    "print(rand_2x3)\n",
    "print(empt_3x2)"
   ]
  },
  {
   "cell_type": "markdown",
   "metadata": {},
   "source": [
    "## I/O"
   ]
  },
  {
   "cell_type": "markdown",
   "metadata": {},
   "source": [
    "### Saving and Loading on Disk"
   ]
  },
  {
   "cell_type": "code",
   "execution_count": 22,
   "metadata": {},
   "outputs": [],
   "source": [
    "np.save('my_array', a)\n",
    "np.savez('array.npz', a, b)\n",
    "_c, _d = np.load('array.npz')"
   ]
  },
  {
   "cell_type": "code",
   "execution_count": 23,
   "metadata": {},
   "outputs": [
    {
     "name": "stdout",
     "output_type": "stream",
     "text": [
      "arr_0\n",
      "arr_1\n"
     ]
    }
   ],
   "source": [
    "# TODO: check save/savez details in refer\n",
    "print(_c)\n",
    "print(_d)"
   ]
  },
  {
   "cell_type": "markdown",
   "metadata": {},
   "source": [
    "### Saving and Loading Text File"
   ]
  },
  {
   "cell_type": "code",
   "execution_count": 28,
   "metadata": {},
   "outputs": [
    {
     "name": "stderr",
     "output_type": "stream",
     "text": [
      "/Library/Frameworks/Python.framework/Versions/3.7/lib/python3.7/site-packages/ipykernel_launcher.py:1: UserWarning: loadtxt: Empty input file: \"myfile.txt\"\n",
      "  \"\"\"Entry point for launching an IPython kernel.\n",
      "/Library/Frameworks/Python.framework/Versions/3.7/lib/python3.7/site-packages/ipykernel_launcher.py:2: UserWarning: genfromtxt: Empty input file: \"mydata.csv\"\n",
      "  \n"
     ]
    }
   ],
   "source": [
    "np.loadtxt('myfile.txt')\n",
    "np.genfromtxt('mydata.csv', delimiter=', ')\n",
    "np.savetxt('myarray.txt', a, delimiter=' ')"
   ]
  },
  {
   "cell_type": "code",
   "execution_count": 29,
   "metadata": {},
   "outputs": [
    {
     "name": "stdout",
     "output_type": "stream",
     "text": [
      "[1 2 3]\n"
     ]
    }
   ],
   "source": [
    "print(a)"
   ]
  },
  {
   "cell_type": "markdown",
   "metadata": {},
   "source": [
    "## Data Types"
   ]
  },
  {
   "cell_type": "code",
   "execution_count": 31,
   "metadata": {},
   "outputs": [
    {
     "data": {
      "text/plain": [
       "numpy.str_"
      ]
     },
     "execution_count": 31,
     "metadata": {},
     "output_type": "execute_result"
    }
   ],
   "source": [
    "np.int64\n",
    "np.float32\n",
    "np.complex\n",
    "np.bool\n",
    "np.object\n",
    "np.string_\n",
    "np.unicode_"
   ]
  },
  {
   "cell_type": "markdown",
   "metadata": {},
   "source": [
    "## Inspecting Your Array"
   ]
  },
  {
   "cell_type": "code",
   "execution_count": 32,
   "metadata": {},
   "outputs": [
    {
     "name": "stdout",
     "output_type": "stream",
     "text": [
      "(3,) 3 1 3 int64 int64 [[1 2 3]\n",
      " [4 5 6]]\n"
     ]
    }
   ],
   "source": [
    "a.shape\n",
    "len(a)\n",
    "a.ndim\n",
    "a.size\n",
    "a.dtype\n",
    "a.dtype.name\n",
    "b.astype(int)\n",
    "\n",
    "print(\n",
    "a.shape,\n",
    "len(a),\n",
    "a.ndim,\n",
    "a.size,\n",
    "a.dtype,\n",
    "a.dtype.name,\n",
    "b.astype(int)\n",
    ")"
   ]
  },
  {
   "cell_type": "markdown",
   "metadata": {},
   "source": [
    "## Array Mathematics\n",
    "### Arithmetic Operations"
   ]
  },
  {
   "cell_type": "code",
   "execution_count": 52,
   "metadata": {},
   "outputs": [
    {
     "name": "stdout",
     "output_type": "stream",
     "text": [
      "\n",
      "\n",
      "Substraction:\n",
      " [[-0.5  0.   0. ]\n",
      " [-3.  -3.  -3. ]] \n",
      "\n",
      "Substraction:\n",
      " [[-0.5  0.   0. ]\n",
      " [-3.  -3.  -3. ]]\n",
      "\n",
      "\n",
      "Substraction:\n",
      " [[-0.5  0.   0. ]\n",
      " [-3.  -3.  -3. ]] \n",
      "\n",
      "Substraction:\n",
      " [[-0.5  0.   0. ]\n",
      " [-3.  -3.  -3. ]]\n",
      "[array([[-0.5,  0. ,  0. ],\n",
      "       [-3. , -3. , -3. ]]), array([[-0.5,  0. ,  0. ],\n",
      "       [-3. , -3. , -3. ]]), array([[2.5, 4. , 6. ],\n",
      "       [5. , 7. , 9. ]]), array([[2.5, 4. , 6. ],\n",
      "       [5. , 7. , 9. ]]), array([[0.66666667, 1.        , 1.        ],\n",
      "       [0.25      , 0.4       , 0.5       ]]), array([[0.66666667, 1.        , 1.        ],\n",
      "       [0.25      , 0.4       , 0.5       ]]), array([[ 1.5,  4. ,  9. ],\n",
      "       [ 4. , 10. , 18. ]]), array([[ 1.5,  4. ,  9. ],\n",
      "       [ 4. , 10. , 18. ]]), array([[  4.48168907,   7.3890561 ,  20.08553692],\n",
      "       [ 54.59815003, 148.4131591 , 403.42879349]]), array([[1.22474487, 1.41421356, 1.73205081],\n",
      "       [2.        , 2.23606798, 2.44948974]]), array([[ 0.99749499,  0.90929743,  0.14112001],\n",
      "       [-0.7568025 , -0.95892427, -0.2794155 ]]), array([[ 0.0707372 , -0.41614684, -0.9899925 ],\n",
      "       [-0.65364362,  0.28366219,  0.96017029]]), array([[0.40546511, 0.69314718, 1.09861229],\n",
      "       [1.38629436, 1.60943791, 1.79175947]]), array([[7., 7.],\n",
      "       [7., 7.]])]\n"
     ]
    }
   ],
   "source": [
    "L = [\n",
    "    a - b ,\n",
    "    np.subtract(a,b) ,\n",
    "    a + b ,\n",
    "    np.add(a,b) ,\n",
    "    np.divide(a,b),\n",
    "    a / b,\n",
    "    a * b,\n",
    "    np.multiply(a,b),\n",
    "    np.exp(b),\n",
    "    np.sqrt(b),\n",
    "    np.sin(b),\n",
    "    np.cos(b),\n",
    "    np.log(b),\n",
    "    e.dot(f)\n",
    "]\n",
    "\n",
    "print(\n",
    "    \"\\n\\nSubstraction:\\n\", a - b,\n",
    "    \"\\n\\nSubstraction:\\n\", np.subtract(a, b)\n",
    ")\n",
    "\n",
    "print(\n",
    "    \"\\n\\nSubstraction:\\n\", L[0],\n",
    "    \"\\n\\nSubstraction:\\n\", L[1]\n",
    ")\n",
    "\n",
    "print(L)"
   ]
  },
  {
   "cell_type": "markdown",
   "metadata": {},
   "source": [
    "### Comparison"
   ]
  },
  {
   "cell_type": "code",
   "execution_count": 54,
   "metadata": {},
   "outputs": [
    {
     "name": "stdout",
     "output_type": "stream",
     "text": [
      "[array([[False,  True,  True],\n",
      "       [False, False, False]]), array([ True, False, False]), False]\n"
     ]
    }
   ],
   "source": [
    "L = [\n",
    "    a == b,\n",
    "    a < 2, \n",
    "    np.array_equal(a, b)\n",
    "]\n",
    "print(L)"
   ]
  },
  {
   "cell_type": "markdown",
   "metadata": {},
   "source": [
    "### Aggregate Functions"
   ]
  },
  {
   "cell_type": "code",
   "execution_count": 59,
   "metadata": {},
   "outputs": [
    {
     "name": "stdout",
     "output_type": "stream",
     "text": [
      "[array([1, 2, 3]), array([[1.5, 2. , 3. ],\n",
      "       [4. , 5. , 6. ]]), 6, 1, array([4., 5., 6.]), array([[ 1.5,  3.5,  6.5],\n",
      "       [ 4. ,  9. , 15. ]]), 2.0, 4.08248290463863]\n"
     ]
    }
   ],
   "source": [
    "L = [\n",
    "    a,b,                   # a and b\n",
    "    a.sum(),               # Array-wise sum\n",
    "    a.min(),               # Array-wise minimum value\n",
    "    b.max(axis=0),         # Maximum value of an array row\n",
    "    b.cumsum(axis=1),      # Cumulative sum of the elements\n",
    "    a.mean(),              # Mean\n",
    "    #b.median(),           # Median\n",
    "    #a.corrcoef(),         # Correlation coefficient\n",
    "    np.std(d)              # Standard deviation\n",
    "]\n",
    "\n",
    "print(L)"
   ]
  },
  {
   "cell_type": "markdown",
   "metadata": {},
   "source": [
    "### Copying Arrays"
   ]
  },
  {
   "cell_type": "code",
   "execution_count": 62,
   "metadata": {},
   "outputs": [
    {
     "name": "stdout",
     "output_type": "stream",
     "text": [
      "[1 2 3] [1 2 3] [1 2 3]\n",
      "<class 'numpy.ndarray'>\n",
      "<class 'numpy.ndarray'>\n",
      "<class 'numpy.ndarray'>\n"
     ]
    }
   ],
   "source": [
    "# Create a view of the array with the same data\n",
    "x1 = a.view()\n",
    "\n",
    "# Create a copy of the array\n",
    "x2 = np.copy(a)\n",
    "\n",
    "# Create a deep copy of the array\n",
    "x3 = a.copy()\n",
    "\n",
    "print(x1, x2, x3)\n",
    "print(type(x1))\n",
    "print(type(x2))\n",
    "print(type(x3))"
   ]
  },
  {
   "cell_type": "markdown",
   "metadata": {},
   "source": [
    "### Soring Arrays"
   ]
  },
  {
   "cell_type": "code",
   "execution_count": 71,
   "metadata": {},
   "outputs": [
    {
     "name": "stdout",
     "output_type": "stream",
     "text": [
      "[1 2 3]\n",
      "[[[1.5 2.  1. ]\n",
      "  [4.  5.  6. ]]\n",
      "\n",
      " [[3.  2.  3. ]\n",
      "  [4.  5.  6. ]]]\n"
     ]
    }
   ],
   "source": [
    "aa = a\n",
    "aa.sort()\n",
    "print(aa)\n",
    "\n",
    "# Sort the elements of an array's axis\n",
    "cc = c\n",
    "cc.sort(axis=0)\n",
    "print(cc)"
   ]
  },
  {
   "cell_type": "markdown",
   "metadata": {},
   "source": [
    "### Subsetting, Slicing, Indexing"
   ]
  },
  {
   "cell_type": "code",
   "execution_count": 75,
   "metadata": {},
   "outputs": [
    {
     "name": "stdout",
     "output_type": "stream",
     "text": [
      "[3, 6.0, array([1, 2]), array([2., 5.]), array([[1.5, 2. , 3. ]]), array([[3., 2., 3.],\n",
      "       [4., 5., 6.]]), array([3, 2, 1]), array([1]), array([4. , 2. , 6. , 1.5]), array([[4. , 5. , 6. , 4. ],\n",
      "       [1.5, 2. , 3. , 1.5],\n",
      "       [4. , 5. , 6. , 4. ],\n",
      "       [1.5, 2. , 3. , 1.5]])]\n"
     ]
    }
   ],
   "source": [
    "L = [\n",
    "# Subsetting\n",
    "a[2],\n",
    "b[1,2],\n",
    "\n",
    "# Slicing\n",
    "    # Select items at index 0 and 1\n",
    "a[0:2],\n",
    "    \n",
    "    # Select items at rows 0 and 1 in column 1\n",
    "b[0:2,1],\n",
    "    \n",
    "    # Select all items at row 0 (equivalent to b[0:1, :]) \n",
    "b[:1],\n",
    "    \n",
    "    # Same as [1,:,:]\n",
    "c[1,...],\n",
    "    \n",
    "    # Reversed array a\n",
    "a[: : -1],\n",
    "\n",
    "# Boolean Indexing\n",
    "    #Select elements from a less than 2\n",
    "a[a<2],\n",
    "\n",
    "# Fancy Indexing\n",
    "b[[1,0,1,0],[0,1,2,0]],\n",
    "    #Select a subset of the matrix’s rows and columns\n",
    "b[[1,0,1,0]][:,[0,1,2,0]]\n",
    "]\n",
    "\n",
    "print(L)\n",
    "\n"
   ]
  },
  {
   "cell_type": "markdown",
   "metadata": {},
   "source": [
    "## Array Manipulation"
   ]
  },
  {
   "cell_type": "markdown",
   "metadata": {},
   "source": [
    "### Transposing Array"
   ]
  },
  {
   "cell_type": "code",
   "execution_count": null,
   "metadata": {},
   "outputs": [],
   "source": [
    "# Permute array dimensions\n",
    "i = np.transpose(b)\n",
    "i.T"
   ]
  },
  {
   "cell_type": "markdown",
   "metadata": {},
   "source": [
    "### Changing Array Space "
   ]
  },
  {
   "cell_type": "code",
   "execution_count": 91,
   "metadata": {},
   "outputs": [
    {
     "name": "stdout",
     "output_type": "stream",
     "text": [
      "[[1.5 2.  3. ]\n",
      " [4.  5.  6. ]]\n",
      "[[1.5 2.  3. ]\n",
      " [4.  5.  6. ]]\n"
     ]
    }
   ],
   "source": [
    "# Flatten the array\n",
    "b.ravel()\n",
    "print(b)\n",
    "\n",
    "# Reshape, but don’t change data\n",
    "b.reshape(3,-2)\n",
    "print(b)"
   ]
  },
  {
   "cell_type": "markdown",
   "metadata": {},
   "source": [
    "### Adding/Removing Elements"
   ]
  },
  {
   "cell_type": "code",
   "execution_count": 92,
   "metadata": {},
   "outputs": [
    {
     "name": "stdout",
     "output_type": "stream",
     "text": [
      "[1 2 3]\n",
      "[[1 2 3 0 0 0]\n",
      " [0 0 0 0 0 0]]\n"
     ]
    }
   ],
   "source": [
    "print(a)\n",
    "a.resize((2,6)) # Return a new array with shape (2,6)\n",
    "np.append(a,b)\n",
    "np.insert(a, 1, 5)\n",
    "np.delete(a, [1])\n",
    "print(a)"
   ]
  },
  {
   "cell_type": "markdown",
   "metadata": {},
   "source": [
    "### Combining Arrays"
   ]
  },
  {
   "cell_type": "code",
   "execution_count": 93,
   "metadata": {},
   "outputs": [
    {
     "name": "stdout",
     "output_type": "stream",
     "text": [
      "[[1 2 3 0 0 0]\n",
      " [0 0 0 0 0 0]]\n",
      "[[1.5 2.  3. ]\n",
      " [4.  5.  6. ]]\n"
     ]
    }
   ],
   "source": [
    "print(a)\n",
    "print(b)"
   ]
  },
  {
   "cell_type": "code",
   "execution_count": 102,
   "metadata": {},
   "outputs": [
    {
     "data": {
      "text/plain": [
       "array([[ 1, 10],\n",
       "       [ 2, 15],\n",
       "       [ 3, 20]])"
      ]
     },
     "execution_count": 102,
     "metadata": {},
     "output_type": "execute_result"
    }
   ],
   "source": [
    "#np.concatenate((a,b), axis=0)\n",
    "np.vstack((a,b))\n",
    "np.r_[e,f]\n",
    "np.hstack((e,f))\n",
    "#np.column_stack((a,d))\n",
    "np.c_[a,d]"
   ]
  },
  {
   "cell_type": "markdown",
   "metadata": {},
   "source": [
    "### Spitting Arrays"
   ]
  },
  {
   "cell_type": "code",
   "execution_count": 100,
   "metadata": {},
   "outputs": [
    {
     "data": {
      "text/plain": [
       "[array([[[1.5, 2. , 3. ],\n",
       "         [4. , 5. , 6. ]]]), array([[[3., 2., 1.],\n",
       "         [4., 5., 6.]]])]"
      ]
     },
     "execution_count": 100,
     "metadata": {},
     "output_type": "execute_result"
    }
   ],
   "source": [
    "np.hsplit(a,3)\n",
    "np.vsplit(c,2)"
   ]
  }
 ],
 "metadata": {
  "kernelspec": {
   "display_name": "Python 3",
   "language": "python",
   "name": "python3"
  },
  "language_info": {
   "codemirror_mode": {
    "name": "ipython",
    "version": 3
   },
   "file_extension": ".py",
   "mimetype": "text/x-python",
   "name": "python",
   "nbconvert_exporter": "python",
   "pygments_lexer": "ipython3",
   "version": "3.7.3"
  }
 },
 "nbformat": 4,
 "nbformat_minor": 2
}
