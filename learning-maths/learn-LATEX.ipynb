{
 "cells": [
  {
   "cell_type": "markdown",
   "metadata": {},
   "source": [
    "$$\\frac{a}{b}$$\n",
    "\n",
    "$$\\sum_{i=1}^n p_i$$"
   ]
  },
  {
   "cell_type": "markdown",
   "metadata": {},
   "source": [
    "$$ \\sum_{i+=1} p_i $$"
   ]
  },
  {
   "cell_type": "markdown",
   "metadata": {},
   "source": [
    "$$\\hat{a}$$\n",
    "$$\\check{a}$$\n",
    "$$\\tilde{a}$$\n",
    "\n",
    "$$\\grave{a}$$ \n",
    "\n",
    "$$\\dot{a}$$\n",
    "$$\\ddot{a}$$\n",
    "\n",
    "$$ \\acute{a} $$\n",
    "\n",
    "$$\\widehat{A}$$\n",
    "$$\\widetilde{A}$$\n"
   ]
  },
  {
   "cell_type": "markdown",
   "metadata": {},
   "source": [
    "$$e^m = \\sum _{i=0}^\\infty \\frac{m^i}{i!}$$"
   ]
  },
  {
   "cell_type": "markdown",
   "metadata": {},
   "source": [
    "$$P_n = e^{-m} \\cdot \\frac{m^n}{n!}$$"
   ]
  },
  {
   "cell_type": "markdown",
   "metadata": {},
   "source": [
    "$$ p(x) = {a} $$"
   ]
  },
  {
   "cell_type": "markdown",
   "metadata": {},
   "source": [
    "$$ \\frac{1}{2}\\cdot{x^2} = \\int _x ^\\infty xdx $$"
   ]
  },
  {
   "cell_type": "markdown",
   "metadata": {},
   "source": [
    "\\begin{matrix}\n",
    "a_{11} & a_{12} & \\cdots & a_{1n} \\\\\n",
    "a_{21} & a_{22} & \\cdots & a_{2n} \\\\\n",
    "\\vdots & & \\ddots \\\\\n",
    "a_{n1} & a_{n2} & \\cdots & a_{nn} \\\\\n",
    "\\end{matrix}"
   ]
  },
  {
   "cell_type": "markdown",
   "metadata": {},
   "source": [
    "\\begin{matrix}\n",
    "\\end{matrix}\n",
    "\n",
    "\\begin{pmatrix}\n",
    "\\end{pmatrix}\n",
    "\n",
    "\\begin{bmatrix}\n",
    "\\end{bmatrix}\n",
    "\n",
    "\\begin{Bmatrix}\n",
    "\\end{Bmatrix}\n",
    "\n",
    "\\begin{vmatrix}\n",
    "\\end{vmatrix}\n",
    "\n",
    "\\begin{Vmatrix}\n",
    "\\end{Vmatrix}"
   ]
  },
  {
   "cell_type": "markdown",
   "metadata": {},
   "source": [
    "\\begin{cases}\n",
    "3x + 5y + z \\\\\n",
    "7x - 2y + 4z \\\\\n",
    "-6x + 3y + 2z\n",
    "\\end{cases}"
   ]
  },
  {
   "cell_type": "markdown",
   "metadata": {},
   "source": [
    "$$ \n",
    "f(n) =  \n",
    "\\begin{cases}\n",
    "n/2, & \\mbox{if }n\\mbox{ is even} \\\\\n",
    "3n+1, & \\mbox{if }n\\mbox{ is odd}\n",
    "\\end{cases}\n",
    "$$"
   ]
  },
  {
   "cell_type": "markdown",
   "metadata": {},
   "source": [
    "$$\n",
    "<math> f(x) \\,\\!</math>\n",
    "<math>= \\sum_{n=0}^\\infty a_n x^n </math>\n",
    "<math>= a_0+a_1x+a_2x^2+\\cdots</math>\n",
    "$$"
   ]
  },
  {
   "cell_type": "markdown",
   "metadata": {},
   "source": [
    "$$\n",
    "\\mathbf{012…abc…ABC…}\n",
    "$$"
   ]
  },
  {
   "cell_type": "markdown",
   "metadata": {},
   "source": [
    "$$\n",
    "\\mathbf{a \\ b \\ c \\ \\alpha} \\\\\n",
    "\\boldsymbol{012…abc…ABC…\\alpha \\beta\\gamma…}\n",
    "$$"
   ]
  },
  {
   "cell_type": "markdown",
   "metadata": {},
   "source": [
    "$$\n",
    "\\Bigg ( \\bigg [ \\Big \\{\\big\\langle \\left | \\| \\frac{a}{b} \\| \\right | \\big \\rangle\\Big\\}\\bigg ] \\Bigg )\n",
    "$$"
   ]
  },
  {
   "cell_type": "markdown",
   "metadata": {},
   "source": [
    "$$\n",
    "\\frac{2}{4} = 0.5  \\\\\n",
    "\\tfrac{2}{4} = 0.5 \\\\\n",
    "\\cfrac{2}{4} = 0.5 \\\\\n",
    "\\dfrac{2}{4} = 0.5 \\\\\n",
    "\\\\\n",
    "\\dfrac{2}{c + \\dfrac{2}{d +\\dfrac{2}{4}}} = a\n",
    "$$"
   ]
  },
  {
   "cell_type": "markdown",
   "metadata": {},
   "source": [
    "$$\n",
    "\\sum_{k=1}^N k^2 \n",
    "$$\n",
    "\n",
    "\\begin{matrix} \\sum_{k=1}^N k^2 \\end{matrix}"
   ]
  },
  {
   "cell_type": "code",
   "execution_count": 9,
   "metadata": {},
   "outputs": [
    {
     "name": "stdout",
     "output_type": "stream",
     "text": [
      "'Virgilio' is in 'Project Virgilio is great'\n",
      "'Virgilio' is not in 'Project virgilio is great'\n"
     ]
    }
   ],
   "source": [
    "import re\n",
    "\n",
    "regex = \"Virgilio\"\n",
    "str1 = \"Project Virgilio is great\"\n",
    "str2 = \"Project virgilio is great\"\n",
    "\n",
    "if re.search(regex, str1):\n",
    "    print(\"'{}' is in '{}'\".format(regex, str1))\n",
    "else:\n",
    "    print(\"'{}' is not in '{}'\".format(regex, str1))\n",
    "    \n",
    "if re.search(regex, str2):\n",
    "    print(\"'{}' is in '{}'\".format(regex, str2))\n",
    "else:\n",
    "    print(\"'{}' is not in '{}'\".format(regex, str2))"
   ]
  },
  {
   "cell_type": "code",
   "execution_count": 15,
   "metadata": {},
   "outputs": [
    {
     "name": "stdout",
     "output_type": "stream",
     "text": [
      "Hello World dasfasdf\n"
     ]
    }
   ],
   "source": [
    "s1 = 'Hello'\n",
    "s2 = 'World'\n",
    "print(\"{} {} {}\".format(s1, s2, \"dasfasdf\"))"
   ]
  }
 ],
 "metadata": {
  "kernelspec": {
   "display_name": "Python 3",
   "language": "python",
   "name": "python3"
  },
  "language_info": {
   "codemirror_mode": {
    "name": "ipython",
    "version": 3
   },
   "file_extension": ".py",
   "mimetype": "text/x-python",
   "name": "python",
   "nbconvert_exporter": "python",
   "pygments_lexer": "ipython3",
   "version": "3.5.2"
  },
  "toc": {
   "base_numbering": 1,
   "nav_menu": {},
   "number_sections": true,
   "sideBar": true,
   "skip_h1_title": false,
   "title_cell": "Table of Contents",
   "title_sidebar": "Contents",
   "toc_cell": false,
   "toc_position": {},
   "toc_section_display": true,
   "toc_window_display": false
  }
 },
 "nbformat": 4,
 "nbformat_minor": 2
}
