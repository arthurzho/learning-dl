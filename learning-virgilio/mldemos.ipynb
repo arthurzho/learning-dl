{
 "cells": [
  {
   "cell_type": "markdown",
   "metadata": {},
   "source": [
    "MLDemos\n",
    "---\n",
    "This file is a note for learning [MLDemos](https://github.com/virgili0/Virgilio/blob/master/Tools/MLDemos/README.md)\n",
    "\n",
    "# My Enrionment\n",
    "Ubuntu 14.04\n",
    "\n",
    "# Modifications\n",
    "```patch\n",
    "diff --git a/debian/compat b/debian/compat\n",
    "index b4de394..f599e28 100644\n",
    "--- a/debian/compat\n",
    "+++ b/debian/compat\n",
    "@@ -1 +1 @@\n",
    "-11\n",
    "+10\n",
    "diff --git a/debian/rules b/debian/rules\n",
    "index 12e23cd..cf812e7 100755\n",
    "--- a/debian/rules\n",
    "+++ b/debian/rules\n",
    "@@ -6,5 +6,8 @@ export DEB_BUILD_MAINT_OPTIONS = hardening=+all\n",
    " DPKG_EXPORT_BUILDFLAGS = 1\n",
    " include /usr/share/dpkg/buildflags.mk\n",
    " \n",
    "+#override_dh_shlibdeps:\n",
    "+#      dh_shlibdeps --dpkg-shlibdeps-params=--ignore-missing-info\n",
    "+\n",
    " %:\n",
    "-       dh $@ --buildsystem=qmake --no-parallel\n",
    "+       dh $@ --buildsystem=qmake --no-parallel --dpkg-shlibdeps-params=--ignore-missing-info\n",
    "\n",
    "```\n",
    "# Commands\n",
    "```\n",
    "git clone git://github.com/barak/mldemos.git\n",
    "cd mldemos\n",
    "git checkout debian\n",
    "dpkg-checkbuilddeps\n",
    "fakeroot debian/rules binary\n",
    "sudo dpkg --install ../mldemos_*.deb\n",
    "```\n",
    "\n",
    "# A ScreenShot\n",
    "![MLDemos](images/MLDemos.png)\n",
    "\n"
   ]
  }
 ],
 "metadata": {
  "kernelspec": {
   "display_name": "Python 3",
   "language": "python",
   "name": "python3"
  },
  "language_info": {
   "codemirror_mode": {
    "name": "ipython",
    "version": 3
   },
   "file_extension": ".py",
   "mimetype": "text/x-python",
   "name": "python",
   "nbconvert_exporter": "python",
   "pygments_lexer": "ipython3",
   "version": "3.5.2"
  }
 },
 "nbformat": 4,
 "nbformat_minor": 2
}
