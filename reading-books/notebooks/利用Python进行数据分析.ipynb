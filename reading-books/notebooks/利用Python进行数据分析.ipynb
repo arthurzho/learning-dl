{
 "cells": [
  {
   "cell_type": "markdown",
   "metadata": {},
   "source": [
    "Python for Data Analysis\n",
    "----\n",
    "\n",
    "# Book\n",
    "CN: 利用Python进行数据分析 78.4MB.pdf\n",
    "EN: Python for Data Analysis 2nd Edition.pdf\n",
    "\n",
    "![cover](images/cover1.png)\n"
   ]
  },
  {
   "cell_type": "markdown",
   "metadata": {},
   "source": [
    "# 概述\n",
    "原书英文版，2013年由OReilly出版，中文版由机械工业出版社出版。\n",
    "\n",
    "全书12个章节：\n",
    "- 准备工作\n",
    "- 引言\n",
    "- IPython\n",
    "- Number基础\n",
    "- pandas入门\n",
    "- 数据加载、存储与文件格式\n",
    "- 数据规整化\n",
    "- 绘图和可视化\n",
    "- 数据聚合与分组运算\n",
    "- 时间序列\n",
    "- 金融和经济数据\n",
    "- NumPy高级应用\n",
    "- 附录\n",
    " - Python语言精要\n"
   ]
  }
 ],
 "metadata": {
  "kernelspec": {
   "display_name": "Python 3",
   "language": "python",
   "name": "python3"
  },
  "language_info": {
   "codemirror_mode": {
    "name": "ipython",
    "version": 3
   },
   "file_extension": ".py",
   "mimetype": "text/x-python",
   "name": "python",
   "nbconvert_exporter": "python",
   "pygments_lexer": "ipython3",
   "version": "3.5.2"
  },
  "toc": {
   "base_numbering": 1,
   "nav_menu": {},
   "number_sections": true,
   "sideBar": true,
   "skip_h1_title": false,
   "title_cell": "Table of Contents",
   "title_sidebar": "Contents",
   "toc_cell": false,
   "toc_position": {},
   "toc_section_display": true,
   "toc_window_display": false
  }
 },
 "nbformat": 4,
 "nbformat_minor": 2
}
