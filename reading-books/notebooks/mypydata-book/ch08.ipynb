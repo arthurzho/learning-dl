{
 "cells": [
  {
   "cell_type": "markdown",
   "metadata": {},
   "source": [
    "## Ch08 绘图和可视化\n",
    "\n",
    "绘图是数据分析工作中最重要的任务之一，是探索过程的一部分。"
   ]
  },
  {
   "cell_type": "markdown",
   "metadata": {},
   "source": [
    "### matplotlib API入门"
   ]
  },
  {
   "cell_type": "code",
   "execution_count": null,
   "metadata": {},
   "outputs": [],
   "source": [
    "import matplotlib.pyplot as plt\n",
    "import numpy as np\n",
    "import pandas as pd\n",
    "from numpy.random import randn"
   ]
  },
  {
   "cell_type": "code",
   "execution_count": null,
   "metadata": {},
   "outputs": [],
   "source": [
    "%matplotlib inline"
   ]
  },
  {
   "cell_type": "markdown",
   "metadata": {},
   "source": [
    " ipython --pylab\n",
    " In [1]: import numpy as np                    \n",
    " In [2]: plot(np.arange(10)) \n",
    " Out[2]: [<matplotlib.lines.Line2D at 0x7fcb355c0208>]"
   ]
  },
  {
   "cell_type": "markdown",
   "metadata": {},
   "source": [
    "#### FIgure和Subplot"
   ]
  },
  {
   "cell_type": "code",
   "execution_count": null,
   "metadata": {},
   "outputs": [],
   "source": [
    "#ipython --pylab\n",
    "fig = plt.figure()"
   ]
  },
  {
   "cell_type": "code",
   "execution_count": null,
   "metadata": {},
   "outputs": [],
   "source": [
    "ax1 = fig.add_subplot(2,2,1)\n",
    "ax2 = fig.add_subplot(2,2,2)\n",
    "ax3 = fig.add_subplot(2,2,3)"
   ]
  },
  {
   "cell_type": "code",
   "execution_count": null,
   "metadata": {
    "scrolled": true
   },
   "outputs": [],
   "source": [
    "plt.plot([1.5,3.5,-2,1.6])"
   ]
  },
  {
   "cell_type": "code",
   "execution_count": null,
   "metadata": {},
   "outputs": [],
   "source": []
  },
  {
   "cell_type": "code",
   "execution_count": null,
   "metadata": {},
   "outputs": [],
   "source": [
    "plt.plot(randn(50).cumsum(), 'k--')"
   ]
  },
  {
   "cell_type": "code",
   "execution_count": null,
   "metadata": {},
   "outputs": [],
   "source": [
    "_ = ax1.hist(randn(100), bins=20, color='k',alpha=0.3)\n",
    "ax2.scatter(np.arange(30), np.arange(30)+3*randn(30))"
   ]
  },
  {
   "cell_type": "code",
   "execution_count": null,
   "metadata": {},
   "outputs": [],
   "source": [
    "plt.close('all')"
   ]
  },
  {
   "cell_type": "code",
   "execution_count": null,
   "metadata": {},
   "outputs": [],
   "source": [
    "fig, axes = plt.subplots(2,3)\n",
    "axes"
   ]
  },
  {
   "cell_type": "markdown",
   "metadata": {},
   "source": [
    "**pyplot.subplots的选项**\n",
    "- nrows\n",
    "- ncols\n",
    "- sharex\n",
    "- sharey\n",
    "- subplot_kw\n",
    "- **fig_kw"
   ]
  },
  {
   "cell_type": "markdown",
   "metadata": {},
   "source": [
    "#### 调整subplot周围的间距"
   ]
  },
  {
   "cell_type": "code",
   "execution_count": null,
   "metadata": {},
   "outputs": [],
   "source": [
    "plt.subplots_adjust(left=None, bottom=None, right=None, top=None,\n",
    "                wspace=None, hspace=None)"
   ]
  },
  {
   "cell_type": "code",
   "execution_count": null,
   "metadata": {},
   "outputs": [],
   "source": [
    "fig, axes = plt.subplots(2, 2, sharex=True, sharey=True)\n",
    "for i in range(2):\n",
    "    for j in range(2):\n",
    "        axes[i, j].hist(randn(500), bins=50, color='k', alpha=0.5)\n",
    "plt.subplots_adjust(wspace=0, hspace=0)"
   ]
  },
  {
   "cell_type": "markdown",
   "metadata": {},
   "source": [
    "#### 颜色、标记和线形"
   ]
  },
  {
   "cell_type": "markdown",
   "metadata": {},
   "source": [
    "ax.plot(x,y,'g--')\n",
    "ax.plot(x,y,linestyle='--', color='g')"
   ]
  },
  {
   "cell_type": "code",
   "execution_count": null,
   "metadata": {},
   "outputs": [],
   "source": [
    "plt.plot(randn(30).cumsum(),'ko--')  "
   ]
  },
  {
   "cell_type": "code",
   "execution_count": null,
   "metadata": {
    "scrolled": false
   },
   "outputs": [],
   "source": [
    "data = randn(30).cumsum()\n",
    "plt.plot(data,'k--', label='Default')\n",
    "plt.plot(data,\n",
    "         linestyle = '-', \n",
    "         color='r', \n",
    "         marker='o',\n",
    "         drawstyle='steps-post',\n",
    "         label= 'steps-post'\n",
    "        )\n",
    "plt.legend(loc='best')"
   ]
  },
  {
   "cell_type": "markdown",
   "metadata": {},
   "source": [
    "#### 刻度、标签和图例\n",
    "\n",
    "    pyplot接口的设计目的就是交互使用，含有诸如xlim,xticks,xticklabels\n",
    "    \n",
    "    - plt.xlim 图表的范围\n",
    "    - plt.xticks 刻度位置\n",
    "    - plt.xticklabel 刻度标签\n",
    "    所有的上面方法都是对当前或者最近创建的AxesSubplot起作用的。例如：\n",
    "    - plt.xlim对应于ax.get_xlim,ax.set_xlim\n",
    "    "
   ]
  },
  {
   "cell_type": "markdown",
   "metadata": {},
   "source": [
    "##### 设置标题、轴标签、刻度以及刻度标签"
   ]
  },
  {
   "cell_type": "code",
   "execution_count": null,
   "metadata": {
    "scrolled": true
   },
   "outputs": [],
   "source": [
    "fig = plt.figure()\n",
    "ax = fig.add_subplot(1,1,1)\n",
    "ax.plot(randn(1000).cumsum())"
   ]
  },
  {
   "cell_type": "markdown",
   "metadata": {},
   "source": [
    "**要修改X轴的刻度，最简单的办法是使用** \n",
    "- set_xticks\n",
    "- set_xticklabels"
   ]
  },
  {
   "cell_type": "code",
   "execution_count": null,
   "metadata": {},
   "outputs": [],
   "source": [
    "fig = plt.figure()\n",
    "ax = fig.add_subplot(1,1,1)\n",
    "\n",
    "ticks = ax.set_xticks([0,250,500,750,1000])\n",
    "label = ax.set_xticklabels(['one', 'two','three','four','five'],\n",
    "                           rotation=30,fontsize='small'\n",
    "                          )\n",
    "ax.set_title('My first matplotlib plot')\n",
    "ax.set_xlabel('Stages')\n",
    "\n",
    "ax.plot(randn(1000).cumsum())"
   ]
  },
  {
   "cell_type": "markdown",
   "metadata": {},
   "source": [
    "##### 添加图例"
   ]
  },
  {
   "cell_type": "code",
   "execution_count": null,
   "metadata": {
    "scrolled": false
   },
   "outputs": [],
   "source": [
    "fig = plt.figure()\n",
    "ax = fig.add_subplot(1,1,1)\n",
    "\n",
    "ax.plot(randn(1000).cumsum(),\n",
    "        'k',\n",
    "        label='one',\n",
    "        color='r'\n",
    "       )\n",
    "ax.plot(randn(1000).cumsum(),\n",
    "        'k--',\n",
    "        label='two',\n",
    "        color='g'\n",
    "       )\n",
    "ax.plot(randn(1000).cumsum(),\n",
    "        'k.',\n",
    "        label='three',\n",
    "        color='b'\n",
    "       )\n",
    "\n",
    "ax.legend(loc='best')"
   ]
  },
  {
   "cell_type": "markdown",
   "metadata": {},
   "source": [
    "#### 注解以及在Subplot上面绘图\n",
    "    绘制一些自定义的注解（文本、箭头或者其他的图形）\n",
    "- text\n",
    "- arrow\n",
    "- annotate"
   ]
  },
  {
   "cell_type": "code",
   "execution_count": null,
   "metadata": {
    "scrolled": true
   },
   "outputs": [],
   "source": [
    "fig = plt.figure()\n",
    "ax = fig.add_subplot(1,1,1)\n",
    "\n",
    "x=0\n",
    "y=0\n",
    "ax.text(x,y, 'HelloWorld',\n",
    "        family='monospace',\n",
    "        fontsize=30\n",
    "       )\n",
    "\n",
    "ax.plot(randn(1000).cumsum(),\n",
    "        'k--',\n",
    "        label='one',\n",
    "        color='r'\n",
    "       )"
   ]
  },
  {
   "cell_type": "code",
   "execution_count": null,
   "metadata": {},
   "outputs": [],
   "source": [
    "from datetime import datetime\n",
    "\n",
    "fig = plt.figure()\n",
    "ax = fig.add_subplot(1, 1, 1)\n",
    "\n",
    "data = pd.read_csv('../pydata/ch08/spx.csv', index_col=0, parse_dates=True)\n",
    "spx = data['SPX']\n",
    "\n",
    "spx.plot(ax=ax, style='k-')\n",
    "\n",
    "crisis_data = [\n",
    "    (datetime(2007, 10, 11), 'Peak of bull market'),\n",
    "    (datetime(2008, 3, 12), 'Bear Stearns Fails'),\n",
    "    (datetime(2008, 9, 15), 'Lehman Bankruptcy')\n",
    "]\n",
    "\n",
    "for date, label in crisis_data:\n",
    "    ax.annotate(label, xy=(date, spx.asof(date) + 50),\n",
    "                xytext=(date, spx.asof(date) + 200),\n",
    "                arrowprops=dict(facecolor='black'),\n",
    "                horizontalalignment='left', verticalalignment='top')\n",
    "\n",
    "# Zoom in on 2007-2010\n",
    "ax.set_xlim(['1/1/2007', '1/1/2011'])\n",
    "ax.set_ylim([600, 1800])\n",
    "\n",
    "ax.set_title('Important dates in 2008-2009 financial crisis')"
   ]
  },
  {
   "cell_type": "code",
   "execution_count": null,
   "metadata": {
    "scrolled": true
   },
   "outputs": [],
   "source": [
    "fig = plt.figure()\n",
    "ax = fig.add_subplot(1, 1, 1)\n",
    "\n",
    "rect = plt.Rectangle((0.2, 0.75), 0.4, 0.15, color='k', alpha=0.3)\n",
    "circ = plt.Circle((0.7, 0.2), 0.15, color='b', alpha=0.3)\n",
    "pgon = plt.Polygon([[0.15, 0.15], [0.35, 0.4], [0.2, 0.6]],\n",
    "                   color='g', alpha=0.5)\n",
    "\n",
    "ax.add_patch(rect)\n",
    "ax.add_patch(circ)\n",
    "ax.add_patch(pgon)"
   ]
  },
  {
   "cell_type": "markdown",
   "metadata": {},
   "source": [
    "#### 将图表保存到文件"
   ]
  },
  {
   "cell_type": "code",
   "execution_count": null,
   "metadata": {},
   "outputs": [],
   "source": [
    "plt.savefig('figpath.svg')\n",
    "fig.savefig('figpath.png', dpi=400, bbox_inches='tight')"
   ]
  },
  {
   "cell_type": "code",
   "execution_count": null,
   "metadata": {},
   "outputs": [],
   "source": [
    "from io import BytesIO\n",
    "buffer = BytesIO()\n",
    "plt.savefig(buffer)\n",
    "plot_data = buffer.getvalue()"
   ]
  },
  {
   "cell_type": "markdown",
   "metadata": {},
   "source": [
    "**Figure.saving的选项**\n",
    "- fname\n",
    "- dpi\n",
    "- facecolor,edgecolor\n",
    "- format\n",
    "- bbox_inches"
   ]
  },
  {
   "cell_type": "markdown",
   "metadata": {},
   "source": [
    "#### matplotlib配置\n",
    "    自带的配色方案\n",
    "- 图像大小\n",
    "- subplot边距\n",
    "- 配色方案\n",
    "- 字体大小\n",
    "- 网格类型\n",
    "\n",
    "    配置方式有两种：\n",
    "- plt.rc()函数\n",
    "- .matplotlibrc配置脚本"
   ]
  },
  {
   "cell_type": "code",
   "execution_count": null,
   "metadata": {},
   "outputs": [],
   "source": [
    "plt.rc('figure', figsize=(10, 10))"
   ]
  },
  {
   "cell_type": "code",
   "execution_count": null,
   "metadata": {
    "scrolled": false
   },
   "outputs": [],
   "source": [
    "font_options = {\n",
    "    'family' : 'monospace',\n",
    "    'weight' : 'bold',\n",
    "    'size'   : 12\n",
    "}\n",
    "\n",
    "plt.rc('font', **font_options)\n",
    "\n",
    "## Test it as bellow\n",
    "fig = plt.figure()\n",
    "ax = fig.add_subplot(1,1,1)\n",
    "\n",
    "x=0\n",
    "y=0\n",
    "ax.text(x,y, 'HelloWorld',\n",
    "        family='monospace',\n",
    "        fontsize=30\n",
    "       )\n",
    "\n",
    "ax.plot(randn(1000).cumsum(),\n",
    "        'k--',\n",
    "        label='one',\n",
    "        color='r'\n",
    "       )"
   ]
  },
  {
   "cell_type": "markdown",
   "metadata": {},
   "source": [
    "### pandas中的绘图函数\n",
    "    虽然matplotlib能够画图，但是需要创建很多的对象来控制。比如：\n",
    "    \n",
    "- 数据展示（图表类型）\n",
    "    - 线型图\n",
    "    - 柱状图\n",
    "    - 盒状图\n",
    "    - 散布图\n",
    "    - 等值线图\n",
    "- 图例\n",
    "- 标题\n",
    "- 刻度标签\n",
    "- 注解\n",
    "\n",
    "    上面的功能可以在pandas中简单实现"
   ]
  },
  {
   "cell_type": "markdown",
   "metadata": {},
   "source": [
    "#### 线型图\n",
    "    Series和DataFrame都有一个用于生成各类图表的plot方法。默认是线型图"
   ]
  },
  {
   "cell_type": "code",
   "execution_count": null,
   "metadata": {},
   "outputs": [],
   "source": [
    "from pandas import Series, DataFrame"
   ]
  },
  {
   "cell_type": "code",
   "execution_count": null,
   "metadata": {},
   "outputs": [],
   "source": [
    "s =Series(randn(10).cumsum(),\n",
    "          index=np.arange(0,100,10)\n",
    "         )\n",
    "s.plot()"
   ]
  },
  {
   "cell_type": "code",
   "execution_count": null,
   "metadata": {},
   "outputs": [],
   "source": [
    "df = DataFrame( randn(10,4).cumsum(0),\n",
    "               columns=['A','B','C','D'],\n",
    "               index=np.arange(0,100,10)\n",
    "              )\n",
    "df.plot()"
   ]
  },
  {
   "cell_type": "markdown",
   "metadata": {},
   "source": [
    "    Series.plot方法的参数\n",
    "\n",
    "- label 用于图例的标签\n",
    "- ax  要在其上绘制的matplotlib subplot对象\n",
    "- style 如： 'ko--'\n",
    "- alpha 不透明度，0-1之间\n",
    "- kind line,bar,barh,kde\n",
    "- logy 在Y轴上使用对数标尺\n",
    "- use_index 将对象的索引用作刻度标签\n",
    "- rot 刻度标签的旋转度（0-360之间）\n",
    "- xticks X轴刻度\n",
    "- yticks Y轴刻度\n",
    "- xlim X轴界限\n",
    "- ylim Y轴界限\n",
    "- grip 显示轴网格线（默认打开）"
   ]
  },
  {
   "cell_type": "markdown",
   "metadata": {},
   "source": [
    "    专用于DataFrame的plot的选项\n",
    "- subplot\n",
    "- sharex\n",
    "- sharey\n",
    "- figsize\n",
    "- title\n",
    "- legend\n",
    "- sort_columns"
   ]
  },
  {
   "cell_type": "markdown",
   "metadata": {},
   "source": [
    "#### 柱状图"
   ]
  },
  {
   "cell_type": "code",
   "execution_count": null,
   "metadata": {},
   "outputs": [],
   "source": [
    "fig, axes = plt.subplots(2,1)\n",
    "data = Series(np.random.rand(16), \n",
    "              index=list('abcdefghijklmnop')\n",
    "             )\n",
    "data.plot(kind='bar', \n",
    "          ax=axes[0], \n",
    "          color='k',\n",
    "          alpha=0.7)\n",
    "data.plot(kind='barh', \n",
    "          ax=axes[1],\n",
    "          color='r',\n",
    "          alpha=0.7\n",
    "         )"
   ]
  },
  {
   "cell_type": "code",
   "execution_count": null,
   "metadata": {},
   "outputs": [],
   "source": [
    "df = DataFrame(np.random.rand(6, 4),\n",
    "               index=['one', 'two', 'three', 'four', 'five', 'six'],\n",
    "               columns=pd.Index(['A', 'B', 'C', 'D'], name='Genus'))\n",
    "df\n",
    "df.plot(kind='bar')"
   ]
  },
  {
   "cell_type": "code",
   "execution_count": null,
   "metadata": {},
   "outputs": [],
   "source": [
    "plt.figure()"
   ]
  },
  {
   "cell_type": "code",
   "execution_count": null,
   "metadata": {},
   "outputs": [],
   "source": [
    "df.plot(kind='barh', stacked=True, alpha=0.5)"
   ]
  },
  {
   "cell_type": "code",
   "execution_count": null,
   "metadata": {},
   "outputs": [],
   "source": [
    "tips = pd.read_csv('../pydata/ch08/tips.csv')\n",
    "\n",
    "party_counts = pd.crosstab(tips.day, tips['size'])\n",
    "party_counts"
   ]
  },
  {
   "cell_type": "code",
   "execution_count": null,
   "metadata": {},
   "outputs": [],
   "source": [
    "party_counts = party_counts.loc[:,2:5]"
   ]
  },
  {
   "cell_type": "code",
   "execution_count": null,
   "metadata": {},
   "outputs": [],
   "source": [
    "# Normalize to sum to 1\n",
    "party_pcts = party_counts.div(party_counts.sum(1).astype(float), axis=0)\n",
    "party_pcts\n",
    "\n",
    "party_pcts.plot(kind='bar', stacked=True)"
   ]
  },
  {
   "cell_type": "markdown",
   "metadata": {},
   "source": [
    "#### 直方图和密度图\n",
    "    直方图（histogram）是一种对值频率进行离散化显示的柱状图"
   ]
  },
  {
   "cell_type": "code",
   "execution_count": null,
   "metadata": {},
   "outputs": [],
   "source": [
    "tips['tip_pct'] = tips['tip']/tips['total_bill']\n",
    "tips['tip_pct'].hist(bins=12)"
   ]
  },
  {
   "cell_type": "code",
   "execution_count": null,
   "metadata": {},
   "outputs": [],
   "source": [
    "tips['tip_pct'].plot(kind='hist', bins=12)"
   ]
  },
  {
   "cell_type": "code",
   "execution_count": null,
   "metadata": {},
   "outputs": [],
   "source": [
    "tips['tip_pct'].plot(kind='kde')"
   ]
  },
  {
   "cell_type": "code",
   "execution_count": null,
   "metadata": {},
   "outputs": [],
   "source": [
    "comp1 = np.random.normal(0,1,size=200) #N(0,1)\n",
    "comp2 = np.random.normal(10,4,size=200) #N(10,4)\n",
    "values = Series(np.concatenate([comp1,comp2]))\n",
    "values.plot(kind='hist',\n",
    "            bins=100,\n",
    "            alpha=0.3,\n",
    "            color='k',\n",
    "            normed=True\n",
    "           )\n",
    "values.plot(kind='kde',\n",
    "            style='k--'\n",
    "           )\n"
   ]
  },
  {
   "cell_type": "markdown",
   "metadata": {},
   "source": [
    "#### 散布图\n",
    "    散布图(Scatter plot)是观察两个一维数据之间关系的有效手段"
   ]
  },
  {
   "cell_type": "code",
   "execution_count": null,
   "metadata": {},
   "outputs": [],
   "source": [
    "macro= pd.read_csv('../pydata/ch08/macrodata.csv')\n",
    "data = macro[['cpi','m1','tbilrate','unemp']]"
   ]
  },
  {
   "cell_type": "code",
   "execution_count": null,
   "metadata": {},
   "outputs": [],
   "source": [
    "trans_data= np.log(data).diff().dropna()\n",
    "trans_data[-5:]"
   ]
  },
  {
   "cell_type": "code",
   "execution_count": null,
   "metadata": {},
   "outputs": [],
   "source": [
    "plt.scatter(trans_data['m1'], trans_data['unemp'])\n",
    "plt.title('Changes in log %s vs. log %s' %('m1', 'unemp'))"
   ]
  },
  {
   "cell_type": "code",
   "execution_count": null,
   "metadata": {},
   "outputs": [],
   "source": [
    "pd.plotting.scatter_matrix(trans_data, diagonal='kde', \n",
    "                  color='k', alpha=0.3)"
   ]
  },
  {
   "cell_type": "markdown",
   "metadata": {},
   "source": [
    "### 绘制地图： 图形化显示海地地震危机数据"
   ]
  },
  {
   "cell_type": "code",
   "execution_count": null,
   "metadata": {},
   "outputs": [],
   "source": [
    "data = pd.read_csv('../pydata/ch08/Haiti.csv')\n",
    "data"
   ]
  },
  {
   "cell_type": "code",
   "execution_count": null,
   "metadata": {},
   "outputs": [],
   "source": [
    "data[['INCIDENT DATE', 'LATITUDE', 'LONGITUDE']][:10]"
   ]
  },
  {
   "cell_type": "code",
   "execution_count": null,
   "metadata": {},
   "outputs": [],
   "source": []
  },
  {
   "cell_type": "markdown",
   "metadata": {},
   "source": [
    "### Python图形化工具生态系统"
   ]
  },
  {
   "cell_type": "code",
   "execution_count": null,
   "metadata": {},
   "outputs": [],
   "source": [
    "data['CATEGORY'].head(6)"
   ]
  },
  {
   "cell_type": "code",
   "execution_count": null,
   "metadata": {
    "scrolled": true
   },
   "outputs": [],
   "source": [
    "data.describe()"
   ]
  },
  {
   "cell_type": "code",
   "execution_count": null,
   "metadata": {
    "scrolled": true
   },
   "outputs": [],
   "source": [
    "data = data[\n",
    "    (  data.LATITUDE > 18 )\n",
    "    &( data.LATITUDE < 20 )\n",
    "    & (data.LONGITUDE>-75 )\n",
    "    & (data.LONGITUDE<-70 )\n",
    "    & data.CATEGORY.notnull()\n",
    "]\n",
    "data.head(5)"
   ]
  },
  {
   "cell_type": "code",
   "execution_count": null,
   "metadata": {},
   "outputs": [],
   "source": [
    "def to_cat_list(catstr):\n",
    "    stripped = (x.strip() for x in catstr.split(','))\n",
    "    return [x for x in stripped if x]\n",
    "\n",
    "def get_all_categories(cat_series):\n",
    "    cat_sets = (set( to_cat_list(x)) for x in cat_series)\n",
    "    '''\n",
    "    cat_sets = set()\n",
    "    for x in cat_series:\n",
    "        s=set(to_cat_list(x))\n",
    "        cat_sets.add(s)\n",
    "'''       \n",
    "    return sorted(set.union(*cat_sets))\n",
    "\n",
    "def get_english(cat):\n",
    "    code, names = cat.split('.')\n",
    "    if '|' in names:\n",
    "        names = names.split('|')[1]\n",
    "    return code, names.strip()"
   ]
  },
  {
   "cell_type": "code",
   "execution_count": null,
   "metadata": {},
   "outputs": [],
   "source": [
    "get_english('2. Urgences logistiques| Vital Lines')"
   ]
  },
  {
   "cell_type": "code",
   "execution_count": null,
   "metadata": {},
   "outputs": [],
   "source": [
    "all_cats = get_all_categories(data.CATEGORY)"
   ]
  },
  {
   "cell_type": "code",
   "execution_count": null,
   "metadata": {},
   "outputs": [],
   "source": [
    "english_mapping = dict(get_english(x) for x in all_cats)"
   ]
  },
  {
   "cell_type": "code",
   "execution_count": null,
   "metadata": {},
   "outputs": [],
   "source": [
    "english_mapping['2a']"
   ]
  },
  {
   "cell_type": "code",
   "execution_count": null,
   "metadata": {},
   "outputs": [],
   "source": [
    "english_mapping['6c']"
   ]
  },
  {
   "cell_type": "code",
   "execution_count": null,
   "metadata": {},
   "outputs": [],
   "source": [
    "def get_code(seq):\n",
    "    return [x.split('.')[0] for x in seq if x]\n",
    "\n",
    "all_codes = get_code(all_cats)\n",
    "code_index = pd.Index(np.unique(all_codes))\n",
    "dummy_frame = DataFrame(np.zeros((len(data), len(code_index))),\n",
    "                        index=data.index, columns=code_index)"
   ]
  },
  {
   "cell_type": "code",
   "execution_count": null,
   "metadata": {
    "scrolled": true
   },
   "outputs": [],
   "source": [
    "dummy_frame.iloc[:, :6].info()"
   ]
  },
  {
   "cell_type": "code",
   "execution_count": null,
   "metadata": {},
   "outputs": [],
   "source": [
    "for row, cat in zip(data.index, data.CATEGORY):\n",
    "    codes = get_code(to_cat_list(cat))\n",
    "    dummy_frame.ix[row, codes] = 1\n",
    "\n",
    "data = data.join(dummy_frame.add_prefix('category_'))"
   ]
  },
  {
   "cell_type": "code",
   "execution_count": null,
   "metadata": {
    "scrolled": true
   },
   "outputs": [],
   "source": [
    "data.ix[:, 10:15].info()"
   ]
  },
  {
   "cell_type": "markdown",
   "metadata": {},
   "source": [
    "**How to install BaseMap**\n",
    "    \n",
    "``` bash\n",
    "#install proj\n",
    "sudo apt-get install proj-bin\n",
    "\n",
    "\n",
    "#install basemap\n",
    "git clone  https://github.com/matplotlib/basemap.git\n",
    "\n",
    "cd basemap/geos-3.3.3\n",
    "./configure\n",
    "make -j8\n",
    "sudo make install \n",
    "\n",
    "cd ..\n",
    "sudo python setup.py install \n",
    "\n",
    "sudo ln -sf /usr/local/lib/python3.5/dist-packages/basemap-1.2.1-py3.5-linux-x86_64.egg/mpl_toolkits/basemap/  /usr/local/lib/python3.5/dist-packages/mpl_toolkits/basemap\n",
    "```"
   ]
  },
  {
   "cell_type": "code",
   "execution_count": null,
   "metadata": {},
   "outputs": [],
   "source": [
    "# https://github.com/matplotlib/basemap/releases\n",
    "\n",
    "from mpl_toolkits.basemap import Basemap\n",
    "import matplotlib.pyplot as plt\n",
    "\n",
    "def basic_haiti_map(ax=None, lllat=17.25, urlat=20.25,\n",
    "                    lllon=-75, urlon=-71):\n",
    "    # create polar stereographic Basemap instance.\n",
    "    m = Basemap(ax=ax, projection='stere',\n",
    "                lon_0=(urlon + lllon) / 2,\n",
    "                lat_0=(urlat + lllat) / 2,\n",
    "                llcrnrlat=lllat, urcrnrlat=urlat,\n",
    "                llcrnrlon=lllon, urcrnrlon=urlon,\n",
    "                resolution='f')\n",
    "    # draw coastlines, state and country boundaries, edge of map.\n",
    "    m.drawcoastlines()\n",
    "    m.drawstates()\n",
    "    m.drawcountries()\n",
    "    return m"
   ]
  },
  {
   "cell_type": "code",
   "execution_count": null,
   "metadata": {},
   "outputs": [],
   "source": [
    "fig, axes = plt.subplots(nrows=2, ncols=2, figsize=(12, 10))\n",
    "fig.subplots_adjust(hspace=0.05, wspace=0.05)\n",
    "\n",
    "to_plot = ['2a', '1', '3c', '7a']\n",
    "\n",
    "lllat=17.25; urlat=20.25; lllon=-75; urlon=-71\n",
    "\n",
    "for code, ax in zip(to_plot, axes.flat):\n",
    "    m = basic_haiti_map(ax, lllat=lllat, urlat=urlat,\n",
    "                        lllon=lllon, urlon=urlon)\n",
    "\n",
    "    cat_data = data[data['category_%s' % code] == 1]\n",
    "\n",
    "    # compute map proj coordinates.\n",
    "    x, y = m(cat_data.LONGITUDE.values, cat_data.LATITUDE.values)\n",
    "\n",
    "    m.plot(x, y, 'k.', alpha=0.5)\n",
    "    ax.set_title('%s: %s' % (code, english_mapping[code]))"
   ]
  },
  {
   "cell_type": "code",
   "execution_count": null,
   "metadata": {},
   "outputs": [],
   "source": [
    "fig, axes = plt.subplots(nrows=2, ncols=2, figsize=(12, 10))\n",
    "fig.subplots_adjust(hspace=0.05, wspace=0.05)\n",
    "\n",
    "to_plot = ['2a', '1', '3c', '7a']\n",
    "\n",
    "lllat=17.25; urlat=20.25; lllon=-75; urlon=-71\n",
    "\n",
    "def make_plot():\n",
    "\n",
    "    for i, code in enumerate(to_plot):\n",
    "        cat_data = data[data['category_%s' % code] == 1]\n",
    "        lons, lats = cat_data.LONGITUDE, cat_data.LATITUDE\n",
    "\n",
    "        ax = axes.flat[i]\n",
    "        m = basic_haiti_map(ax, lllat=lllat, urlat=urlat,\n",
    "                            lllon=lllon, urlon=urlon)\n",
    "\n",
    "        # compute map proj coordinates.\n",
    "        x, y = m(lons.values, lats.values)\n",
    "\n",
    "        m.plot(x, y, 'k.', alpha=0.5)\n",
    "        ax.set_title('%s: %s' % (code, english_mapping[code]))\n",
    "        \n",
    "make_plot()"
   ]
  },
  {
   "cell_type": "code",
   "execution_count": null,
   "metadata": {},
   "outputs": [],
   "source": []
  },
  {
   "cell_type": "code",
   "execution_count": null,
   "metadata": {},
   "outputs": [],
   "source": [
    "shapefile_path = '../pydata/ch08/PortAuPrince_Roads/PortAuPrince_Roads'\n",
    "m.readshapefile(shapefile_path, 'roads')"
   ]
  },
  {
   "cell_type": "code",
   "execution_count": null,
   "metadata": {},
   "outputs": [],
   "source": []
  },
  {
   "cell_type": "code",
   "execution_count": null,
   "metadata": {},
   "outputs": [],
   "source": []
  },
  {
   "cell_type": "code",
   "execution_count": null,
   "metadata": {},
   "outputs": [],
   "source": [
    "#程序输入是4个经度纬度参数，表示绘制范围，默认的纬度范围是17.25到20.25度，经度范围是-75到-71度。\n",
    "def basic_map_plot(ax=None, lllat=17.25, urlat=20.25,\n",
    "                    lllon=-75, urlon=-71):\n",
    "    # 创建极球面投影的Basemap实例，projection='stere'表示地图类型是极球面，lon_0和lat_0表示地图中心点.\n",
    "    m = Basemap(ax=ax, projection='stere',\n",
    "                lon_0=(urlon + lllon) / 2,\n",
    "                lat_0=(urlat + lllat) / 2,\n",
    "                llcrnrlat=lllat, urcrnrlat=urlat,\n",
    "                llcrnrlon=lllon, urcrnrlon=urlon,\n",
    "                resolution='f')\n",
    "\n",
    "    m.drawcoastlines() #绘制海岸线\n",
    "    m.drawstates() #绘制州界\n",
    "    m.drawcountries() #绘制国界\n",
    "    return m"
   ]
  },
  {
   "cell_type": "code",
   "execution_count": null,
   "metadata": {},
   "outputs": [],
   "source": [
    "fig = plt.figure()\n",
    "ax = fig.add_subplot(1,1,1)\n",
    "\n",
    "\n",
    "#下面根据中心点的维度和扩展范围计算4个边界参数\n",
    "lat0 = 18.533333;lon0 = -72.333333;change = 3;\n",
    "lllat=lat0-change; urlat=lat0+change; lllon=lon0-change; urlon=lon0+change;\n",
    "\n",
    "#调用basic_map_plot函数绘制基本地图，包括海岸线，国界等。\n",
    "m = basic_map_plot(ax, lllat=lllat, urlat=urlat,lllon=lllon, urlon=urlon)\n",
    "\n",
    "#下面两行获得下一步要绘制的点的坐标（以经度和纬度表示）数据，不必深究，只知道cat_data是个DataFrame对象\n",
    "code = '2a'\n",
    "cat_data = data[data['category_%s' % code] == 1]\n",
    "\n",
    "# 将初始经纬度数据（cat_data.LONGITUDE.values, cat_data.LATITUDE.values）计算经过极球面映射后的坐标.\n",
    "x, y = m(cat_data.LONGITUDE.values, cat_data.LATITUDE.values)\n",
    "\n",
    "#添加数据\n",
    "m.plot(x, y, 'k.', alpha=0.5)\n",
    "ax.set_title('Food shortages reported in Port-au-Prince')\n",
    "plt.savefig('myfig.png',dpi=400,bbox_inches='tight')"
   ]
  },
  {
   "cell_type": "code",
   "execution_count": null,
   "metadata": {
    "scrolled": false
   },
   "outputs": [],
   "source": [
    "#街道数据的路径\n",
    "shapefilepath = '../pydata/ch08/PortAuPrince_Roads/PortAuPrince_Roads'\n",
    "\n",
    "fig = plt.figure()\n",
    "ax = fig.add_subplot(1,1,1)\n",
    "\n",
    "lat0 = 18.533333;lon0 = -72.333333;change = 0.13;\n",
    "lllat=lat0-change; urlat=lat0+change; lllon=lon0-change; urlon=lon0+change;\n",
    "\n",
    "m = basic_map_plot(ax, lllat=lllat, urlat=urlat,lllon=lllon, urlon=urlon)\n",
    "\n",
    "m.readshapefile(shapefilepath,'roads') #添加街道数据\n",
    "\n",
    "code = '2a'\n",
    "cat_data = data[data['category_%s' % code] == 1]\n",
    "\n",
    "# compute map proj coordinates.\n",
    "x, y = m(cat_data.LONGITUDE.values, cat_data.LATITUDE.values)\n",
    "\n",
    "m.plot(x, y, 'k.', alpha=0.5)\n",
    "ax.set_title('Food shortages reported in Port-au-Prince')\n",
    "plt.savefig('myfig.png',dpi=400,bbox_inches='tight')"
   ]
  },
  {
   "cell_type": "code",
   "execution_count": null,
   "metadata": {
    "scrolled": true
   },
   "outputs": [],
   "source": [
    "\n",
    "import matplotlib.pyplot as plt\n",
    "from mpl_toolkits.basemap import Basemap\n",
    "\n",
    "plt.figure(figsize=(16,8))\n",
    "#m = Basemap()\n",
    "m= Basemap(llcrnrlon=73, llcrnrlat=18, urcrnrlon=135, urcrnrlat=53)\n",
    "m.drawcoastlines()\n",
    "m.drawcountries()\n",
    "plt.show()"
   ]
  },
  {
   "cell_type": "markdown",
   "metadata": {},
   "source": [
    "https://blog.csdn.net/ouening/article/details/55227364\n",
    "- 各省份轮廓图\n",
    "- 地形图\n",
    "- 人口分布图"
   ]
  },
  {
   "cell_type": "code",
   "execution_count": null,
   "metadata": {
    "scrolled": false
   },
   "outputs": [],
   "source": [
    "import time\n",
    "\n",
    "start = time.clock()\n",
    "\n",
    "from mpl_toolkits.basemap import Basemap\n",
    "import matplotlib.pyplot as plt\n",
    "from matplotlib.patches import Polygon\n",
    "fig = plt.figure()\n",
    "ax1 = fig.add_axes([0.1,0.1,0.8,0.8])\n",
    "\n",
    "map = Basemap(llcrnrlon=80.33, \n",
    "              llcrnrlat=3.01, \n",
    "              urcrnrlon=138.16, \n",
    "              urcrnrlat=56.123,\n",
    "             resolution='h', projection='cass', lat_0 = 42.5,lon_0=120,ax=ax1)\n",
    "\n",
    "shp_info = map.readshapefile('/opt/Work/ML/python-code-basemap-example/resources/CHN_adm_shp/CHN_adm1',\n",
    "                             'states',drawbounds=True) # CHN_adm1的数据是中国各省区域\n",
    "\n",
    "for info, shp in zip(map.states_info, map.states):\n",
    "    proid = info['NAME_1']  # 可以用notepad打开CHN_adm1.csv文件，可以知道'NAME_1'代表各省的名称\n",
    "    if proid == 'Guangdong':\n",
    "        poly = Polygon(shp,facecolor='g',edgecolor='c', lw=3) # 绘制广东省区域\n",
    "        ax1.add_patch(poly)\n",
    "\n",
    "map.shadedrelief() # 绘制阴暗的浮雕图\n",
    "\n",
    "map.drawcoastlines()\n",
    "end=time.clock()\n",
    "print(end-start)\n",
    "plt.show()\n"
   ]
  },
  {
   "cell_type": "code",
   "execution_count": null,
   "metadata": {},
   "outputs": [],
   "source": [
    "import time\n",
    "\n",
    "start = time.clock()\n",
    "from mpl_toolkits.basemap import Basemap\n",
    "import matplotlib.pyplot as plt\n",
    "from matplotlib.patches import Polygon\n",
    "import pandas as pd\n",
    "import numpy as np\n",
    "posi=pd.read_excel(\"/opt/Work/ML/python-code-basemap-example/resources/Basemap/2015Cities-CHINA.xlsx\") #读取中国城市数据\n",
    "lat = np.array(posi[\"lat\"][0:120])                        # 获取维度之维度值\n",
    "lon = np.array(posi[\"lon\"][0:120])                        # 获取经度值\n",
    "pop = np.array(posi[\"pop\"][0:120],dtype=float) \n",
    "size=(pop/np.max(pop))*100  \n",
    "\n",
    "\n",
    "map = Basemap(llcrnrlon=80.33, \n",
    "              llcrnrlat=3.01, \n",
    "              urcrnrlon=138.16, \n",
    "              urcrnrlat=56.123,\n",
    "             resolution='h', projection='cass', lat_0 = 42.5,lon_0=120)\n",
    "\n",
    "map.readshapefile(\"/opt/Work/ML/python-code-basemap-example/resources/CHN_adm_shp/CHN_adm1\",'states',drawbounds=True)\n",
    "\n",
    "map.etopo() # 绘制地形图，浮雕样式\n",
    "\n",
    "map.drawcoastlines()\n",
    "\n",
    "x,y = map(lon[2],lat[2]) # 北京市坐标，经纬度坐标转换为该map的坐标\n",
    "\n",
    "a,b = map(lon,lat)\n",
    "\n",
    "# map.scatter(a,b,s=size) # 取消注释此行即可获得中国各地区人口分布示意图\n",
    "\n",
    "map.scatter(x,y,s=200,marker='*',facecolors='r',edgecolors='r') # 绘制首都\n",
    "\n",
    "end=time.clock()\n",
    "\n",
    "print(end-start)\n",
    "\n",
    "plt.show()\n",
    "\n"
   ]
  },
  {
   "cell_type": "code",
   "execution_count": null,
   "metadata": {
    "scrolled": true
   },
   "outputs": [],
   "source": [
    "\n",
    "import urllib\n",
    "import numpy as np\n",
    "import matplotlib\n",
    "matplotlib.rcParams['toolbar'] = 'None'\n",
    "import matplotlib.pyplot as plt\n",
    "from mpl_toolkits.basemap import Basemap\n",
    "from  matplotlib.animation import FuncAnimation\n",
    "import pandas as pd\n",
    "import seaborn as sns\n",
    "\n",
    "\n",
    "# posi=pd.read_csv(\"D:\\\\Files\\\\datasets\\\\CitiesLatLon_China.csv\")\n",
    "\n",
    "posi=pd.read_excel(\"/opt/Work/ML/python-code-basemap-example/resources/Basemap/2015Cities-CHINA.xlsx\")\n",
    "\n",
    "\n",
    "lat = np.array(posi[\"lat\"][0:120])                        # 获取维度之维度值\n",
    "lon = np.array(posi[\"lon\"][0:120])                        # 获取经度值\n",
    "pop = np.array(posi[\"pop\"][0:120],dtype=float)    # 获取人口数，转化为numpy浮点型\n",
    "gdp = np.array(posi[\"GDP\"][0:120],dtype=float)    # 获取人口数，转化为numpy浮点型\n",
    "\n",
    "size=(pop/np.max(pop))*100    # 绘制散点图时图形的大小，如果之前pop不转换为浮点型会没有大小不一的效果\n",
    "\n",
    "# size=(gdp/np.max(gdp))*100    # 绘制散点图时图形的大小，如果之前pop不转换为浮点型会没有大小不一的效果\n",
    "\n",
    "map = Basemap(projection='stere', \n",
    "              lat_0=35, lon_0=110,\n",
    "              llcrnrlon=82.33, \n",
    "              llcrnrlat=3.01, \n",
    "              urcrnrlon=138.16, \n",
    "              urcrnrlat=53.123,resolution='l',area_thresh=10000,rsphere=6371200.)\n",
    "\n",
    "\n",
    "map.drawcoastlines()   \n",
    "map.drawcountries()    \n",
    "map.drawcounties()\n",
    "map.readshapefile(\"/opt/Work/ML/python-code-basemap-example/resources/CHN_adm_shp/CHN_adm1\",'states',drawbounds=True)\n",
    "map.drawmapboundary()\n",
    "\n",
    "\n",
    "parallels = np.arange(0.,90,10.) \n",
    "map.drawparallels(parallels,labels=[1,0,0,0],fontsize=10) # 绘制纬线\n",
    "\n",
    "meridians = np.arange(80.,140.,10.)\n",
    "map.drawmeridians(meridians,labels=[0,0,0,1],fontsize=10) # 绘制经线\n",
    "\n",
    "\n",
    "x,y = map(lon,lat)\n",
    "\n",
    "# map.scatter(x,y,edgecolors='r',facecolors='r',marker='*',s=320)\n",
    "\n",
    "map.scatter(x,y,s=size)\n",
    "\n",
    "plt.title(\"Population Distribution in China\")\n",
    "plt.show()"
   ]
  },
  {
   "cell_type": "markdown",
   "metadata": {},
   "source": [
    "下载地图包\n",
    "\n",
    "在[https://gadm.org/download_country_v3.html]\n",
    "上下载中国和台湾的地图包"
   ]
  },
  {
   "cell_type": "code",
   "execution_count": null,
   "metadata": {},
   "outputs": [],
   "source": [
    "wget http://www.stats.gov.cn/tjsj/pcsj/rkpc/6rp/excel/A0101a.xls\n",
    "wget https://data.biogeo.ucdavis.edu/data/gadm3.6/shp/gadm36_TWN_shp.zip\n",
    "wget https://data.biogeo.ucdavis.edu/data/gadm3.6/shp/gadm36_CHN_shp.zip"
   ]
  },
  {
   "cell_type": "code",
   "execution_count": null,
   "metadata": {},
   "outputs": [],
   "source": [
    "#!unzip -d gadm36_TWN_shp -x gadm36_TWN_shp.zip\n",
    "#!unzip -d gadm36_CHN_shp -x gadm36_CHN_shp.zip"
   ]
  },
  {
   "cell_type": "code",
   "execution_count": null,
   "metadata": {},
   "outputs": [],
   "source": [
    "! ls gadm36_CHN_shp"
   ]
  },
  {
   "cell_type": "code",
   "execution_count": null,
   "metadata": {},
   "outputs": [],
   "source": [
    "import pandas as pd\n",
    "df = pd.read_excel('A0101a.xls', encoding='utf-8', head=None, skiprows=6)\n",
    "df.head()\n",
    "\n",
    "df[['省份', '人口数']]= df[['Unnamed: 0', 'Unnamed: 4']]\n",
    "df = df['省份'].to_frame().join(df['人口数'])\n",
    "df = df[1:]\n",
    "df['省名'] = df['省份'].str.replace(' ', '')\n",
    "df.set_index('省名', inplace = True)\n",
    "del df['省份']\n",
    "df.to_csv('chnpop.csv')"
   ]
  },
  {
   "cell_type": "code",
   "execution_count": null,
   "metadata": {},
   "outputs": [],
   "source": [
    "import numpy as np\n",
    "import pandas as pd\n",
    "import matplotlib.pyplot as plt\n",
    "from mpl_toolkits.basemap import Basemap\n",
    "from matplotlib.patches import Polygon\n",
    "from matplotlib.colors import rgb2hex\n",
    "from matplotlib.collections import PatchCollection\n",
    "from matplotlib import pylab\n",
    "\n",
    "plt.figure(figsize = (10,5))\n",
    "# m= Basemap(llcrnrlon=73, llcrnrlat=18, urcrnrlon=135, urcrnrlat=55) #指定中国的经纬度\n",
    "m= Basemap(llcrnrlon=77, llcrnrlat=14, urcrnrlon=140, urcrnrlat=51, \\\n",
    "           projection='lcc', lat_1=33, lat_2=45, lon_0=100) # ‘lcc'将投影方式设置为兰伯特投影\n",
    "# projection='ortho' 投影方式设置为正投影——类似地球仪\n",
    "\n",
    "m.readshapefile('gadm36_CHN_shp/gadm36_CHN_1', 'states', drawbounds = True)\n",
    "#读取数据\n",
    "df = pd.read_csv('chnpop.csv')\n",
    "df['省名'] = df.省名.str[:2]\n",
    "df.set_index('省名', inplace=True)\n",
    "\n",
    "# 把每个省的数据映射到colormap上\n",
    "statenames=[]\n",
    "colors={}\n",
    "patches = []\n",
    "cmap = plt.cm.YlOrRd # 国旗色红黄色调\n",
    "vmax = 10**8\n",
    "vmin = 3*10**6\n",
    "# 处理地图包里的省名\n",
    "for shapedict in m.states_info:\n",
    "    statename = shapedict['NL_NAME_1']\n",
    "    p = statename.split('|')\n",
    "    if len(p) > 1:\n",
    "        s = p[1]\n",
    "    else:\n",
    "        s = p[0]\n",
    "    s = s[:2]\n",
    "    if s == '黑龍':\n",
    "        s = '黑龙'\n",
    "    statenames.append(s)\n",
    "    pop = df['人口数'][s]\n",
    "    colors[s] = cmap(np.sqrt((pop - vmin) / (vmax - vmin)))[:3] #根据归一化后的人口数映射颜色\n",
    "ax = plt.gca()\n",
    "for nshape, seg in enumerate(m.states):\n",
    "    color = rgb2hex(colors[statenames[nshape]])\n",
    "    poly = Polygon(seg, facecolor=color, edgecolor=color)\n",
    "    patches.append(poly)\n",
    "    ax.add_patch(poly)\n",
    "\n",
    "# 图片绘制加上台湾（台湾不可或缺）\n",
    "m.readshapefile('gadm36_TWN_shp/gadm36_TWN_1', 'taiwan', drawbounds=True)\n",
    "for nshape, seg in enumerate(m.taiwan):\n",
    "    poly = Polygon(seg, facecolor='w')\n",
    "    patches.append(poly)\n",
    "    ax.add_patch(poly)\n",
    " \n",
    "# 添加colorbar 渐变色legend\n",
    "colors1 = [i[1] for i in colors.values()]\n",
    "colorVotes = plt.cm.YlOrRd\n",
    "p = PatchCollection(patches, cmap =colorVotes)\n",
    "p.set_array(np.array(colors1))\n",
    "pylab.colorbar(p)\n",
    "\n",
    "#m.drawcoastlines() #绘制海岸线\n",
    "#m.drawcountries(linewidth=1.5) #绘制国家边界线\n",
    "plt.show()\n"
   ]
  }
 ],
 "metadata": {
  "kernelspec": {
   "display_name": "Python 3",
   "language": "python",
   "name": "python3"
  },
  "language_info": {
   "codemirror_mode": {
    "name": "ipython",
    "version": 3
   },
   "file_extension": ".py",
   "mimetype": "text/x-python",
   "name": "python",
   "nbconvert_exporter": "python",
   "pygments_lexer": "ipython3",
   "version": "3.5.2"
  },
  "toc": {
   "base_numbering": 1,
   "nav_menu": {},
   "number_sections": true,
   "sideBar": true,
   "skip_h1_title": false,
   "title_cell": "Table of Contents",
   "title_sidebar": "Contents",
   "toc_cell": false,
   "toc_position": {},
   "toc_section_display": true,
   "toc_window_display": false
  }
 },
 "nbformat": 4,
 "nbformat_minor": 2
}
