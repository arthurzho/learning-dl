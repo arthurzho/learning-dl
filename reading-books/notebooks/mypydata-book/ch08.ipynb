{
 "cells": [
  {
   "cell_type": "markdown",
   "metadata": {},
   "source": [
    "## Ch08 绘图和可视化\n",
    "\n",
    "绘图是数据分析工作中最重要的任务之一，是探索过程的一部分。"
   ]
  },
  {
   "cell_type": "markdown",
   "metadata": {},
   "source": [
    "### matplotlib API入门"
   ]
  },
  {
   "cell_type": "code",
   "execution_count": null,
   "metadata": {},
   "outputs": [],
   "source": [
    "import matplotlib.pyplot as plt\n",
    "import numpy as np\n",
    "import pandas as pd\n",
    "from numpy.random import randn"
   ]
  },
  {
   "cell_type": "code",
   "execution_count": null,
   "metadata": {},
   "outputs": [],
   "source": [
    "%matplotlib inline"
   ]
  },
  {
   "cell_type": "markdown",
   "metadata": {},
   "source": [
    " ipython --pylab\n",
    " In [1]: import numpy as np                    \n",
    " In [2]: plot(np.arange(10)) \n",
    " Out[2]: [<matplotlib.lines.Line2D at 0x7fcb355c0208>]"
   ]
  },
  {
   "cell_type": "markdown",
   "metadata": {},
   "source": [
    "#### FIgure和Subplot"
   ]
  },
  {
   "cell_type": "code",
   "execution_count": null,
   "metadata": {},
   "outputs": [],
   "source": [
    "#ipython --pylab\n",
    "fig = plt.figure()"
   ]
  },
  {
   "cell_type": "code",
   "execution_count": null,
   "metadata": {},
   "outputs": [],
   "source": [
    "ax1 = fig.add_subplot(2,2,1)\n",
    "ax2 = fig.add_subplot(2,2,2)\n",
    "ax3 = fig.add_subplot(2,2,3)"
   ]
  },
  {
   "cell_type": "code",
   "execution_count": null,
   "metadata": {
    "scrolled": true
   },
   "outputs": [],
   "source": [
    "plt.plot([1.5,3.5,-2,1.6])"
   ]
  },
  {
   "cell_type": "code",
   "execution_count": null,
   "metadata": {},
   "outputs": [],
   "source": []
  },
  {
   "cell_type": "code",
   "execution_count": null,
   "metadata": {},
   "outputs": [],
   "source": [
    "plt.plot(randn(50).cumsum(), 'k--')"
   ]
  },
  {
   "cell_type": "code",
   "execution_count": null,
   "metadata": {},
   "outputs": [],
   "source": [
    "_ = ax1.hist(randn(100), bins=20, color='k',alpha=0.3)\n",
    "ax2.scatter(np.arange(30), np.arange(30)+3*randn(30))"
   ]
  },
  {
   "cell_type": "code",
   "execution_count": null,
   "metadata": {},
   "outputs": [],
   "source": [
    "plt.close('all')"
   ]
  },
  {
   "cell_type": "code",
   "execution_count": null,
   "metadata": {},
   "outputs": [],
   "source": [
    "fig, axes = plt.subplots(2,3)\n",
    "axes"
   ]
  },
  {
   "cell_type": "markdown",
   "metadata": {},
   "source": [
    "**pyplot.subplots的选项**\n",
    "- nrows\n",
    "- ncols\n",
    "- sharex\n",
    "- sharey\n",
    "- subplot_kw\n",
    "- **fig_kw"
   ]
  },
  {
   "cell_type": "markdown",
   "metadata": {},
   "source": [
    "#### 调整subplot周围的间距"
   ]
  },
  {
   "cell_type": "code",
   "execution_count": null,
   "metadata": {},
   "outputs": [],
   "source": [
    "plt.subplots_adjust(left=None, bottom=None, right=None, top=None,\n",
    "                wspace=None, hspace=None)"
   ]
  },
  {
   "cell_type": "code",
   "execution_count": null,
   "metadata": {},
   "outputs": [],
   "source": [
    "fig, axes = plt.subplots(2, 2, sharex=True, sharey=True)\n",
    "for i in range(2):\n",
    "    for j in range(2):\n",
    "        axes[i, j].hist(randn(500), bins=50, color='k', alpha=0.5)\n",
    "plt.subplots_adjust(wspace=0, hspace=0)"
   ]
  },
  {
   "cell_type": "markdown",
   "metadata": {},
   "source": [
    "#### 颜色、标记和线形"
   ]
  },
  {
   "cell_type": "code",
   "execution_count": null,
   "metadata": {},
   "outputs": [],
   "source": [
    "ax.plot(x,y,'g--')\n",
    "ax.plot(x,y,linestyle='--', color='g')"
   ]
  },
  {
   "cell_type": "code",
   "execution_count": null,
   "metadata": {},
   "outputs": [],
   "source": [
    "plt.plot(randn(30).cumsum(),'ko--')  "
   ]
  },
  {
   "cell_type": "code",
   "execution_count": null,
   "metadata": {
    "scrolled": false
   },
   "outputs": [],
   "source": [
    "data = randn(30).cumsum()\n",
    "plt.plot(data,'k--', label='Default')\n",
    "plt.plot(data,\n",
    "         linestyle = '-', \n",
    "         color='r', \n",
    "         marker='o',\n",
    "         drawstyle='steps-post',\n",
    "         label= 'steps-post'\n",
    "        )\n",
    "plt.legend(loc='best')"
   ]
  },
  {
   "cell_type": "markdown",
   "metadata": {},
   "source": [
    "#### 刻度、标签和图例\n",
    "\n",
    "    pyplot接口的设计目的就是交互使用，含有诸如xlim,xticks,xticklabels\n",
    "    \n",
    "    - plt.xlim 图表的范围\n",
    "    - plt.xticks 刻度位置\n",
    "    - plt.xticklabel 刻度标签\n",
    "    所有的上面方法都是对当前或者最近创建的AxesSubplot起作用的。例如：\n",
    "    - plt.xlim对应于ax.get_xlim,ax.set_xlim\n",
    "    "
   ]
  },
  {
   "cell_type": "markdown",
   "metadata": {},
   "source": [
    "##### 设置标题、轴标签、刻度以及刻度标签"
   ]
  },
  {
   "cell_type": "code",
   "execution_count": null,
   "metadata": {
    "scrolled": true
   },
   "outputs": [],
   "source": [
    "fig = plt.figure()\n",
    "ax = fig.add_subplot(1,1,1)\n",
    "ax.plot(randn(1000).cumsum())"
   ]
  },
  {
   "cell_type": "markdown",
   "metadata": {},
   "source": [
    "**要修改X轴的刻度，最简单的办法是使用** \n",
    "- set_xticks\n",
    "- set_xticklabels"
   ]
  },
  {
   "cell_type": "code",
   "execution_count": null,
   "metadata": {},
   "outputs": [],
   "source": [
    "fig = plt.figure()\n",
    "ax = fig.add_subplot(1,1,1)\n",
    "\n",
    "ticks = ax.set_xticks([0,250,500,750,1000])\n",
    "label = ax.set_xticklabels(['one', 'two','three','four','five'],\n",
    "                           rotation=30,fontsize='small'\n",
    "                          )\n",
    "ax.set_title('My first matplotlib plot')\n",
    "ax.set_xlabel('Stages')\n",
    "\n",
    "ax.plot(randn(1000).cumsum())"
   ]
  },
  {
   "cell_type": "markdown",
   "metadata": {},
   "source": [
    "##### 添加图例"
   ]
  },
  {
   "cell_type": "code",
   "execution_count": null,
   "metadata": {
    "scrolled": false
   },
   "outputs": [],
   "source": [
    "fig = plt.figure()\n",
    "ax = fig.add_subplot(1,1,1)\n",
    "\n",
    "ax.plot(randn(1000).cumsum(),\n",
    "        'k',\n",
    "        label='one',\n",
    "        color='r'\n",
    "       )\n",
    "ax.plot(randn(1000).cumsum(),\n",
    "        'k--',\n",
    "        label='two',\n",
    "        color='g'\n",
    "       )\n",
    "ax.plot(randn(1000).cumsum(),\n",
    "        'k.',\n",
    "        label='three',\n",
    "        color='b'\n",
    "       )\n",
    "\n",
    "ax.legend(loc='best')"
   ]
  },
  {
   "cell_type": "markdown",
   "metadata": {},
   "source": [
    "#### 注解以及在Subplot上面绘图\n",
    "    绘制一些自定义的注解（文本、箭头或者其他的图形）\n",
    "- text\n",
    "- arrow\n",
    "- annotate"
   ]
  },
  {
   "cell_type": "code",
   "execution_count": null,
   "metadata": {
    "scrolled": true
   },
   "outputs": [],
   "source": [
    "fig = plt.figure()\n",
    "ax = fig.add_subplot(1,1,1)\n",
    "\n",
    "x=0\n",
    "y=0\n",
    "ax.text(x,y, 'HelloWorld',\n",
    "        family='monospace',\n",
    "        fontsize=30\n",
    "       )\n",
    "\n",
    "ax.plot(randn(1000).cumsum(),\n",
    "        'k--',\n",
    "        label='one',\n",
    "        color='r'\n",
    "       )"
   ]
  },
  {
   "cell_type": "code",
   "execution_count": null,
   "metadata": {},
   "outputs": [],
   "source": [
    "from datetime import datetime\n",
    "\n",
    "fig = plt.figure()\n",
    "ax = fig.add_subplot(1, 1, 1)\n",
    "\n",
    "data = pd.read_csv('../pydata/ch08/spx.csv', index_col=0, parse_dates=True)\n",
    "spx = data['SPX']\n",
    "\n",
    "spx.plot(ax=ax, style='k-')\n",
    "\n",
    "crisis_data = [\n",
    "    (datetime(2007, 10, 11), 'Peak of bull market'),\n",
    "    (datetime(2008, 3, 12), 'Bear Stearns Fails'),\n",
    "    (datetime(2008, 9, 15), 'Lehman Bankruptcy')\n",
    "]\n",
    "\n",
    "for date, label in crisis_data:\n",
    "    ax.annotate(label, xy=(date, spx.asof(date) + 50),\n",
    "                xytext=(date, spx.asof(date) + 200),\n",
    "                arrowprops=dict(facecolor='black'),\n",
    "                horizontalalignment='left', verticalalignment='top')\n",
    "\n",
    "# Zoom in on 2007-2010\n",
    "ax.set_xlim(['1/1/2007', '1/1/2011'])\n",
    "ax.set_ylim([600, 1800])\n",
    "\n",
    "ax.set_title('Important dates in 2008-2009 financial crisis')"
   ]
  },
  {
   "cell_type": "code",
   "execution_count": null,
   "metadata": {
    "scrolled": true
   },
   "outputs": [],
   "source": [
    "fig = plt.figure()\n",
    "ax = fig.add_subplot(1, 1, 1)\n",
    "\n",
    "rect = plt.Rectangle((0.2, 0.75), 0.4, 0.15, color='k', alpha=0.3)\n",
    "circ = plt.Circle((0.7, 0.2), 0.15, color='b', alpha=0.3)\n",
    "pgon = plt.Polygon([[0.15, 0.15], [0.35, 0.4], [0.2, 0.6]],\n",
    "                   color='g', alpha=0.5)\n",
    "\n",
    "ax.add_patch(rect)\n",
    "ax.add_patch(circ)\n",
    "ax.add_patch(pgon)"
   ]
  },
  {
   "cell_type": "markdown",
   "metadata": {},
   "source": [
    "#### 将图表保存到文件"
   ]
  },
  {
   "cell_type": "code",
   "execution_count": null,
   "metadata": {},
   "outputs": [],
   "source": [
    "plt.savefig('figpath.svg')\n",
    "fig.savefig('figpath.png', dpi=400, bbox_inches='tight')"
   ]
  },
  {
   "cell_type": "code",
   "execution_count": null,
   "metadata": {},
   "outputs": [],
   "source": [
    "from io import BytesIO\n",
    "buffer = BytesIO()\n",
    "plt.savefig(buffer)\n",
    "plot_data = buffer.getvalue()"
   ]
  },
  {
   "cell_type": "markdown",
   "metadata": {},
   "source": [
    "**Figure.saving的选项**\n",
    "- fname\n",
    "- dpi\n",
    "- facecolor,edgecolor\n",
    "- format\n",
    "- bbox_inches"
   ]
  },
  {
   "cell_type": "markdown",
   "metadata": {},
   "source": [
    "#### matplotlib配置\n",
    "    自带的配色方案\n",
    "- 图像大小\n",
    "- subplot边距\n",
    "- 配色方案\n",
    "- 字体大小\n",
    "- 网格类型\n",
    "\n",
    "    配置方式有两种：\n",
    "- plt.rc()函数\n",
    "- .matplotlibrc配置脚本"
   ]
  },
  {
   "cell_type": "code",
   "execution_count": null,
   "metadata": {},
   "outputs": [],
   "source": [
    "plt.rc('figure', figsize=(10, 10))"
   ]
  },
  {
   "cell_type": "code",
   "execution_count": null,
   "metadata": {
    "scrolled": false
   },
   "outputs": [],
   "source": [
    "font_options = {\n",
    "    'family' : 'monospace',\n",
    "    'weight' : 'bold',\n",
    "    'size'   : 12\n",
    "}\n",
    "\n",
    "plt.rc('font', **font_options)\n",
    "\n",
    "## Test it as bellow\n",
    "fig = plt.figure()\n",
    "ax = fig.add_subplot(1,1,1)\n",
    "\n",
    "x=0\n",
    "y=0\n",
    "ax.text(x,y, 'HelloWorld',\n",
    "        family='monospace',\n",
    "        fontsize=30\n",
    "       )\n",
    "\n",
    "ax.plot(randn(1000).cumsum(),\n",
    "        'k--',\n",
    "        label='one',\n",
    "        color='r'\n",
    "       )"
   ]
  },
  {
   "cell_type": "markdown",
   "metadata": {},
   "source": [
    "### pandas中的绘图函数\n",
    "    虽然matplotlib能够画图，但是需要创建很多的对象来控制。比如：\n",
    "    \n",
    "- 数据展示（图表类型）\n",
    "    - 线型图\n",
    "    - 柱状图\n",
    "    - 盒状图\n",
    "    - 散布图\n",
    "    - 等值线图\n",
    "- 图例\n",
    "- 标题\n",
    "- 刻度标签\n",
    "- 注解\n",
    "\n",
    "    上面的功能可以在pandas中简单实现"
   ]
  },
  {
   "cell_type": "markdown",
   "metadata": {},
   "source": [
    "#### 线型图\n",
    "    Series和DataFrame都有一个用于生成各类图表的plot方法。默认是线型图"
   ]
  },
  {
   "cell_type": "code",
   "execution_count": null,
   "metadata": {},
   "outputs": [],
   "source": [
    "from pandas import Series, DataFrame"
   ]
  },
  {
   "cell_type": "code",
   "execution_count": null,
   "metadata": {},
   "outputs": [],
   "source": [
    "s =Series(randn(10).cumsum(),\n",
    "          index=np.arange(0,100,10)\n",
    "         )\n",
    "s.plot()"
   ]
  },
  {
   "cell_type": "code",
   "execution_count": null,
   "metadata": {},
   "outputs": [],
   "source": [
    "df = DataFrame( randn(10,4).cumsum(0),\n",
    "               columns=['A','B','C','D'],\n",
    "               index=np.arange(0,100,10)\n",
    "              )\n",
    "df.plot()"
   ]
  },
  {
   "cell_type": "markdown",
   "metadata": {},
   "source": [
    "    Series.plot方法的参数\n",
    "\n",
    "- label 用于图例的标签\n",
    "- ax  要在其上绘制的matplotlib subplot对象\n",
    "- style 如： 'ko--'\n",
    "- alpha 不透明度，0-1之间\n",
    "- kind line,bar,barh,kde\n",
    "- logy 在Y轴上使用对数标尺\n",
    "- use_index 将对象的索引用作刻度标签\n",
    "- rot 刻度标签的旋转度（0-360之间）\n",
    "- xticks X轴刻度\n",
    "- yticks Y轴刻度\n",
    "- xlim X轴界限\n",
    "- ylim Y轴界限\n",
    "- grip 显示轴网格线（默认打开）"
   ]
  },
  {
   "cell_type": "markdown",
   "metadata": {},
   "source": [
    "    专用于DataFrame的plot的选项\n",
    "- subplot\n",
    "- sharex\n",
    "- sharey\n",
    "- figsize\n",
    "- title\n",
    "- legend\n",
    "- sort_columns"
   ]
  },
  {
   "cell_type": "markdown",
   "metadata": {},
   "source": [
    "#### 柱状图"
   ]
  },
  {
   "cell_type": "code",
   "execution_count": null,
   "metadata": {},
   "outputs": [],
   "source": [
    "fig, axes = plt.subplots(2,1)\n",
    "data = Series(np.random.rand(16), \n",
    "              index=list('abcdefghijklmnop')\n",
    "             )\n",
    "data.plot(kind='bar', \n",
    "          ax=axes[0], \n",
    "          color='k',\n",
    "          alpha=0.7)\n",
    "data.plot(kind='barh', \n",
    "          ax=axes[1],\n",
    "          color='r',\n",
    "          alpha=0.7\n",
    "         )"
   ]
  },
  {
   "cell_type": "code",
   "execution_count": null,
   "metadata": {},
   "outputs": [],
   "source": [
    "df = DataFrame(np.random.rand(6, 4),\n",
    "               index=['one', 'two', 'three', 'four', 'five', 'six'],\n",
    "               columns=pd.Index(['A', 'B', 'C', 'D'], name='Genus'))\n",
    "df\n",
    "df.plot(kind='bar')"
   ]
  },
  {
   "cell_type": "code",
   "execution_count": null,
   "metadata": {},
   "outputs": [],
   "source": [
    "plt.figure()"
   ]
  },
  {
   "cell_type": "code",
   "execution_count": null,
   "metadata": {},
   "outputs": [],
   "source": [
    "df.plot(kind='barh', stacked=True, alpha=0.5)"
   ]
  },
  {
   "cell_type": "code",
   "execution_count": null,
   "metadata": {},
   "outputs": [],
   "source": [
    "tips.head()"
   ]
  },
  {
   "cell_type": "code",
   "execution_count": null,
   "metadata": {},
   "outputs": [],
   "source": [
    "tips = pd.read_csv('../pydata/ch08/tips.csv')\n",
    "\n",
    "party_counts = pd.crosstab(tips.day, tips['size'])\n",
    "party_counts"
   ]
  },
  {
   "cell_type": "code",
   "execution_count": null,
   "metadata": {},
   "outputs": [],
   "source": [
    "party_counts = party_counts.loc[:,2:5]"
   ]
  },
  {
   "cell_type": "code",
   "execution_count": null,
   "metadata": {},
   "outputs": [],
   "source": [
    "# Normalize to sum to 1\n",
    "party_pcts = party_counts.div(party_counts.sum(1).astype(float), axis=0)\n",
    "party_pcts\n",
    "\n",
    "party_pcts.plot(kind='bar', stacked=True)"
   ]
  },
  {
   "cell_type": "markdown",
   "metadata": {},
   "source": [
    "#### 直方图和密度图\n",
    "    直方图（histogram）是一种对值频率进行离散化显示的柱状图"
   ]
  },
  {
   "cell_type": "code",
   "execution_count": null,
   "metadata": {},
   "outputs": [],
   "source": [
    "tips['tip_pct'] = tips['tip']/tips['total_bill']\n",
    "tips['tip_pct'].hist(bins=12)"
   ]
  },
  {
   "cell_type": "code",
   "execution_count": null,
   "metadata": {},
   "outputs": [],
   "source": [
    "tips['tip_pct'].plot(kind='hist', bins=12)"
   ]
  },
  {
   "cell_type": "code",
   "execution_count": null,
   "metadata": {},
   "outputs": [],
   "source": [
    "tips['tip_pct'].plot(kind='kde')"
   ]
  },
  {
   "cell_type": "code",
   "execution_count": null,
   "metadata": {},
   "outputs": [],
   "source": [
    "comp1 = np.random.normal(0,1,size=200) #N(0,1)\n",
    "comp2 = np.random.normal(10,4,size=200) #N(10,4)\n",
    "values = Series(np.concatenate([comp1,comp2]))\n",
    "values.plot(kind='hist',\n",
    "            bins=100,\n",
    "            alpha=0.3,\n",
    "            color='k',\n",
    "            normed=True\n",
    "           )\n",
    "values.plot(kind='kde',\n",
    "            style='k--'\n",
    "           )\n"
   ]
  },
  {
   "cell_type": "markdown",
   "metadata": {},
   "source": [
    "#### 散布图\n",
    "    散布图(Scatter plot)是观察两个一维数据之间关系的有效手段"
   ]
  },
  {
   "cell_type": "code",
   "execution_count": null,
   "metadata": {},
   "outputs": [],
   "source": [
    "macro= pd.read_csv('../pydata/ch08/macrodata.csv')\n",
    "data = macro[['cpi','m1','tbilrate','unemp']]"
   ]
  },
  {
   "cell_type": "code",
   "execution_count": null,
   "metadata": {},
   "outputs": [],
   "source": [
    "trans_data= np.log(data).diff().dropna()\n",
    "trans_data[-5:]"
   ]
  },
  {
   "cell_type": "code",
   "execution_count": null,
   "metadata": {},
   "outputs": [],
   "source": [
    "plt.scatter(trans_data['m1'], trans_data['unemp'])\n",
    "plt.title('Changes in log %s vs. log %s' %('m1', 'unemp'))"
   ]
  },
  {
   "cell_type": "code",
   "execution_count": null,
   "metadata": {},
   "outputs": [],
   "source": [
    "pd.plotting.scatter_matrix(trans_data, diagonal='kde', \n",
    "                  color='k', alpha=0.3)"
   ]
  },
  {
   "cell_type": "markdown",
   "metadata": {},
   "source": [
    "### 绘制地图： 图形化显示海地地震危机数据"
   ]
  },
  {
   "cell_type": "code",
   "execution_count": null,
   "metadata": {},
   "outputs": [],
   "source": []
  },
  {
   "cell_type": "code",
   "execution_count": null,
   "metadata": {},
   "outputs": [],
   "source": []
  },
  {
   "cell_type": "code",
   "execution_count": null,
   "metadata": {},
   "outputs": [],
   "source": []
  },
  {
   "cell_type": "markdown",
   "metadata": {},
   "source": [
    "### Python图形化工具生态系统"
   ]
  },
  {
   "cell_type": "code",
   "execution_count": null,
   "metadata": {},
   "outputs": [],
   "source": []
  }
 ],
 "metadata": {
  "kernelspec": {
   "display_name": "Python 3",
   "language": "python",
   "name": "python3"
  },
  "language_info": {
   "codemirror_mode": {
    "name": "ipython",
    "version": 3
   },
   "file_extension": ".py",
   "mimetype": "text/x-python",
   "name": "python",
   "nbconvert_exporter": "python",
   "pygments_lexer": "ipython3",
   "version": "3.5.2"
  },
  "toc": {
   "base_numbering": 1,
   "nav_menu": {},
   "number_sections": true,
   "sideBar": true,
   "skip_h1_title": false,
   "title_cell": "Table of Contents",
   "title_sidebar": "Contents",
   "toc_cell": false,
   "toc_position": {},
   "toc_section_display": true,
   "toc_window_display": false
  }
 },
 "nbformat": 4,
 "nbformat_minor": 2
}
