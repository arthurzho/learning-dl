{
 "cells": [
  {
   "cell_type": "markdown",
   "metadata": {},
   "source": [
    "## Ch05 pandas入门\n"
   ]
  },
  {
   "cell_type": "code",
   "execution_count": null,
   "metadata": {},
   "outputs": [],
   "source": [
    "from pandas import Series, DataFrame\n",
    "import pandas as pd\n",
    "import numpy as np"
   ]
  },
  {
   "cell_type": "markdown",
   "metadata": {},
   "source": [
    "### pandas的数据结构介绍\n",
    "#### Series"
   ]
  },
  {
   "cell_type": "code",
   "execution_count": null,
   "metadata": {},
   "outputs": [],
   "source": [
    "obj = Series([4,7,-5,3])\n",
    "obj"
   ]
  },
  {
   "cell_type": "code",
   "execution_count": null,
   "metadata": {},
   "outputs": [],
   "source": [
    "obj.values"
   ]
  },
  {
   "cell_type": "code",
   "execution_count": null,
   "metadata": {},
   "outputs": [],
   "source": [
    "obj.index"
   ]
  },
  {
   "cell_type": "code",
   "execution_count": null,
   "metadata": {},
   "outputs": [],
   "source": [
    "obj.index = ['Bob', 'Steve', 'Jeff', 'Ryan']\n",
    "obj"
   ]
  },
  {
   "cell_type": "code",
   "execution_count": null,
   "metadata": {},
   "outputs": [],
   "source": [
    "obj2 = Series([4,7,-5,3], index=['d','b','a','c'])\n",
    "obj2"
   ]
  },
  {
   "cell_type": "code",
   "execution_count": null,
   "metadata": {},
   "outputs": [],
   "source": [
    "obj2.index"
   ]
  },
  {
   "cell_type": "code",
   "execution_count": null,
   "metadata": {},
   "outputs": [],
   "source": [
    "obj2['a']"
   ]
  },
  {
   "cell_type": "code",
   "execution_count": null,
   "metadata": {},
   "outputs": [],
   "source": [
    "obj2[obj2>0]"
   ]
  },
  {
   "cell_type": "code",
   "execution_count": null,
   "metadata": {},
   "outputs": [],
   "source": [
    "obj2*2"
   ]
  },
  {
   "cell_type": "code",
   "execution_count": null,
   "metadata": {},
   "outputs": [],
   "source": [
    "np.exp(obj2)"
   ]
  },
  {
   "cell_type": "code",
   "execution_count": null,
   "metadata": {},
   "outputs": [],
   "source": [
    "'b' in obj2\n",
    "'e' in obj2"
   ]
  },
  {
   "cell_type": "code",
   "execution_count": null,
   "metadata": {},
   "outputs": [],
   "source": [
    "#dict -> Series\n",
    "sdata = {'Ohio':3500, 'Texas':71000, 'Oregon':16000, 'Utah':5000}\n",
    "obj3 = Series(sdata)\n",
    "obj3\n",
    "#obj3.index"
   ]
  },
  {
   "cell_type": "code",
   "execution_count": null,
   "metadata": {
    "scrolled": false
   },
   "outputs": [],
   "source": [
    "states = ['California', 'Ohio', 'Oregon', 'Texas']\n",
    "obj4 = Series(sdata, index=states)\n",
    "obj4"
   ]
  },
  {
   "cell_type": "code",
   "execution_count": null,
   "metadata": {},
   "outputs": [],
   "source": [
    "pd.isnull(obj4)  \n",
    "#pd.notnull(obj4)"
   ]
  },
  {
   "cell_type": "code",
   "execution_count": null,
   "metadata": {},
   "outputs": [],
   "source": [
    "r = pd.isnull(obj4)\n",
    "type(r)"
   ]
  },
  {
   "cell_type": "code",
   "execution_count": null,
   "metadata": {},
   "outputs": [],
   "source": [
    "r = obj4.isnull()\n",
    "type(r) "
   ]
  },
  {
   "cell_type": "code",
   "execution_count": null,
   "metadata": {
    "scrolled": true
   },
   "outputs": [],
   "source": [
    "obj4.name = 'population'\n",
    "obj4.index.name = 'state'\n",
    "obj4"
   ]
  },
  {
   "cell_type": "markdown",
   "metadata": {},
   "source": [
    "#### DataFrame\n",
    "DataFrame是一个表格型的数据结构，它含有一组有序每列可以是不同的值类型（数值、字符串、布尔值等） **DataFrame既有行索引也有列索引，它可以被看作由Series组成的词典**。 \n",
    "\n",
    "- 二维ndarray\n",
    "- 由数组、列表、或者元组组成的字典\n",
    "- NumPy的结构化/记录数组\n",
    "- 由Series组成的字典\n",
    "- 由字典组成的字典\n",
    "- 字典或者Series的列表\n",
    "- 由列表或者元组组成的列表\n",
    "- 另一个DataFrame\n",
    "- NumPy的MaskedArray\n"
   ]
  },
  {
   "cell_type": "markdown",
   "metadata": {},
   "source": [
    "#### 构建DataFrame的最常用方法是：直接传入一个由等长列表或者NumPy数组组成的辞典。"
   ]
  },
  {
   "cell_type": "code",
   "execution_count": null,
   "metadata": {},
   "outputs": [],
   "source": [
    "data = {\n",
    "    'state':['Ohio', 'Ohio', 'Ohio', 'Nevada', 'Neveda'],\n",
    "    'year' :[2000,2001,2002,2001,2002] ,\n",
    "    'pop'  :[1.5,1.7,3.6,2.4,2.9]\n",
    "}\n",
    "frame = DataFrame(data)\n",
    "frame"
   ]
  },
  {
   "cell_type": "code",
   "execution_count": null,
   "metadata": {},
   "outputs": [],
   "source": [
    "DataFrame(data, columns=['year', 'state', 'pop'])"
   ]
  },
  {
   "cell_type": "code",
   "execution_count": null,
   "metadata": {},
   "outputs": [],
   "source": [
    "frame2 = DataFrame(data, columns=['year', 'state', 'pop', 'debt'])\n",
    "frame2"
   ]
  },
  {
   "cell_type": "code",
   "execution_count": null,
   "metadata": {},
   "outputs": [],
   "source": [
    "frame2 = DataFrame(data, columns=['year', 'state', 'pop', 'debt'],\n",
    "                   index = ['one', 'two', 'three', 'four', 'five']\n",
    "                  )\n",
    "frame2"
   ]
  },
  {
   "cell_type": "code",
   "execution_count": null,
   "metadata": {},
   "outputs": [],
   "source": [
    "frame2['state'] == frame2.state"
   ]
  },
  {
   "cell_type": "code",
   "execution_count": null,
   "metadata": {},
   "outputs": [],
   "source": [
    "frame2.loc['three']"
   ]
  },
  {
   "cell_type": "code",
   "execution_count": null,
   "metadata": {},
   "outputs": [],
   "source": []
  },
  {
   "cell_type": "code",
   "execution_count": null,
   "metadata": {},
   "outputs": [],
   "source": [
    "frame2.debt=16.5\n",
    "frame2"
   ]
  },
  {
   "cell_type": "code",
   "execution_count": null,
   "metadata": {},
   "outputs": [],
   "source": [
    "val = Series([-1.2,-1.5, -1.7], index=['two', 'four','five'])\n",
    "frame2.debt = val\n",
    "frame2"
   ]
  },
  {
   "cell_type": "code",
   "execution_count": null,
   "metadata": {},
   "outputs": [],
   "source": [
    "frame2['eastern'] = frame2.state=='Ohio'\n",
    "frame2"
   ]
  },
  {
   "cell_type": "code",
   "execution_count": null,
   "metadata": {},
   "outputs": [],
   "source": [
    "print(frame2.columns)\n",
    "del frame2['eastern']\n",
    "print(frame2.columns)"
   ]
  },
  {
   "cell_type": "markdown",
   "metadata": {},
   "source": [
    "#### 另一种常见的数据形式是嵌套字典"
   ]
  },
  {
   "cell_type": "code",
   "execution_count": null,
   "metadata": {
    "scrolled": true
   },
   "outputs": [],
   "source": [
    "pop ={\n",
    "    'Nevada' : {\n",
    "        2001:2.4, \n",
    "        2002:2.9\n",
    "    },\n",
    "    'Ohio'   : {\n",
    "        2000:1.5, \n",
    "        2001:1.7, \n",
    "        2002:3.6\n",
    "    }\n",
    "}\n",
    "\n",
    "frame3 = DataFrame(pop)\n",
    "print(frame3.index)\n",
    "print(frame3.columns)\n",
    "frame3\n"
   ]
  },
  {
   "cell_type": "code",
   "execution_count": null,
   "metadata": {},
   "outputs": [],
   "source": [
    "frame3.T"
   ]
  },
  {
   "cell_type": "code",
   "execution_count": null,
   "metadata": {},
   "outputs": [],
   "source": [
    "frame3['Ohio']"
   ]
  },
  {
   "cell_type": "code",
   "execution_count": null,
   "metadata": {},
   "outputs": [],
   "source": [
    "pdata = {\n",
    "    'Ohio' : frame3['Ohio'][:-1],\n",
    "    'Nevada': frame3['Nevada'][:3]\n",
    "}\n",
    "DataFrame(pdata)"
   ]
  },
  {
   "cell_type": "code",
   "execution_count": null,
   "metadata": {},
   "outputs": [],
   "source": [
    "frame3.index.name = 'year'\n",
    "frame3.columns.name = 'state'\n",
    "frame3"
   ]
  },
  {
   "cell_type": "code",
   "execution_count": null,
   "metadata": {},
   "outputs": [],
   "source": [
    "frame3.values"
   ]
  },
  {
   "cell_type": "code",
   "execution_count": null,
   "metadata": {},
   "outputs": [],
   "source": [
    "frame2.values"
   ]
  },
  {
   "cell_type": "markdown",
   "metadata": {},
   "source": [
    "### 索引对象\n",
    "pandas的索引对象负责管理轴标签和其他元数据（比如轴名称）。构建Series或者DataFrame时，所用到的任何数组或者其他序列的标签都会被转化成一个Index"
   ]
  },
  {
   "cell_type": "markdown",
   "metadata": {},
   "source": [
    "**pandas中主要的Index对象**\n",
    "\n",
    "- Index\n",
    "- Int64Index\n",
    "- MultiIndex\n",
    "- DatatimeIndex\n",
    "- PeriodIndex"
   ]
  },
  {
   "cell_type": "markdown",
   "metadata": {},
   "source": [
    "**Index的方法和属性**\n",
    "- append\n",
    "- diff\n",
    "- intersection\n",
    "- union\n",
    "- isin\n",
    "- delete\n",
    "- drop\n",
    "- insert\n",
    "- is_monotonic\n",
    "- is_unique\n",
    "- unique"
   ]
  },
  {
   "cell_type": "code",
   "execution_count": null,
   "metadata": {},
   "outputs": [],
   "source": [
    "obj = Series(range(3), index=['a', 'b', 'c'])\n",
    "index = obj.index\n",
    "index"
   ]
  },
  {
   "cell_type": "code",
   "execution_count": null,
   "metadata": {},
   "outputs": [],
   "source": [
    "index[1:]"
   ]
  },
  {
   "cell_type": "code",
   "execution_count": null,
   "metadata": {},
   "outputs": [],
   "source": [
    "try:\n",
    "    index[1] = 'd'\n",
    "except TypeError:\n",
    "    print('pd.index object should not be changed')"
   ]
  },
  {
   "cell_type": "code",
   "execution_count": null,
   "metadata": {
    "scrolled": true
   },
   "outputs": [],
   "source": [
    "index = pd.Index(np.arange(3))\n",
    "obj2 = Series([1.5, -2.5,0], index=index)\n",
    "print( obj2.index == index )\n",
    "print( obj2.index is index )"
   ]
  },
  {
   "cell_type": "markdown",
   "metadata": {},
   "source": [
    "**除了长得像数组， Index的功能也类似一个固定大小的集合**"
   ]
  },
  {
   "cell_type": "code",
   "execution_count": null,
   "metadata": {},
   "outputs": [],
   "source": [
    "print(  frame3  )\n",
    "print( 'Ohio' in frame3.columns  )\n",
    "print(  2003 in frame3.index)"
   ]
  },
  {
   "cell_type": "markdown",
   "metadata": {},
   "source": [
    "### 基本功能"
   ]
  },
  {
   "cell_type": "markdown",
   "metadata": {},
   "source": [
    "#### 重新索引"
   ]
  },
  {
   "cell_type": "code",
   "execution_count": null,
   "metadata": {},
   "outputs": [],
   "source": [
    "obj = Series([4.5,7.2,-5.3,3.6], index=['d', 'b','a','c'])\n",
    "obj"
   ]
  },
  {
   "cell_type": "code",
   "execution_count": null,
   "metadata": {},
   "outputs": [],
   "source": [
    "obj2 = obj.reindex(['a','b','c','d','e'])\n",
    "obj2"
   ]
  },
  {
   "cell_type": "code",
   "execution_count": null,
   "metadata": {},
   "outputs": [],
   "source": [
    "obj2 = obj.reindex(['a','b','c','d','e'], fill_value=0)\n",
    "obj2"
   ]
  },
  {
   "cell_type": "markdown",
   "metadata": {},
   "source": [
    "**使用ffill可以实现前向值填充**\n",
    "\n",
    "reindex的插值方式，method选项：\n",
    "- ffill/pad    前向填充\n",
    "- bfill/backfill    后向填充"
   ]
  },
  {
   "cell_type": "code",
   "execution_count": null,
   "metadata": {},
   "outputs": [],
   "source": [
    "obj3 = Series(['blue', 'purple','yellow'], index=[0,2,4])\n",
    "obj3.reindex(range(9), method='ffill')"
   ]
  },
  {
   "cell_type": "markdown",
   "metadata": {},
   "source": [
    "**reindex可以修改行和列**"
   ]
  },
  {
   "cell_type": "code",
   "execution_count": null,
   "metadata": {},
   "outputs": [],
   "source": [
    "frame = DataFrame(np.arange(9).reshape((3,3)), index=['a','c','b'],\n",
    "                  columns=['Ohio', 'Texas', 'California'])\n",
    "frame"
   ]
  },
  {
   "cell_type": "code",
   "execution_count": null,
   "metadata": {},
   "outputs": [],
   "source": [
    "frame2 = frame.reindex(['a','b','c','d'])\n",
    "frame2"
   ]
  },
  {
   "cell_type": "code",
   "execution_count": null,
   "metadata": {},
   "outputs": [],
   "source": [
    "states =['Texas','Ohio', 'California', 'Utah']\n",
    "frame.reindex(columns=states)"
   ]
  },
  {
   "cell_type": "code",
   "execution_count": null,
   "metadata": {
    "scrolled": false
   },
   "outputs": [],
   "source": [
    "states =['Texas','Utah', 'California' ]\n",
    "#frame.reindex(index=['a','b','c','d'], method='ffill', columns=states)\n",
    "frame.reindex(index=['a','b','c','d'],  columns=states).ffill()"
   ]
  },
  {
   "cell_type": "code",
   "execution_count": null,
   "metadata": {},
   "outputs": [],
   "source": [
    "#frame.ix[['a'],states]\n",
    "frame.loc[['a','b','c','d'],states]"
   ]
  },
  {
   "cell_type": "code",
   "execution_count": null,
   "metadata": {},
   "outputs": [],
   "source": [
    "'''\n",
    "注意reindex的参数：\n",
    "index,columns\n",
    "method\n",
    "fill_value\n",
    "limit\n",
    "level\n",
    "copy\n",
    "'''\n",
    "\n",
    "#help(df.reindex)\n"
   ]
  },
  {
   "cell_type": "markdown",
   "metadata": {},
   "source": [
    "#### 丢弃指定轴上的项"
   ]
  },
  {
   "cell_type": "code",
   "execution_count": null,
   "metadata": {
    "scrolled": true
   },
   "outputs": [],
   "source": [
    "obj = Series(np.arange(5), index=['a','b','c','d','e'])\n",
    "new_obj = obj.drop('c')\n",
    "print (new_obj)\n",
    "print(obj)\n",
    "\n",
    "obj.drop(['d','c'])"
   ]
  },
  {
   "cell_type": "code",
   "execution_count": null,
   "metadata": {},
   "outputs": [],
   "source": [
    "data = DataFrame(np.arange(16).reshape((4,4)),\n",
    "                index=['Ohio','Colorado', 'Utah','NewYork'],\n",
    "                 columns=['one','two', 'three','four']\n",
    "                 )\n",
    "data.drop(['Colorado', 'Ohio'])"
   ]
  },
  {
   "cell_type": "code",
   "execution_count": null,
   "metadata": {},
   "outputs": [],
   "source": [
    "print( data.drop('two',axis=1) )\n",
    "print( data.drop(['two', 'four'], axis=1) )"
   ]
  },
  {
   "cell_type": "markdown",
   "metadata": {},
   "source": [
    "#### 索引、选取和过滤\n",
    "**Series索引的工作方式类似于NumPy数组的索引，只不过Series的索引值不只是整数**"
   ]
  },
  {
   "cell_type": "code",
   "execution_count": null,
   "metadata": {},
   "outputs": [],
   "source": [
    "obj = Series(np.arange(4,8), index=['a','b','c','d'])\n",
    "\n",
    "print ( obj ) ;print ('-'*16)\n",
    "print ( obj['b'] ) ; print ('-'*16)\n",
    "print ( obj[2:4] ) ;print ('-'*16)\n",
    "print ( obj[['b','a','d']] )  ;print ('-'*16)\n",
    "print ( obj[[1,3]]) ;print ('-'*16)\n",
    "print ( obj[obj>5]) ;print ('-'*16)"
   ]
  },
  {
   "cell_type": "code",
   "execution_count": null,
   "metadata": {},
   "outputs": [],
   "source": [
    "obj['b':'d'] = 666\n",
    "obj"
   ]
  },
  {
   "cell_type": "code",
   "execution_count": null,
   "metadata": {},
   "outputs": [],
   "source": [
    "data = DataFrame(np.arange(16).reshape((4,4)),\n",
    "                index=['Ohio','Colorado', 'Utah','NewYork'],\n",
    "                 columns=['one','two', 'three','four']\n",
    "                 )\n",
    "print ( data ) ;print('-'*16)\n",
    "print ( data['two'] ) ;print('-'*16)\n",
    "print ( data[['three', 'one']])  ;print('-'*16)\n",
    "print ( data[:2] ) ;print('-'*16)\n"
   ]
  },
  {
   "cell_type": "code",
   "execution_count": null,
   "metadata": {},
   "outputs": [],
   "source": [
    "data < 5"
   ]
  },
  {
   "cell_type": "code",
   "execution_count": null,
   "metadata": {},
   "outputs": [],
   "source": [
    "data[data<5] = 0\n",
    "data"
   ]
  },
  {
   "cell_type": "code",
   "execution_count": null,
   "metadata": {},
   "outputs": [],
   "source": [
    "#data.ix['Colorado', ['two','three']]\n",
    "data.loc['Colorado', ['two','three']]"
   ]
  },
  {
   "cell_type": "code",
   "execution_count": null,
   "metadata": {},
   "outputs": [],
   "source": [
    "slice = data.loc[\n",
    "    ['Colorado', 'Utah'],\n",
    "    ['four','one','two']\n",
    "]\n",
    "print (slice) ;print('-'*32)\n",
    "\n",
    "slice = data.loc[['Colorado', 'Utah']]\n",
    "print (slice) ;print('-'*32)\n",
    "\n",
    "slice = data.loc[data.three>5][:3]\n",
    "print (slice) ;print('-'*32)"
   ]
  },
  {
   "cell_type": "markdown",
   "metadata": {},
   "source": [
    "#### 算术运算和数据对齐"
   ]
  },
  {
   "cell_type": "markdown",
   "metadata": {},
   "source": [
    "- 算术运算\n",
    "    - +\n",
    "    - -\n",
    "    - *\n",
    "    - /\n",
    "    - add\n",
    "    - sub\n",
    "    - div\n",
    "    - mul\n",
    "- NB    \n",
    "**自动的数据对齐操作在不重叠的索引处引入了NA值**\n"
   ]
  },
  {
   "cell_type": "code",
   "execution_count": null,
   "metadata": {},
   "outputs": [],
   "source": [
    "s1 = Series( \n",
    "    [7.3,-2.5,3.4,1.5],\n",
    "    index = ['a','c','d','e']\n",
    ")\n",
    "\n",
    "s2 = Series(\n",
    "    [-2.1, 3.6,-1.5,4,3.1],\n",
    "    index=['a','c','e','f','g']\n",
    ")\n",
    "print (s1) ; print('-'*32)\n",
    "print (s2) ; print('-'*32)\n",
    "print (s1+s2) ; print('-'*32)\n"
   ]
  },
  {
   "cell_type": "code",
   "execution_count": null,
   "metadata": {},
   "outputs": [],
   "source": [
    "df1 = DataFrame(np.arange(9).reshape((3,3)),\n",
    "                columns=list('bcd'),\n",
    "                index=['Ohio','Texas', 'Colorado']\n",
    "               )\n",
    "df2 = DataFrame(np.arange(12).reshape((4,3)),\n",
    "                columns=list('bde'),\n",
    "                index=['Utah', 'Ohio', 'Texas', 'Oregon']\n",
    "               )\n",
    "print(df1) ;print('-'*32)\n",
    "print(df2) ;print('-'*32)\n",
    "print(df1+df2) ;print('-'*32)\n",
    "print(df1-df2) ;print('-'*32)"
   ]
  },
  {
   "cell_type": "markdown",
   "metadata": {},
   "source": [
    "#### 算术方法中填充值"
   ]
  },
  {
   "cell_type": "code",
   "execution_count": null,
   "metadata": {
    "scrolled": true
   },
   "outputs": [],
   "source": [
    "df1 = DataFrame(np.arange(12).reshape((3,4)), columns=list('abcd'),dtype=np.int)\n",
    "df2 = DataFrame(np.arange(20).reshape((4,5)), columns=list('abcde'),dtype=np.int)\n",
    "print(df1) ;print('1-'*32)\n",
    "print(df2) ;print('2-'*32)\n",
    "print(df1+df2) ;print('3-'*32)\n",
    "d3 = DataFrame.add(df1,df2,fill_value=0)\n",
    "print(d3) ;print('4-'*32)\n",
    "d4 = df1.add(df2, fill_value=0)\n",
    "print(d4) ;print('5-'*32)\n",
    "r = d3 == d4\n",
    "print(r) ;print('6-'*32)\n",
    "print(r.any());print('7-'*32)\n"
   ]
  },
  {
   "cell_type": "markdown",
   "metadata": {},
   "source": [
    "####  DataFrame和Series之间的运算"
   ]
  },
  {
   "cell_type": "markdown",
   "metadata": {},
   "source": [
    "**广播**"
   ]
  },
  {
   "cell_type": "code",
   "execution_count": null,
   "metadata": {},
   "outputs": [],
   "source": [
    "arr = np.arange(12).reshape( (3,4) )\n",
    "print(arr) ; print('1-'*16)\n",
    "print(arr[0]) ; print('2-'*16)\n",
    "print(arr-arr[0]) ;print('3-'*16)"
   ]
  },
  {
   "cell_type": "code",
   "execution_count": null,
   "metadata": {},
   "outputs": [],
   "source": [
    "frame = DataFrame( np.arange(12).reshape( (4,3) ),\n",
    "                 columns=list('bde'),\n",
    "                  index=['Utah', 'Texas','Ohio', 'Oregon']\n",
    "                 )\n",
    "#series = frame.ix[0]\n",
    "series = frame.loc['Utah']\n",
    "print( frame ) ; print( '-'*32 )\n",
    "print( series ) ; print( '-'*32 )\n",
    "\n",
    "print(frame - series) ; print( '-'*32 )"
   ]
  },
  {
   "cell_type": "code",
   "execution_count": null,
   "metadata": {},
   "outputs": [],
   "source": [
    "series2 = Series(range(3), index=['b','e','f'] )\n",
    "frame + series2"
   ]
  },
  {
   "cell_type": "code",
   "execution_count": null,
   "metadata": {},
   "outputs": [],
   "source": [
    "series3 = frame['d']\n",
    "print (frame) ; print('-'*32)\n",
    "print(series3) ; print('-'*32)\n",
    "print(frame.sub(series3, axis=0) ) ; print('-'*32)"
   ]
  },
  {
   "cell_type": "markdown",
   "metadata": {},
   "source": [
    "#### 函数应用和映射"
   ]
  },
  {
   "cell_type": "code",
   "execution_count": null,
   "metadata": {},
   "outputs": [],
   "source": [
    "frame = DataFrame( np.arange(12).reshape( (4,3) ),\n",
    "                 columns=list('bde'),\n",
    "                  index=['Utah', 'Texas','Ohio', 'Oregon']\n",
    "                 )\n",
    "np.abs(frame)"
   ]
  },
  {
   "cell_type": "code",
   "execution_count": null,
   "metadata": {
    "scrolled": true
   },
   "outputs": [],
   "source": [
    "f = lambda x : x.max() - x.min()\n",
    "print ( frame.apply(f) )\n",
    "print ( frame.apply(f, axis=0) )\n",
    "print ( frame.apply(f, axis=1) )"
   ]
  },
  {
   "cell_type": "code",
   "execution_count": null,
   "metadata": {},
   "outputs": [],
   "source": [
    "def f(x):\n",
    "    return Series(\n",
    "        [x.min(), x.max()],\n",
    "        index=['min', 'max']\n",
    "    )\n",
    "frame.apply(f)"
   ]
  },
  {
   "cell_type": "code",
   "execution_count": null,
   "metadata": {},
   "outputs": [],
   "source": [
    "format = lambda x: '%.2f' %x\n",
    "frame.applymap(format)"
   ]
  },
  {
   "cell_type": "markdown",
   "metadata": {},
   "source": [
    "之所以叫做applymap，是因为Series有一个应用元素级函数的map方法"
   ]
  },
  {
   "cell_type": "code",
   "execution_count": null,
   "metadata": {},
   "outputs": [],
   "source": [
    "frame['e'].map(format)"
   ]
  },
  {
   "cell_type": "markdown",
   "metadata": {},
   "source": [
    "#### 排序和排名\n",
    "要对行或列索引进行排序，可以使用sort_index方法，它将返回一个**已经排序的新对象**"
   ]
  },
  {
   "cell_type": "code",
   "execution_count": null,
   "metadata": {},
   "outputs": [],
   "source": [
    "obj = Series(range(4), index=list('dabc'))\n",
    "print(obj) ; print('-'*32)\n",
    "print(obj.sort_index())"
   ]
  },
  {
   "cell_type": "markdown",
   "metadata": {},
   "source": [
    "**而对于DataFrame，则可以根据任意一个轴上的索引进行排序**"
   ]
  },
  {
   "cell_type": "code",
   "execution_count": null,
   "metadata": {},
   "outputs": [],
   "source": [
    "frame = DataFrame(np.arange(8).reshape((2,4)), \n",
    "                  index=['three','one'],\n",
    "                  columns=['d','a','b','c']\n",
    "                 )\n",
    "frame.sort_index()"
   ]
  },
  {
   "cell_type": "code",
   "execution_count": null,
   "metadata": {},
   "outputs": [],
   "source": [
    "frame.sort_index(axis=1, ascending=False)"
   ]
  },
  {
   "cell_type": "code",
   "execution_count": null,
   "metadata": {},
   "outputs": [],
   "source": [
    "obj = Series([4,7,-3,2])\n",
    "obj.sort_values()"
   ]
  },
  {
   "cell_type": "code",
   "execution_count": null,
   "metadata": {},
   "outputs": [],
   "source": [
    "obj = Series([4,np.nan, 7, np.nan, -3, 2])\n",
    "obj.sort_values()"
   ]
  },
  {
   "cell_type": "code",
   "execution_count": null,
   "metadata": {},
   "outputs": [],
   "source": [
    "frame = DataFrame(\n",
    "    {\n",
    "        'b': [4,7,-3,2],\n",
    "        'a': [0,1,0,1]\n",
    "    }\n",
    ")\n",
    "\n",
    "print(frame) ; print('-'*32)\n",
    "print(frame.sort_values(by='a')); print('-'*32)\n",
    "print(frame.sort_values(by='b')) ; print('-'*32)\n",
    "print(frame.sort_values(by=['a','b'])); print('-'*32)\n",
    "\n",
    "#print(frame.sort_index(by='a')) ; print('-'*32)\n",
    "#print(frame.sort_index(by='b')) ; print('-'*32)\n",
    "#print(frame.sort_index(by=['a','b'])); print('-'*32)"
   ]
  },
  {
   "cell_type": "code",
   "execution_count": null,
   "metadata": {},
   "outputs": [],
   "source": [
    "obj = Series([7,-5,7,4,2,0,4])\n",
    "print( obj )\n",
    "print( obj.rank() )\n",
    "print( obj.rank(method='first') )\n",
    "print( obj.rank(ascending=False, method='max'))"
   ]
  },
  {
   "cell_type": "code",
   "execution_count": null,
   "metadata": {},
   "outputs": [],
   "source": [
    "frame = DataFrame(\n",
    "    {\n",
    "        'b' : [4.3, 7, -3, 2],\n",
    "        'a' : [0,1,0,1],\n",
    "        'c' : [-2, 5, 8, -2.5]\n",
    "    }\n",
    ")\n",
    "\n",
    "print( frame )\n",
    "print( frame.rank( axis=1 ) )"
   ]
  },
  {
   "cell_type": "markdown",
   "metadata": {},
   "source": [
    "**排名时用于破坏平衡关系的method选项**\n",
    "- 'average'\n",
    "- 'min'\n",
    "- 'max'\n",
    "- 'first'"
   ]
  },
  {
   "cell_type": "markdown",
   "metadata": {},
   "source": [
    "#### 带有重复值的轴索引"
   ]
  },
  {
   "cell_type": "code",
   "execution_count": null,
   "metadata": {},
   "outputs": [],
   "source": [
    "obj = Series( range(5), index=list('aabbc'))\n",
    "print ( obj )\n",
    "print ( obj.index.is_unique )\n",
    "print ( obj.a ); print ( type( obj.a ) )\n",
    "print ( obj.c ); print ( type( obj.c ) )"
   ]
  },
  {
   "cell_type": "code",
   "execution_count": null,
   "metadata": {},
   "outputs": [],
   "source": [
    "df = DataFrame(np.random.randn(4,3), index=list('aabb'))\n",
    "print ( df )\n",
    "print ( df.loc['b'] )"
   ]
  },
  {
   "cell_type": "markdown",
   "metadata": {},
   "source": [
    "### 汇总和计算描述统计"
   ]
  },
  {
   "cell_type": "markdown",
   "metadata": {},
   "source": [
    "### 处理缺失数据"
   ]
  },
  {
   "cell_type": "markdown",
   "metadata": {},
   "source": [
    "### 层次化索引"
   ]
  },
  {
   "cell_type": "markdown",
   "metadata": {},
   "source": [
    "### 其他有关Pandas的话题"
   ]
  }
 ],
 "metadata": {
  "kernelspec": {
   "display_name": "Python 3",
   "language": "python",
   "name": "python3"
  },
  "language_info": {
   "codemirror_mode": {
    "name": "ipython",
    "version": 3
   },
   "file_extension": ".py",
   "mimetype": "text/x-python",
   "name": "python",
   "nbconvert_exporter": "python",
   "pygments_lexer": "ipython3",
   "version": "3.5.2"
  },
  "toc": {
   "base_numbering": 1,
   "nav_menu": {
    "height": "212px",
    "width": "254px"
   },
   "number_sections": true,
   "sideBar": true,
   "skip_h1_title": false,
   "title_cell": "Table of Contents",
   "title_sidebar": "Contents",
   "toc_cell": false,
   "toc_position": {
    "height": "calc(100% - 180px)",
    "left": "10px",
    "top": "150px",
    "width": "288.6px"
   },
   "toc_section_display": true,
   "toc_window_display": true
  }
 },
 "nbformat": 4,
 "nbformat_minor": 2
}
